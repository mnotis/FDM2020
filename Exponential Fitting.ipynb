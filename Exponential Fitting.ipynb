{
 "cells": [
  {
   "cell_type": "code",
   "execution_count": 15,
   "metadata": {},
   "outputs": [],
   "source": [
    "import numpy as np\n",
    "import matplotlib.pyplot as plt\n",
    "import h5py\n",
    "import os\n",
    "from scipy.optimize import minimize\n",
    "import scipy.constants as const"
   ]
  },
  {
   "cell_type": "code",
   "execution_count": 40,
   "metadata": {},
   "outputs": [],
   "source": [
    "#cuts off a distance array such that it only has elements < a certain length\n",
    "\n",
    "def dist_cutoff(dist, dist_lim):\n",
    "    distance = []\n",
    "    for x in dist:\n",
    "        if (x < dist_lim):\n",
    "            distance.append(x)\n",
    "    return np.asarray(distance)"
   ]
  },
  {
   "cell_type": "code",
   "execution_count": 41,
   "metadata": {},
   "outputs": [],
   "source": [
    "#cuts off a density array at a given number of elements\n",
    "#not in place\n",
    "\n",
    "def dens_cutoff(dens, n_elements):\n",
    "    densities = np.zeros(n_elements)\n",
    "    for i in range(0, n_elements):\n",
    "        densities[i] = dens[i]\n",
    "    return densities"
   ]
  },
  {
   "cell_type": "code",
   "execution_count": 42,
   "metadata": {},
   "outputs": [],
   "source": [
    "# Trying to fit a Gaussian\n",
    "\n",
    "def expon(r, rc, rho):\n",
    "    return rho * np.exp(-1*(r/rc))"
   ]
  },
  {
   "cell_type": "code",
   "execution_count": 47,
   "metadata": {},
   "outputs": [],
   "source": [
    "#X2 function for Gauss\n",
    "\n",
    "def X2_fun_exp(x, dist, dens, dist_lim):\n",
    "    #args[0] = f \n",
    "    #args[1] = dist \n",
    "    #args[2] = dens \n",
    "    #args[3] = dist_lim\n",
    "    rc = x[0]\n",
    "    rho = x[1] \n",
    "    r = dist_cutoff(dist, dist_lim)\n",
    "    densities = dens_cutoff(dens, len(r))\n",
    "    X2 = (((expon(r, rc, rho)) - densities)**2)\n",
    "    indices = [10, len(X2)-1]\n",
    "    return X2[indices].sum()"
   ]
  },
  {
   "cell_type": "code",
   "execution_count": 48,
   "metadata": {},
   "outputs": [],
   "source": [
    "#radial-density fitting function\n",
    "#params are two nparrays\n",
    "#analytic radial profile function\n",
    "\n",
    "def fit_profile_exp(dist, dens, dist_lim):\n",
    "    dist1 = np.sort(dist)\n",
    "    dens1 = (-1)*(np.sort(dens*(-1)))\n",
    "    params = (dist1, dens1, dist_lim)\n",
    "    p = (0.24, dens[10])\n",
    "    x0 = np.asarray(p)\n",
    "    result = minimize(X2_fun_exp, x0, args = params)\n",
    "    return result"
   ]
  },
  {
   "cell_type": "code",
   "execution_count": 34,
   "metadata": {},
   "outputs": [
    {
     "data": {
      "text/plain": [
       "<Figure size 432x288 with 0 Axes>"
      ]
     },
     "metadata": {},
     "output_type": "display_data"
    }
   ],
   "source": [
    "# In simple fit case, computing rc as a function of f\n",
    "f_vals = [np.Inf, 4, 2, 1.75, 1.5, 1.25, 1.1875, 1.1562, 1.1484]\n",
    "f = np.asarray(f_vals)\n",
    "rc_vals = np.zeros(len(f_vals))\n",
    "rho_vals = np.zeros(len(f_vals))\n",
    "\n",
    "pathInf = '/mnt/c/Users/Noah Notis/Dropbox/USRP2020_Noah/src/FDM2020/rad_files/fInfL20T4n400r256/rad_filesradial0400.h5'\n",
    "path4 = '/mnt/c/Users/Noah Notis/Dropbox/USRP2020_Noah/src/FDM2020/rad_files/f4L20T4n400r256/radial0400.h5'\n",
    "path2 = '/mnt/c/Users/Noah Notis/Dropbox/USRP2020_Noah/src/FDM2020/rad_files/f2L20T4n400r256/radial0400.h5'\n",
    "path175 = '/mnt/c/Users/Noah Notis/Dropbox/USRP2020_Noah/src/FDM2020/rad_files/f1.75L20T4n40r256/radial0040.h5'\n",
    "path15 = '/mnt/c/Users/Noah Notis/Dropbox/USRP2020_Noah/src/FDM2020/rad_files/f1.5L20T4n400r256/radial0400.h5'\n",
    "path125 = '/mnt/c/Users/Noah Notis/Dropbox/USRP2020_Noah/src/FDM2020/rad_files/f1.25L20T4n40r256/radial0040.h5'\n",
    "path11875 = '/mnt/c/Users/Noah Notis/Dropbox/USRP2020_Noah/src/FDM2020/rad_files/f1.1875L20T4n40r256/radial0040.h5'\n",
    "path11562 = '/mnt/c/Users/Noah Notis/Dropbox/USRP2020_Noah/src/FDM2020/rad_files/f1.1562L20T4n40r256/radial0040.h5'\n",
    "path11484 = '/mnt/c/Users/Noah Notis/Dropbox/USRP2020_Noah/src/FDM2020/rad_files/f1.1484L20T4n40r256/radial0040.h5'\n",
    "\n",
    "paths = [pathInf, path4, path2, path175, path15, path125, path11875, path11562, path11484]\n",
    "for i in range(0, len(paths)):\n",
    "    f_val = f_vals[i]\n",
    "    hf = h5py.File(paths[i], 'r')\n",
    "    dist = np.array(hf['distances'])\n",
    "    dens = np.array(hf['densities'])\n",
    "    res = fit_profile_exp(dist, dens, 0.40)\n",
    "    rc = (res.x[0])\n",
    "    rho = res.x[1]\n",
    "    plt.scatter(dist, dens, s = 1)\n",
    "    plt.plot(dist, expon(dist, rc, rho), 'r')\n",
    "    plt.xscale('log')\n",
    "    plt.yscale('log')\n",
    "    plt.xlabel('Radial Distance (kpc)')\n",
    "    plt.ylabel('Density (Msun / (kpc)^3)')\n",
    "    plt.title('Radial Distance vs. Density, f = ' + str(f_val))\n",
    "    plt.ylim(10**4, 10**(12.5))\n",
    "    plt.xlim(10**(-2), 10**(1.4))\n",
    "    paramstr = 'rc = ' + \"%.2f\" % rc + \", \" + \"%.2f\" % rho\n",
    "    plt.legend([paramstr])\n",
    "    plt.savefig('/mnt/c/Users/Noah Notis/Dropbox/USRP2020_Noah/src/FDM2020/pics/function_fitting/exponential_function/exponential_fit_f' + str(f_val) + '.png', dpi = 200)\n",
    "    plt.clf()\n",
    "    rc_vals[i] = np.abs(rc)\n",
    "    rho_vals[i] = rho\n",
    "\n",
    "#rc plot\n",
    "plt.scatter((f**-1), rc_vals)\n",
    "plt.xlabel('1/f')\n",
    "plt.ylabel('rc')\n",
    "plt.title('rc parameter as a function of f^-1 (Gaussian)')\n",
    "plt.savefig('/mnt/c/Users/Noah Notis/Dropbox/USRP2020_Noah/src/FDM2020/pics/function_fitting/exponential_function/rc_scaling.png', dpi = 200)\n",
    "plt.clf()\n",
    "\n",
    "#rho plot\n",
    "plt.scatter((f**-1), rho_vals)\n",
    "plt.yscale('log')\n",
    "plt.xlabel('1/f')\n",
    "plt.ylabel('rho')\n",
    "plt.title('rho parameter as a function of f^-1 (Gaussian)')\n",
    "plt.savefig('/mnt/c/Users/Noah Notis/Dropbox/USRP2020_Noah/src/FDM2020/pics/function_fitting/exponential_function/rho_scaling.png', dpi = 200)\n",
    "plt.clf()"
   ]
  },
  {
   "cell_type": "code",
   "execution_count": 50,
   "metadata": {},
   "outputs": [
    {
     "name": "stdout",
     "output_type": "stream",
     "text": [
      "      fun: 2288373557518099.0\n",
      " hess_inv: array([[7.38588362e-17, 0.00000000e+00],\n",
      "       [0.00000000e+00, 1.00000000e+00]])\n",
      "      jac: array([0., 0.])\n",
      "  message: 'Optimization terminated successfully.'\n",
      "     nfev: 108\n",
      "      nit: 8\n",
      "     njev: 27\n",
      "   status: 0\n",
      "  success: True\n",
      "        x: array([9.16945009e-01, 1.61666104e+08])\n"
     ]
    },
    {
     "data": {
      "text/plain": [
       "<matplotlib.legend.Legend at 0x7fde7cb3d050>"
      ]
     },
     "execution_count": 50,
     "metadata": {},
     "output_type": "execute_result"
    },
    {
     "data": {
      "image/png": "[encoded data removed]",
      "text/plain": [
       "<Figure size 432x288 with 1 Axes>"
      ]
     },
     "metadata": {
      "needs_background": "light"
     },
     "output_type": "display_data"
    }
   ],
   "source": [
    "path125 = '/mnt/c/Users/Noah Notis/Dropbox/USRP2020_Noah/src/FDM2020/rad_files/f1L20T4n400r256/radial0400.h5'\n",
    "hf125 = h5py.File(path125, 'r')\n",
    "dist125 = np.array(hf125['distances'])\n",
    "dens125 = np.array(hf125['densities'])\n",
    "res = fit_profile_exp(dist125, dens125, 1.5)\n",
    "rc125 = np.abs(res.x[0])\n",
    "rho125 = res.x[1]\n",
    "\n",
    "print(res)\n",
    "\n",
    "plt.scatter(dist125, dens125, s = 1)\n",
    "plt.plot(np.linspace(0, 1.5, 100000), expon(np.linspace(0, 1.5, 100000), rc125, rho125), 'r')\n",
    "plt.xscale('log')\n",
    "plt.yscale('log')\n",
    "plt.xlabel('Radial Distance (kpc)')\n",
    "plt.ylabel('Density (Msun / (kpc)^3)')\n",
    "plt.title('Radial Distance vs. Density, f = 1.25')\n",
    "plt.ylim(10**4, 10**(12.5))\n",
    "plt.xlim(10**(-2), 10**(3))\n",
    "paramstr = 'params = ' + \"%.2f\" % rc125 + \", \" + \"%.2f\" % rho125 \n",
    "plt.legend([paramstr])\n",
    "#plt.savefig('/mnt/c/Users/Noah Notis/Dropbox/USRP2020_Noah/src/FDM2020/pics/simple_function/)"
   ]
  },
  {
   "cell_type": "code",
   "execution_count": null,
   "metadata": {},
   "outputs": [],
   "source": []
  }
 ],
 "metadata": {
  "kernelspec": {
   "display_name": "Python 3",
   "language": "python",
   "name": "python3"
  },
  "language_info": {
   "codemirror_mode": {
    "name": "ipython",
    "version": 3
   },
   "file_extension": ".py",
   "mimetype": "text/x-python",
   "name": "python",
   "nbconvert_exporter": "python",
   "pygments_lexer": "ipython3",
   "version": "3.7.6"
  }
 },
 "nbformat": 4,
 "nbformat_minor": 4
}
