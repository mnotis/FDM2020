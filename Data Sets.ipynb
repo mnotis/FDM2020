{
 "cells": [
  {
   "cell_type": "markdown",
   "metadata": {},
   "source": [
    "Data Sets"
   ]
  },
  {
   "cell_type": "code",
   "execution_count": 5,
   "metadata": {},
   "outputs": [],
   "source": [
    "import numpy as np\n",
    "import matplotlib.pyplot as plt\n",
    "import h5py\n",
    "import os\n",
    "from scipy.optimize import minimize\n",
    "from scipy.integrate import quad"
   ]
  },
  {
   "cell_type": "code",
   "execution_count": null,
   "metadata": {},
   "outputs": [],
   "source": [
    "gals = ['DraII', 'WillI', 'SegI', 'TriIII', 'LeoIV', 'Sculptor', 'Fornax']\n",
    "mass =[ , 3.86*10**5, 6.01*10**5, , 1.14*10**6,  , 7.39*10**7 ]\n",
    "mass_error = [, (2.49, -1.6), (5.07,-2.80), (), (3.50, −0.92), (), (0.41, −0.36)]\n",
    "radius = [, 33, 38, , 151, , 944]\n",
    "radial_error =[(), (7, -8), (10, -7), (), (34, -44), (), (53, -53)]\n"
   ]
  },
  {
   "cell_type": "code",
   "execution_count": 37,
   "metadata": {},
   "outputs": [
    {
     "data": {
      "text/plain": [
       "\"\\n\\nradius_list = np.array([np.array([0.025976919, 0.097089692, 0.337108572]), np.array([0.032909418, 0.324435835]), np.array([0.037697119, 0.743331664]), np.array([0.043591075, 0.232132411]), np.array([0.151810025, 0.396567953]), np.array([0.21393682, 0.378857989, 0.39261598]), np.array([0.305082322, 0.70945276, 0.948841697, 1.147239571])])\\n\\n#mass_list = [[310276.708, 1397058.273, 9198062.784], [378057.4109, 23601374.37], [587458.1018, 26652783.67], [772304.8797, 6996558.802], [1112255.65, 20584074.88], [5742168.172, 21874291.4, 32475149.21], [7435105.387, 46064497.36, 71578975.57, 153044766.1]]\\n#print(np.array(radius_list))\\n#print(mass_list)\\n\\n\\n#example of creating an h5 file.\\nhf = h5py.File('test5' + '.h5', 'w')\\n#hf.create_dataset('Galaxy Names', data=gals_digit)\\nhf.create_dataset('Galaxy Radii', data=radius_list)\\n#hf.create_dataset('Galaxy Masses', data=mass)\\nhf.close()\\n\""
      ]
     },
     "execution_count": 37,
     "metadata": {},
     "output_type": "execute_result"
    }
   ],
   "source": [
    "#gals_digit = np.array(['DraII', 'WillI', 'SegI', 'TriIII', 'LeoIV', 'Sculptor', 'Fornax'])\n",
    "\n",
    "rad1 = np.array([0.025976919, 0.097089692, 0.337108572])\n",
    "rad2 = np.array([0.032909418, 0.324435835])\n",
    "rad3 = np.array([0.037697119, 0.743331664])\n",
    "rad4 = np.array([0.043591075, 0.232132411])\n",
    "rad5 = np.array([0.151810025, 0.396567953])\n",
    "rad6 = np.array([0.21393682, 0.378857989, 0.39261598])\n",
    "rad7 = np.array([0.305082322, 0.70945276, 0.948841697, 1.147239571])\n",
    "\n",
    "mass1 = np.array([310276.708, 1397058.273, 9198062.784])\n",
    "mass2 = np.array([378057.4109, 23601374.37])\n",
    "mass3 = np.array([587458.1018, 26652783.67])\n",
    "mass4 = np.array([772304.8797, 6996558.802])\n",
    "mass5 = np.array([1112255.65, 20584074.88])\n",
    "mass6 = np.array([5742168.172, 21874291.4, 32475149.21])\n",
    "mass7 = np.array([7435105.387, 46064497.36, 71578975.57, 153044766.1])\n",
    "\n",
    "\n",
    "#print(gals_digit)\n",
    "\n",
    "hf = h5py.File('galaxies_data' + '.h5', 'w')\n",
    "#hf.create_dataset('Galaxy Names', data=gals_digit)\n",
    "hf.create_dataset('DraII_rad', data=rad1)\n",
    "hf.create_dataset('DraII_mass', data=mass1)\n",
    "hf.create_dataset('WillI_rad', data=rad2)\n",
    "hf.create_dataset('WillI_mass', data=mass2)\n",
    "hf.create_dataset('SegI_rad', data=rad3)\n",
    "hf.create_dataset('SegI_mass', data=mass3)\n",
    "hf.create_dataset('TriIII_rad', data=rad4)\n",
    "hf.create_dataset('TriIII_mass', data=mass4)\n",
    "hf.create_dataset('LeoIV_rad', data=rad5)\n",
    "hf.create_dataset('LeoIV_mass', data=mass5)\n",
    "hf.create_dataset('Sculptor_rad', data=rad6)\n",
    "hf.create_dataset('Sculptor_mass', data=mass6)\n",
    "hf.create_dataset('Fornax_rad', data=rad7)\n",
    "hf.create_dataset('Fornax_mass', data=mass7)\n",
    "\n",
    "hf.close()\n",
    "'''\n",
    "\n",
    "radius_list = np.array([np.array([0.025976919, 0.097089692, 0.337108572]), np.array([0.032909418, 0.324435835]), np.array([0.037697119, 0.743331664]), np.array([0.043591075, 0.232132411]), np.array([0.151810025, 0.396567953]), np.array([0.21393682, 0.378857989, 0.39261598]), np.array([0.305082322, 0.70945276, 0.948841697, 1.147239571])])\n",
    "\n",
    "#mass_list = [[310276.708, 1397058.273, 9198062.784], [378057.4109, 23601374.37], [587458.1018, 26652783.67], [772304.8797, 6996558.802], [1112255.65, 20584074.88], [5742168.172, 21874291.4, 32475149.21], [7435105.387, 46064497.36, 71578975.57, 153044766.1]]\n",
    "#print(np.array(radius_list))\n",
    "#print(mass_list)\n",
    "\n",
    "\n",
    "#example of creating an h5 file.\n",
    "hf = h5py.File('test5' + '.h5', 'w')\n",
    "#hf.create_dataset('Galaxy Names', data=gals_digit)\n",
    "hf.create_dataset('Galaxy Radii', data=radius_list)\n",
    "#hf.create_dataset('Galaxy Masses', data=mass)\n",
    "hf.close()\n",
    "'''\n"
   ]
  },
  {
   "cell_type": "code",
   "execution_count": 4,
   "metadata": {},
   "outputs": [
    {
     "data": {
      "image/png": "[encoded data removed]",
      "text/plain": [
       "<Figure size 432x288 with 1 Axes>"
      ]
     },
     "metadata": {
      "needs_background": "light"
     },
     "output_type": "display_data"
    }
   ],
   "source": [
    "hf = h5py.File('galaxies_data.h5', 'r')\n",
    "\n",
    "DraII_mass = hf['DraII_mass'][:]\n",
    "DraII_rad = hf['DraII_rad'][:]\n",
    "\n",
    "Fornax_mass = hf['Fornax_mass'][:]\n",
    "Fornax_rad = hf['Fornax_rad'][:]\n",
    "\n",
    "LeoIV_mass = hf['LeoIV_mass'][:]\n",
    "LeoIV_rad = hf['LeoIV_rad'][:]\n",
    "\n",
    "Sculptor_mass = hf['Sculptor_mass'][:]\n",
    "Sculptor_rad = hf['Sculptor_rad'][:]\n",
    "\n",
    "SegI_mass = hf['SegI_mass'][:]\n",
    "SegI_rad = hf['SegI_rad'][:]\n",
    "\n",
    "TriIII_mass = hf['TriIII_mass'][:]\n",
    "TriIII_rad = hf['TriIII_rad'][:]\n",
    "\n",
    "WillI_mass = hf['WillI_mass'][:]\n",
    "WillI_rad = hf['WillI_rad'][:]\n",
    "\n",
    "plt.scatter(DraII_rad, DraII_mass, s = 10)\n",
    "plt.scatter(Fornax_rad, Fornax_mass, s = 10)\n",
    "plt.scatter(LeoIV_rad, LeoIV_mass, s = 10)\n",
    "plt.scatter(Sculptor_rad, Sculptor_mass, s = 10)\n",
    "plt.scatter(SegI_rad, SegI_mass, s = 10)\n",
    "plt.scatter(TriIII_rad, TriIII_mass, s = 10)\n",
    "plt.scatter(WillI_rad, WillI_mass, s = 10)\n",
    "\n",
    "plt.xscale('log')\n",
    "plt.yscale('log')\n",
    "plt.xlabel('Radial Distance (kpc)')\n",
    "plt.ylabel('M(enclosed) (Msun)')\n",
    "plt.title('Enclosed Mass vs. Distance')\n",
    "plt.ylim(10**(5), 10**(11))\n",
    "plt.xlim(10**(-3), 10**(1))\n",
    "\n",
    "plt.legend(['DraII', 'Fornax', 'LeoIV', 'Sculptor', 'SegI', 'TriIII', 'WillI'])\n",
    "plt.savefig('dwarf_galaxies.png', dpi = 200)"
   ]
  },
  {
   "cell_type": "code",
   "execution_count": null,
   "metadata": {},
   "outputs": [],
   "source": [
    "#analytic profile of the core\n",
    "\n",
    "def an_prof(r, rc, m22):\n",
    "    rho = ((1.9*10**7) / (rc**4))/(m22**2)\n",
    "    term = (1 + 0.091*(r/rc)**2)**-8\n",
    "    return rho * term"
   ]
  },
  {
   "cell_type": "code",
   "execution_count": null,
   "metadata": {},
   "outputs": [],
   "source": [
    "# calculates the spherical shell mass at a given point\n",
    "def enclosed_mass(r, dens):\n",
    "    V = 4*np.pi*r**2\n",
    "    return V*dens"
   ]
  },
  {
   "cell_type": "code",
   "execution_count": 7,
   "metadata": {},
   "outputs": [],
   "source": [
    "#analytic profile of the core\n",
    "\n",
    "def an_prof2(r, rc, m22):\n",
    "    rho = ((1.9*10**7) / (rc**4))/(m22**2)\n",
    "    term = (1 + 0.091*(r/rc)**2)**-8\n",
    "    return rho * term * 4*np.pi*(r**2)"
   ]
  },
  {
   "cell_type": "code",
   "execution_count": 8,
   "metadata": {},
   "outputs": [
    {
     "data": {
      "image/png": "[encoded data removed]",
      "text/plain": [
       "<Figure size 432x288 with 1 Axes>"
      ]
     },
     "metadata": {
      "needs_background": "light"
     },
     "output_type": "display_data"
    }
   ],
   "source": [
    "def plotter(upper_bound,rc,m22, c):\n",
    "    r = np.linspace(0, upper_bound, 10000)\n",
    "    m_enc = np.zeros(10000)\n",
    "    for i in range(1, 10000):\n",
    "        I = quad(an_prof2, 0, r[i], args=(rc,m22))\n",
    "        m_enc[i] = I[0]\n",
    "    plt.plot(r, m_enc, c)\n",
    "    plt.xscale('log')\n",
    "    plt.yscale('log')\n",
    "    plt.xlabel('Radial Distance (kpc)')\n",
    "    plt.ylabel('M(enclosed) (Msun)')\n",
    "    plt.title('Enclosed Mass vs. Distance')\n",
    "    plt.ylim(10**(5), 10**(14))\n",
    "    plt.xlim(10**(-3), 10**(1))\n",
    "\n",
    "plotter(15, 0.18, 0.1, 'b')\n",
    "plotter(15, 0.18, 1, 'r')\n",
    "plotter(15, 0.18, 10, 'g')\n"
   ]
  },
  {
   "cell_type": "code",
   "execution_count": null,
   "metadata": {},
   "outputs": [],
   "source": [
    "hf = h5py.File('galaxies_data.h5', 'r')\n",
    "\n",
    "DraII_mass = hf['DraII_mass'][:]\n",
    "DraII_rad = hf['DraII_rad'][:]\n",
    "\n",
    "Fornax_mass = hf['Fornax_mass'][:]\n",
    "Fornax_rad = hf['Fornax_rad'][:]\n",
    "\n",
    "LeoIV_mass = hf['LeoIV_mass'][:]\n",
    "LeoIV_rad = hf['LeoIV_rad'][:]\n",
    "\n",
    "Sculptor_mass = hf['Sculptor_mass'][:]\n",
    "Sculptor_rad = hf['Sculptor_rad'][:]\n",
    "\n",
    "SegI_mass = hf['SegI_mass'][:]\n",
    "SegI_rad = hf['SegI_rad'][:]\n",
    "\n",
    "TriIII_mass = hf['TriIII_mass'][:]\n",
    "TriIII_rad = hf['TriIII_rad'][:]\n",
    "\n",
    "WillI_mass = hf['WillI_mass'][:]\n",
    "WillI_rad = hf['WillI_rad'][:]\n",
    "\n",
    "plt.scatter(DraII_rad, DraII_mass, s = 10)\n",
    "plt.scatter(Fornax_rad, Fornax_mass, s = 10)\n",
    "plt.scatter(LeoIV_rad, LeoIV_mass, s = 10)\n",
    "plt.scatter(Sculptor_rad, Sculptor_mass, s = 10)\n",
    "plt.scatter(SegI_rad, SegI_mass, s = 10)\n",
    "plt.scatter(TriIII_rad, TriIII_mass, s = 10)\n",
    "plt.scatter(WillI_rad, WillI_mass, s = 10)\n",
    "\n",
    "plt.xscale('log')\n",
    "plt.yscale('log')\n",
    "plt.xlabel('Radial Distance (kpc)')\n",
    "plt.ylabel('M(enclosed) (Msun)')\n",
    "plt.title('Enclosed Mass vs. Distance')\n",
    "plt.ylim(10**(5), 10**(11))\n",
    "plt.xlim(10**(-3), 10**(1))\n",
    "\n",
    "plt.legend(['DraII', 'Fornax', 'LeoIV', 'Sculptor', 'SegI', 'TriIII', 'WillI'])\n",
    "plt.savefig('dwarf_galaxies.png', dpi = 200)"
   ]
  }
 ],
 "metadata": {
  "kernelspec": {
   "display_name": "Python 3",
   "language": "python",
   "name": "python3"
  },
  "language_info": {
   "codemirror_mode": {
    "name": "ipython",
    "version": 3
   },
   "file_extension": ".py",
   "mimetype": "text/x-python",
   "name": "python",
   "nbconvert_exporter": "python",
   "pygments_lexer": "ipython3",
   "version": "3.7.6"
  }
 },
 "nbformat": 4,
 "nbformat_minor": 4
}
