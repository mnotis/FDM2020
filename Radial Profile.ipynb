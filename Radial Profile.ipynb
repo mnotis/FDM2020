{
 "cells": [
  {
   "cell_type": "markdown",
   "metadata": {},
   "source": [
    "Program that takes in an hdf5 file with 3d array of simulation and outputs the radial profile. Then attempts to fit it onto the analytic radial profile."
   ]
  },
  {
   "cell_type": "code",
   "execution_count": 14,
   "metadata": {},
   "outputs": [],
   "source": [
    "import numpy as np\n",
    "import matplotlib.pyplot as plt\n",
    "import h5py\n",
    "import os\n",
    "from scipy.optimize import minimize"
   ]
  },
  {
   "cell_type": "markdown",
   "metadata": {},
   "source": [
    "Function takes in path for hdf5 file and outputs a 3d array with all the densities:"
   ]
  },
  {
   "cell_type": "code",
   "execution_count": 15,
   "metadata": {},
   "outputs": [],
   "source": [
    "# function takes in a path and outputs a 3d array of the density profile.\n",
    "\n",
    "def file_to_density(path_name):\n",
    "    hf = h5py.File(path_name, 'r')\n",
    "    psi_real = np.array(hf['psiRe'])\n",
    "    psi_im = np.array(hf['psiIm'])\n",
    "    psi_real2 = psi_real**2\n",
    "    psi_im2 = psi_im**2\n",
    "    rho = (psi_real2 + psi_im2)\n",
    "    return rho"
   ]
  },
  {
   "cell_type": "markdown",
   "metadata": {},
   "source": [
    "Function rolls the density array so that the core is in the center of the image."
   ]
  },
  {
   "cell_type": "code",
   "execution_count": 4,
   "metadata": {},
   "outputs": [],
   "source": [
    "#function takes in a cubic np density array and rolls it so tha the highest point is in the center.\n",
    "#only to be used for the steady state images\n",
    "\n",
    "def rho_roll(rho):\n",
    "    rho_len = rho.shape[0]\n",
    "    # finding the maximum value's index\n",
    "    max_ind = np.where(rho == np.amax(rho))\n",
    "    x_max = max_ind[0][0]\n",
    "    y_max = max_ind[1][0]\n",
    "    z_max = max_ind[2][0]\n",
    "    signed_x_dist_to_cent = int(rho_len / 2) - x_max\n",
    "    signed_y_dist_to_cent = int(rho_len / 2) - y_max\n",
    "    signed_z_dist_to_cent = int(rho_len / 2) - z_max\n",
    "    #moving the core to the center of the cube\n",
    "    rho_n = np.roll(rho, signed_x_dist_to_cent, axis=0)\n",
    "    rho_n2 = np.roll(rho_n, signed_y_dist_to_cent, axis=1)\n",
    "    rho_n3 = np.roll(rho_n2, signed_z_dist_to_cent, axis=2)\n",
    "    rho = rho_n3\n",
    "    return rho"
   ]
  },
  {
   "cell_type": "markdown",
   "metadata": {},
   "source": [
    "A helper function that computes the distance between two 3d points."
   ]
  },
  {
   "cell_type": "code",
   "execution_count": 5,
   "metadata": {},
   "outputs": [],
   "source": [
    "# function that calculates distances between two 3d points:\n",
    "\n",
    "def get_distance(a, b):\n",
    "    return np.sqrt((a[0] - b[0])**2 + (a[1] - b[1])**2 + (a[2]- b[2])**2)"
   ]
  },
  {
   "cell_type": "markdown",
   "metadata": {},
   "source": [
    "Function returns a dictionary with the radii as keys and a list of the densities as values."
   ]
  },
  {
   "cell_type": "code",
   "execution_count": 6,
   "metadata": {
    "scrolled": true
   },
   "outputs": [
    {
     "name": "stdout",
     "output_type": "stream",
     "text": [
      "4\n",
      "[1.73205081 1.41421356 1.         0.        ]\n"
     ]
    }
   ],
   "source": [
    "#function that takes in a 3d array with highest point at the center and calculates\n",
    "#the density as a function of radius fromt the center of the core. returns as a dictionary with\n",
    "#distances as keys and a list of the densities as the value.\n",
    "\n",
    "def radial_density(rho):\n",
    "    rho_len = rho.shape[0]\n",
    "    center = int(rho_len / 2)\n",
    "    radii_den = {}\n",
    "    for i in range(0, rho_len):\n",
    "        for j in range(0, rho_len):\n",
    "            for k in range(0, rho_len):\n",
    "                dist = get_distance([center, center, center], [i, j, k])\n",
    "                dens = rho[i][j][k]\n",
    "                if dist not in radii_den:\n",
    "                    radii_den[dist] = [dens]\n",
    "                else:\n",
    "                    radii_den[dist].append(dens)\n",
    "    return radii_den\n",
    "\n",
    "# testing\n",
    "a = np.array([[[1, 2], [3, 4]], [[5, 6], [7, 8]]])\n",
    "b = np.array([[[1, 4], [3, 4]], [[5, 6], [7, 8]]])\n",
    "dict = radial_density(a)\n",
    "print(len(dict))\n",
    "dist = np.fromiter(dict.keys(), dtype=float)\n",
    "print(dist)\n"
   ]
  },
  {
   "cell_type": "markdown",
   "metadata": {},
   "source": [
    "This function takes in a dictionary of radii and densities and returns two numpy arrays, one with radii and the other with average densities."
   ]
  },
  {
   "cell_type": "code",
   "execution_count": 6,
   "metadata": {},
   "outputs": [],
   "source": [
    "#function that plots radial density. Takes in a dictionary with densities as keys\n",
    "# and the densities as values and outputs two np arrays, one with the distances \n",
    "# and one with the ---average--- density at that radial distance.\n",
    "\n",
    "def rad_avg_den(dict, scale_factor):\n",
    "    dict_len = len(dict)\n",
    "    dist = np.fromiter(dict.keys(), dtype=float)\n",
    "    avgs = np.zeros(dict_len)\n",
    "    for x in range(0, dict_len):\n",
    "        dens = np.array(dict[dist[x]])\n",
    "        avg = np.mean(dens)\n",
    "        avgs[x] = avg\n",
    "    return dist * scale_factor, avgs\n",
    "# testing\n",
    "#res = rad_avg_den(dict)\n",
    "#print(res[0])\n",
    "#print(res[1])"
   ]
  },
  {
   "cell_type": "markdown",
   "metadata": {},
   "source": [
    "Function returns two numpy arrays, one with the radial positions, and the other with all the densities, even the ones with the doubled up radial positions."
   ]
  },
  {
   "cell_type": "code",
   "execution_count": 7,
   "metadata": {},
   "outputs": [],
   "source": [
    "# function that takes in dictionary and prints two np arrays, one with the points\n",
    "# and another with the corresponding densities, including doubles.\n",
    "\n",
    "def rad_den(dict):\n",
    "    dict_len = len(dict)\n",
    "    dist_list = np.fromiter(dict.keys(), dtype=float)\n",
    "    dist = []\n",
    "    dens = []\n",
    "    for x in range(0, dict_len):\n",
    "        curr_dist = dist_list[x]\n",
    "        list_len = len(dict[dist_list[x]])\n",
    "        for i in range(0, list_len):\n",
    "            dist.append(curr_dist)\n",
    "            dens.append(dict[dist_list[x]][i])\n",
    "    dist = np.asarray(dist)\n",
    "    dens = np.asarray(dens)\n",
    "    return dist * (20/128), dens"
   ]
  },
  {
   "cell_type": "code",
   "execution_count": 8,
   "metadata": {},
   "outputs": [],
   "source": [
    "# from path to distance and average density arrays\n",
    "def file_to_rad_avg_den(path):\n",
    "    rho = file_to_density(path)\n",
    "    rho = rho_roll(rho)\n",
    "    scale_factor = 20 / rho.shape[0]\n",
    "    rad_den = radial_density(rho)\n",
    "    return rad_avg_den(rad_den, scale_factor)"
   ]
  },
  {
   "cell_type": "code",
   "execution_count": 9,
   "metadata": {},
   "outputs": [],
   "source": [
    "# from path to distance and unaveraged density arrays\n",
    "def file_to_rad_den(path):\n",
    "    rho = file_to_density(path)\n",
    "    rho = rho_roll(rho)\n",
    "    radial_den = radial_density(rho)\n",
    "    return rad_den(radial_den)"
   ]
  },
  {
   "cell_type": "markdown",
   "metadata": {},
   "source": [
    "Testing all the functions to see if they work:"
   ]
  },
  {
   "cell_type": "code",
   "execution_count": null,
   "metadata": {},
   "outputs": [],
   "source": [
    "#testing the file to density function\n",
    "path = '/mnt/c/Users/Noah Notis/Dropbox/USRP2020_Noah/src/output/fInfL20T4n400r128/snap0300.h5'\n",
    "res = file_to_rad_avg_den(path)\n",
    "res2 = file_to_rad_den(path)"
   ]
  },
  {
   "cell_type": "code",
   "execution_count": null,
   "metadata": {},
   "outputs": [],
   "source": [
    "print(len(res[0]))\n",
    "print(10e4)"
   ]
  },
  {
   "cell_type": "code",
   "execution_count": null,
   "metadata": {},
   "outputs": [],
   "source": [
    "fig_path = '/mnt/c/Users/Noah Notis/Dropbox/USRP2020_Noah/src/output/fInfL20T4n400r128'\n",
    "fig_name = 'pic300'\n",
    "plt.scatter(res[0], res[1])\n",
    "plt.xscale('log')\n",
    "plt.yscale('log')\n",
    "plt.xlabel('Radial Distance (kpc)')\n",
    "plt.ylabel('Density (Msun / (kpc)^3)')\n",
    "plt.title('Radial Distance vs. Density')\n",
    "plt.ylim(10**4, 10**(10.5))\n",
    "plt.xlim(10**(-0.5), 10**(2.2))\n",
    "plt.savefig(fig_path + \"/\" + fig_name)\n",
    "plt.clf()"
   ]
  },
  {
   "cell_type": "code",
   "execution_count": null,
   "metadata": {},
   "outputs": [],
   "source": [
    "#file to picture\n",
    "def file_to_pic(path_to_dir, fig_num, f_str):\n",
    "    res = file_to_rad_avg_den(path_to_dir + '/snap' + fig_num  + '.h5')\n",
    "    plt.scatter(res[0], res[1])\n",
    "    plt.xscale('log')\n",
    "    plt.yscale('log')\n",
    "    plt.xlabel('Radial Distance (kpc)')\n",
    "    plt.ylabel('Density (Msun / (kpc)^3)')\n",
    "    plt.title('Radial Distance vs. Density: f = ' + f_str)\n",
    "    plt.ylim(10**4, 10**(10.5))\n",
    "    plt.xlim(10**(-1), 10**(2.2))\n",
    "    plt.savefig(path_to_dir + \"/\" + f_str + 'pic' + fig_num)\n",
    "    plt.clf()"
   ]
  },
  {
   "cell_type": "code",
   "execution_count": null,
   "metadata": {},
   "outputs": [],
   "source": [
    "#testing\n",
    "file_to_pic('/mnt/c/Users/Noah Notis/Dropbox/USRP2020_Noah/src/output/fInfL20T4n400r128', '0350', 'Inf')\n",
    "file_to_pic('/mnt/c/Users/Noah Notis/Dropbox/USRP2020_Noah/src/output/f1L20T4n400r128', '0350', '1')\n",
    "file_to_pic('/mnt/c/Users/Noah Notis/Dropbox/USRP2020_Noah/src/output/f2L20T4n400r128', '0350', '2')\n",
    "file_to_pic('/mnt/c/Users/Noah Notis/Dropbox/USRP2020_Noah/src/output/f4L20T4n400r128', '0350', '4')\n"
   ]
  },
  {
   "cell_type": "markdown",
   "metadata": {},
   "source": [
    "Function fitting"
   ]
  },
  {
   "cell_type": "code",
   "execution_count": null,
   "metadata": {},
   "outputs": [],
   "source": [
    "test_path = '/mnt/c/Users/Noah Notis/Dropbox/USRP2020_Noah/src/output/f1L20T4n400r128/snap0350.h5'\n",
    "sample_data = file_to_rad_avg_den(test_path)\n",
    "print(sample_data[0])"
   ]
  },
  {
   "cell_type": "code",
   "execution_count": null,
   "metadata": {},
   "outputs": [],
   "source": [
    "#cuts off a distance array such that it only has elements < a certain length\n",
    "\n",
    "def dist_cutoff(dist, dist_lim):\n",
    "    distance = []\n",
    "    for x in dist:\n",
    "        if (x < dist_lim):\n",
    "            distance.append(x)\n",
    "    return np.asarray(distance)"
   ]
  },
  {
   "cell_type": "code",
   "execution_count": null,
   "metadata": {},
   "outputs": [],
   "source": [
    "#cuts off a density array at a given number of elements\n",
    "#not in place\n",
    "\n",
    "def dens_cutoff(dens, n_elements):\n",
    "    densities = np.zeros(n_elements)\n",
    "    for i in range(0, n_elements):\n",
    "        densities[i] = dens[i]\n",
    "    return densities"
   ]
  },
  {
   "cell_type": "code",
   "execution_count": null,
   "metadata": {},
   "outputs": [],
   "source": [
    "#analytic profile of the core\n",
    "\n",
    "def an_prof(r, rc):\n",
    "    rho = ((1.9*10**7) / (rc**4)) #*((1/0.1)**2)\n",
    "    term = (1 + 0.091*(r/rc)**2)**-8\n",
    "    return rho * term"
   ]
  },
  {
   "cell_type": "code",
   "execution_count": null,
   "metadata": {},
   "outputs": [],
   "source": [
    "#X2 function\n",
    "\n",
    "def X2_fun(rc, dist, dens, dist_lim):\n",
    "    r = dist_cutoff(dist, dist_lim)\n",
    "    densities = dens_cutoff(dens, len(r))\n",
    "    X2 = (((an_prof(r, rc)) - densities)**2)\n",
    "    indices = [0, len(X2)-1]\n",
    "    return X2[indices].sum()"
   ]
  },
  {
   "cell_type": "code",
   "execution_count": null,
   "metadata": {
    "scrolled": true
   },
   "outputs": [],
   "source": [
    "#radial-density fitting function\n",
    "#params are two nparrays\n",
    "#analytic radial profile function\n",
    "\n",
    "def fit_profile(dist, dens, dist_lim):\n",
    "    dist1 = np.sort(dist)\n",
    "    dens1 = (-1)*(np.sort(dens*(-1)))\n",
    "    params = (dist1, dens1, dist_lim)\n",
    "    x0 = np.asarray(3)\n",
    "    result = minimize(X2_fun, x0, args = params)\n",
    "    return result\n",
    "\n",
    "test_result = fit_profile(sample_data[0], sample_data[1], 10**(-1.1))\n",
    "print(test_result)\n",
    "\n",
    "#testing\n",
    "rc = test_result.x[0]\n",
    "dist_lim = 0.65\n",
    "r = sample_data[0]\n",
    "densities = sample_data[1]\n",
    "plt.scatter(r, densities)\n",
    "plt.plot(r, an_prof(r, rc))\n",
    "plt.xscale('log')\n",
    "plt.yscale('log')\n",
    "plt.xlabel('Radial Distance (kpc)')\n",
    "plt.ylabel('Density (Msun / (kpc)^3)')\n",
    "plt.title('Radial Distance vs. Density')\n",
    "plt.ylim(10**4, 10**(12.5))\n",
    "plt.xlim(10**(-2), 10**(1.4))\n",
    "textstr = 'rc = ' + \"%.2f\" % rc\n",
    "plt.legend(['Analytic Profile, rc = ' + \"%.2f\" % rc,'Simulation'])\n",
    "plt.show()"
   ]
  },
  {
   "cell_type": "code",
   "execution_count": null,
   "metadata": {},
   "outputs": [],
   "source": [
    "def file_to_pic_curve_fit(path, file, dist_lim):\n",
    "    arrs = file_to_rad_avg_den(path + '/' + file)\n",
    "    dist = arrs[0]\n",
    "    dens = arrs[1]\n",
    "    dist1 = np.sort(dist)\n",
    "    dens1 = (-1)*(np.sort(dens*(-1)))\n",
    "    res = fit_profile(dist1, dens1, dist_lim)\n",
    "    rc = res.x[0]\n",
    "    plt.scatter(dist1, dens1)\n",
    "    plt.plot(dist1, an_prof(dist1, rc))\n",
    "    plt.xscale('log')\n",
    "    plt.yscale('log')\n",
    "    plt.xlabel('Radial Distance (kpc)')\n",
    "    plt.ylabel('Density (Msun / (kpc)^3)')\n",
    "    plt.title('Radial Distance vs. Density')\n",
    "    plt.ylim(10**4, 10**(12.5))\n",
    "    plt.xlim(10**(-2), 10**(1.4))\n",
    "    textstr = 'rc = ' + \"%.2f\" % rc\n",
    "    plt.legend(['Analytic Profile, rc = ' + \"%.2f\" % rc,'Simulation'])\n",
    "    plt.savefig(path + '/pic' + file + '.png')\n",
    "    "
   ]
  },
  {
   "cell_type": "code",
   "execution_count": null,
   "metadata": {},
   "outputs": [],
   "source": [
    "file_to_pic_curve_fit('/mnt/c/Users/Noah Notis/Dropbox/USRP2020_Noah/src/output/f1L20T4n400r128', 'snap0350.h5', .1)"
   ]
  },
  {
   "cell_type": "code",
   "execution_count": null,
   "metadata": {},
   "outputs": [],
   "source": [
    "file_to_pic_curve_fit('/mnt/c/Users/Noah Notis/Dropbox/USRP2020_Noah/src/output/fInfL20T4n400r128', 'snap0350.h5', .65)"
   ]
  },
  {
   "cell_type": "code",
   "execution_count": null,
   "metadata": {},
   "outputs": [],
   "source": [
    "file_to_pic_curve_fit('/mnt/c/Users/Noah Notis/Dropbox/USRP2020_Noah/src/output/f2L20T4n400r128', 'snap0350.h5', 0.65)"
   ]
  },
  {
   "cell_type": "code",
   "execution_count": null,
   "metadata": {},
   "outputs": [],
   "source": [
    "file_to_pic_curve_fit('/mnt/c/Users/Noah Notis/Dropbox/USRP2020_Noah/src/output/f4L20T4n400r128', 'snap0350.h5', 0.65)"
   ]
  },
  {
   "cell_type": "code",
   "execution_count": null,
   "metadata": {},
   "outputs": [],
   "source": [
    "file_to_pic_curve_fit('/mnt/c/Users/Noah Notis/Dropbox/USRP2020_Noah/src/output/f1.5L20T4n400r128', 'snap0350.h5', 0.65)"
   ]
  },
  {
   "cell_type": "code",
   "execution_count": null,
   "metadata": {},
   "outputs": [],
   "source": [
    "# trying to write the radial profile to hdf5 file along with minimized rc parameter\n",
    "def path_to_radial_h5(path_to_folder, snap_number):\n",
    "    result = file_to_rad_avg_den(path_to_folder + '/snap' + str(snap_number).zfill(4) + '.h5')\n",
    "    dist = np.sort(result[0])\n",
    "    dens = (-1)*(np.sort(result[1]*(-1)))\n",
    "    dist_lim = 0.65\n",
    "    params = (dist, dens, dist_lim)\n",
    "    x0 = np.asarray(2)\n",
    "    res = minimize(X2_fun, x0, args = params)\n",
    "    rc = res.x[0]\n",
    "    \n",
    "    hf = h5py.File(path_to_folder + '/' + 'radial' + str(snap_number) + '.h5', 'w')\n",
    "    hf.create_dataset('distances', data=dist)\n",
    "    hf.create_dataset('densities', data=dens)\n",
    "    hf.create_dataset('rc', data=rc)\n",
    "    hf.close()"
   ]
  },
  {
   "cell_type": "code",
   "execution_count": null,
   "metadata": {},
   "outputs": [],
   "source": [
    "# writes radial h5 files for all files in folder:\n",
    "def radial_h5_folder(path, n_snap):\n",
    "    dir = path + '/rad_files'\n",
    "    if not os.path.exists(dir):\n",
    "        os.mkdir(dir)\n",
    "    for i in range(0, n_snap + 1):\n",
    "        result = file_to_rad_avg_den(path + '/snap' + str(i).zfill(4) + '.h5')\n",
    "        dist = np.sort(result[0])\n",
    "        dens = (-1)*(np.sort(result[1]*(-1)))\n",
    "        dist_lim = 0.65\n",
    "        params = (dist, dens, dist_lim)\n",
    "        x0 = np.asarray(2)\n",
    "        res = minimize(X2_fun, x0, args = params)\n",
    "        rc = res.x[0]\n",
    "        # saving as file\n",
    "        hf = h5py.File(dir + '/' + 'radial' + str(i).zfill(4) + '.h5', 'w')\n",
    "        hf.create_dataset('distances', data=dist)\n",
    "        hf.create_dataset('densities', data=dens)\n",
    "        hf.create_dataset('rc', data=rc)\n",
    "        hf.close()\n",
    "        \n",
    "#testing\n",
    "folder = '/mnt/c/Users/Noah Notis/Dropbox/USRP2020_Noah/src/FDM2020/rad_files/fInfL20T4n40r64'\n",
    "radial_h5_folder(folder, 40)"
   ]
  },
  {
   "cell_type": "code",
   "execution_count": null,
   "metadata": {},
   "outputs": [],
   "source": [
    "path_to_radial_h5('/mnt/c/Users/Noah Notis/Dropbox/USRP2020_Noah/src/FDM2020/rad_files/f1.1875L20T4n40r64', 40)"
   ]
  },
  {
   "cell_type": "code",
   "execution_count": null,
   "metadata": {},
   "outputs": [],
   "source": [
    "#analyzing data for f = 1.1875\n",
    "path = '/mnt/c/Users/Noah Notis/Dropbox/USRP2020_Noah/src/FDM2020/rad_files/f1.1875L20T4n40r256'\n",
    "\n",
    "for i in range(0, 41):    \n",
    "    hf = h5py.File(path + '/radial' + str(i).zfill(4) + '.h5', 'r')\n",
    "    dist = np.array(hf['distances'])\n",
    "    dens = np.array(hf['densities'])\n",
    "    plt.scatter(dist, dens)\n",
    "    plt.xscale('log')\n",
    "    plt.yscale('log')\n",
    "    plt.xlabel('Radial Distance (kpc)')\n",
    "    plt.ylabel('Density (Msun / (kpc)^3)')\n",
    "    plt.title('Radial Distance vs. Density')\n",
    "    plt.ylim(10**4, 10**(12.5))\n",
    "    plt.xlim(10**(-2), 10**(1.4))\n",
    "    plt.savefig(path + '/pics/pic' + str(i).zfill(4) + '.png')\n",
    "    plt.clf()\n"
   ]
  },
  {
   "cell_type": "markdown",
   "metadata": {},
   "source": [
    "Trying to plot enclosed mass as a function of radius in the case of the analytic profile (assuming a spherical object)"
   ]
  },
  {
   "cell_type": "code",
   "execution_count": null,
   "metadata": {},
   "outputs": [],
   "source": [
    "def enclosed_mass(r, dens):\n",
    "    V = (4/3)*np.pi*r**3\n",
    "    return V*dens"
   ]
  },
  {
   "cell_type": "code",
   "execution_count": null,
   "metadata": {},
   "outputs": [],
   "source": [
    "r = np.linspace(0, 15, 1000000)\n",
    "\n",
    "dens = an_prof(r, 0.18)\n",
    "m = enclosed_mass(r,dens)\n",
    "m = m*15/1000000\n",
    "sum = 0\n",
    "menc = np.zeros(1000000)\n",
    "for i in range(1, 1000000):\n",
    "    menc[i] = sum\n",
    "    sum = sum + m[i]\n",
    "plt.plot(r, menc)\n",
    "plt.xscale('log')\n",
    "plt.yscale('log')\n",
    "plt.xlabel('Radial Distance (kpc)')\n",
    "plt.ylabel('M(enclosed) (Msun)')\n",
    "plt.title('Enclosed Mass vs. Distance')\n",
    "plt.ylim(10**(5), 10**(11))\n",
    "plt.xlim(10**(-3), 10**(1))\n",
    "\n"
   ]
  },
  {
   "cell_type": "code",
   "execution_count": null,
   "metadata": {},
   "outputs": [],
   "source": [
    "#plotting radial profiles of different densities\n",
    "\n",
    "#naming file paths\n",
    "path64 = '/mnt/c/Users/Noah Notis/Dropbox/USRP2020_Noah/src/FDM2020/rad_files/f2L20T4n400r64/radial0400.h5'\n",
    "path128 = '/mnt/c/Users/Noah Notis/Dropbox/USRP2020_Noah/src/FDM2020/rad_files/f2L20T4n400r128/radial0400.h5'\n",
    "path256 = '/mnt/c/Users/Noah Notis/Dropbox/USRP2020_Noah/src/FDM2020/rad_files/f2L20T4n400r256/radial0400.h5'\n",
    "path400 = '/mnt/c/Users/Noah Notis/Dropbox/USRP2020_Noah/src/FDM2020/rad_files/f2L20T4n400r400/radial0400.h5'\n",
    "\n",
    "#opening files and assigning to arrays\n",
    "hf64 = h5py.File(path64, 'r')\n",
    "hf128 = h5py.File(path128, 'r')\n",
    "hf256 = h5py.File(path256, 'r')\n",
    "hf400 = h5py.File(path400, 'r')\n",
    "\n",
    "dist64 = np.array(hf64['distances'])\n",
    "dens64 = np.array(hf64['densities'])\n",
    "dist128 = np.array(hf128['distances'])\n",
    "dens128 = np.array(hf128['densities'])\n",
    "dist256 = np.array(hf256['distances'])\n",
    "dens256 = np.array(hf256['densities'])\n",
    "dist400 = np.array(hf400['distances'])\n",
    "dens400 = np.array(hf400['densities'])\n",
    "\n",
    "plt.plot(dist64, dens64)\n",
    "plt.plot(dist128, dens128)\n",
    "plt.plot(dist256, dens256)\n",
    "plt.plot(dist400, dens400)\n",
    "\n",
    "plt.xscale('log')\n",
    "plt.yscale('log')\n",
    "plt.xlabel('Radial Distance (kpc)')\n",
    "plt.ylabel('Density (Msun / (kpc)^3)')\n",
    "plt.title('Radial Distance vs. Density')\n",
    "plt.ylim(10**4, 10**(12.5))\n",
    "plt.xlim(10**(-2), 10**(1.4))\n",
    "\n",
    "plt.xlabel('Radial Distance (kpc)')\n",
    "plt.ylabel('Density (Msun/ kpc^3)')\n",
    "plt.title('Radius vs. Density')\n",
    "plt.legend(['r = 64', 'r = 128', 'r = 256', 'r = 400'])\n",
    "\n",
    "plt.savefig('/mnt/c/Users/Noah Notis/Dropbox/USRP2020_Noah/src/FDM2020/rad_files/smooth_convergence_testf2.png')"
   ]
  },
  {
   "cell_type": "code",
   "execution_count": null,
   "metadata": {
    "scrolled": true
   },
   "outputs": [],
   "source": [
    "#plotting radial profiles of different densities\n",
    "\n",
    "#naming file paths\n",
    "path64 = '/mnt/c/Users/Noah Notis/Dropbox/USRP2020_Noah/src/FDM2020/rad_files/f2L20T4n400r64/radial0400.h5'\n",
    "path128 = '/mnt/c/Users/Noah Notis/Dropbox/USRP2020_Noah/src/FDM2020/rad_files/f2L20T4n400r128/radial0400.h5'\n",
    "path256 = '/mnt/c/Users/Noah Notis/Dropbox/USRP2020_Noah/src/FDM2020/rad_files/f2L20T4n400r256/radial0400.h5'\n",
    "path400 = '/mnt/c/Users/Noah Notis/Dropbox/USRP2020_Noah/src/FDM2020/rad_files/f2L20T4n400r400/radial0400.h5'\n",
    "\n",
    "#opening files and assigning to arrays\n",
    "hf64 = h5py.File(path64, 'r')\n",
    "hf128 = h5py.File(path128, 'r')\n",
    "hf256 = h5py.File(path256, 'r')\n",
    "hf400 = h5py.File(path400, 'r')\n",
    "\n",
    "dist64 = np.array(hf64['distances'])\n",
    "dens64 = np.array(hf64['densities'])\n",
    "dist128 = np.array(hf128['distances'])\n",
    "dens128 = np.array(hf128['densities'])\n",
    "dist256 = np.array(hf256['distances'])\n",
    "dens256 = np.array(hf256['densities'])\n",
    "dist400 = np.array(hf400['distances'])\n",
    "dens400 = np.array(hf400['densities'])\n",
    "\n",
    "plt.scatter(dist64, dens64, s = 0.25)\n",
    "plt.scatter(dist128, dens128, s = 0.25)\n",
    "plt.scatter(dist256, dens256, s = 0.25)\n",
    "plt.scatter(dist400, dens400, s = 0.25)\n",
    "\n",
    "plt.xscale('log')\n",
    "plt.yscale('log')\n",
    "plt.xlabel('Radial Distance (kpc)')\n",
    "plt.ylabel('Density (Msun / (kpc)^3)')\n",
    "plt.title('Radial Distance vs. Density')\n",
    "plt.ylim(10**4, 10**(12.5))\n",
    "plt.xlim(10**(-2), 10**(1.4))\n",
    "\n",
    "plt.xlabel('Radial Distance (kpc)')\n",
    "plt.ylabel('Density (Msun/ kpc^3)')\n",
    "plt.title('Radius vs. Density')\n",
    "plt.legend(['r = 64', 'r = 128', 'r = 256', 'r = 400'])\n",
    "\n",
    "\n",
    "plt.savefig('/mnt/c/Users/Noah Notis/Dropbox/USRP2020_Noah/src/FDM2020/rad_files/scatter_convergence_testf2.png')"
   ]
  },
  {
   "cell_type": "code",
   "execution_count": 25,
   "metadata": {
    "scrolled": false
   },
   "outputs": [
    {
     "data": {
      "image/png": "[encoded data removed]",
      "text/plain": [
       "<Figure size 432x288 with 1 Axes>"
      ]
     },
     "metadata": {
      "needs_background": "light"
     },
     "output_type": "display_data"
    }
   ],
   "source": [
    "#plotting radial profiles of different densities\n",
    "\n",
    "#naming file paths\n",
    "path1 = '/mnt/c/Users/Noah Notis/Dropbox/USRP2020_Noah/src/FDM2020/rad_files/f1L20T4n400r256/radial0400.h5'\n",
    "path10625 = '/mnt/c/Users/Noah Notis/Dropbox/USRP2020_Noah/src/FDM2020/rad_files/f1.0625L20T4n40r256/radial0040.h5'\n",
    "path1125 = '/mnt/c/Users/Noah Notis/Dropbox/USRP2020_Noah/src/FDM2020/rad_files/f1.125L20T4n40r256/radial0040.h5'\n",
    "path11406 = '/mnt/c/Users/Noah Notis/Dropbox/USRP2020_Noah/src/FDM2020/rad_files/f1.1406L20T4n40r256/radial0040.h5'\n",
    "path11484 = '/mnt/c/Users/Noah Notis/Dropbox/USRP2020_Noah/src/FDM2020/rad_files/f1.1484L20T4n40r256/radial0040.h5'\n",
    "path11562 = '/mnt/c/Users/Noah Notis/Dropbox/USRP2020_Noah/src/FDM2020/rad_files/f1.1562L20T4n40r256/radial0040.h5'\n",
    "path11875 = '/mnt/c/Users/Noah Notis/Dropbox/USRP2020_Noah/src/FDM2020/rad_files/f1.1875L20T4n40r256/radial0040.h5'\n",
    "path125 = '/mnt/c/Users/Noah Notis/Dropbox/USRP2020_Noah/src/FDM2020/rad_files/f1.25L20T4n40r256/radial0040.h5'\n",
    "path15 = '/mnt/c/Users/Noah Notis/Dropbox/USRP2020_Noah/src/FDM2020/rad_files/f1.5L20T4n400r256/radial0400.h5'\n",
    "path175 = '/mnt/c/Users/Noah Notis/Dropbox/USRP2020_Noah/src/FDM2020/rad_files/f1.75L20T4n40r256/radial0040.h5'\n",
    "path2 = '/mnt/c/Users/Noah Notis/Dropbox/USRP2020_Noah/src/FDM2020/rad_files/f2L20T4n400r256/radial0400.h5'\n",
    "path4 = '/mnt/c/Users/Noah Notis/Dropbox/USRP2020_Noah/src/FDM2020/rad_files/f4L20T4n400r256/radial0400.h5'\n",
    "pathInf ='/mnt/c/Users/Noah Notis/Dropbox/USRP2020_Noah/src/FDM2020/rad_files/fInfL20T4n400r256/rad_filesradial0400.h5'\n",
    "\n",
    "#opening files and assigning to arrays\n",
    "hf1 = h5py.File(path1, 'r')\n",
    "hf10625 = h5py.File(path10625, 'r')\n",
    "hf1125 = h5py.File(path1125, 'r')\n",
    "hf11406 = h5py.File(path11406, 'r')\n",
    "hf11484 = h5py.File(path11484, 'r')\n",
    "hf11562 = h5py.File(path11562, 'r')\n",
    "hf11875 = h5py.File(path11875, 'r')\n",
    "hf125 = h5py.File(path125, 'r')\n",
    "hf15 = h5py.File(path15, 'r')\n",
    "hf175 = h5py.File(path175, 'r')\n",
    "hf2 = h5py.File(path2, 'r')\n",
    "hf4 = h5py.File(path4, 'r')\n",
    "hfInf = h5py.File(pathInf, 'r')\n",
    "\n",
    "dist1 = np.array(hf1['distances'])\n",
    "dens1 = np.array(hf1['densities'])\n",
    "\n",
    "dist10625 = np.array(hf10625['distances'])\n",
    "dens10625 = np.array(hf10625['densities'])\n",
    "\n",
    "dist1125 = np.array(hf1125['distances'])\n",
    "dens1125 = np.array(hf1125['densities'])\n",
    "\n",
    "dist11406 = np.array(hf11406['distances'])\n",
    "dens11406 = np.array(hf11406['densities'])\n",
    "\n",
    "dist11484 = np.array(hf11484['distances'])\n",
    "dens11484 = np.array(hf11484['densities'])\n",
    "\n",
    "dist11562 = np.array(hf11562['distances'])\n",
    "dens11562 = np.array(hf11562['densities'])\n",
    "\n",
    "dist11875 = np.array(hf11875['distances'])\n",
    "dens11875 = np.array(hf11875['densities'])\n",
    "\n",
    "dist125 = np.array(hf125['distances'])\n",
    "dens125 = np.array(hf125['densities'])\n",
    "\n",
    "dist15 = np.array(hf15['distances'])\n",
    "dens15 = np.array(hf15['densities'])\n",
    "\n",
    "dist175 = np.array(hf175['distances'])\n",
    "dens175 = np.array(hf175['densities'])\n",
    "\n",
    "dist2 = np.array(hf2['distances'])\n",
    "dens2 = np.array(hf2['densities'])\n",
    "\n",
    "dist4 = np.array(hf4['distances'])\n",
    "dens4 = np.array(hf4['densities'])\n",
    "\n",
    "distInf = np.array(hfInf['distances'])\n",
    "densInf = np.array(hfInf['densities'])\n",
    "\n",
    "plt.scatter(dist1, dens1, s = 0.25)\n",
    "plt.scatter(dist10625, dens10625, s = 0.25)\n",
    "plt.scatter(dist1125, dens1125, s = 0.25)\n",
    "plt.scatter(dist11406, dens11406, s = 0.25)\n",
    "plt.scatter(dist11484, dens11484, s = 0.25)\n",
    "plt.scatter(dist11562, dens11562, s = 0.25)\n",
    "plt.scatter(dist11875, dens11875, s = 0.25)\n",
    "plt.scatter(dist125, dens125, s = 0.25)\n",
    "plt.scatter(dist15, dens15, s = 0.25)\n",
    "plt.scatter(dist175, dens175, s = 0.25)\n",
    "plt.scatter(dist2, dens2, s = 0.25)\n",
    "plt.scatter(dist4, dens4, s = 0.25)\n",
    "plt.scatter(distInf, densInf, s = 0.25)\n",
    "\n",
    "plt.xscale('log')\n",
    "plt.yscale('log')\n",
    "plt.xlabel('Radial Distance (kpc)')\n",
    "plt.ylabel('Density (Msun / (kpc)^3)')\n",
    "plt.title('Radial Distance vs. Density')\n",
    "plt.ylim(10**4, 10**(12.5))\n",
    "plt.xlim(10**(-2), 10**(1.4))\n",
    "\n",
    "plt.xlabel('Radial Distance (kpc)')\n",
    "plt.ylabel('Density (Msun/ kpc^3)')\n",
    "plt.title('Radius vs. Density')\n",
    "plt.legend(['f = 1', 'f = 1.0625', 'f = 1.125', 'f = 1.1406', 'f = 1.1484', 'f = 1.1562', 'f = 1.1875', 'f = 1.25', 'f = 1.5', 'f = 1.75', 'f = 2', 'f = 4', 'f = Inf'])\n",
    "\n",
    "plt.savefig('/mnt/c/Users/Noah Notis/Dropbox/USRP2020_Noah/src/FDM2020/rad_files/f_r256_full.png', dpi = 200)"
   ]
  },
  {
   "cell_type": "code",
   "execution_count": null,
   "metadata": {},
   "outputs": [],
   "source": [
    "def getcusp(num):\n",
    "    return "
   ]
  },
  {
   "cell_type": "code",
   "execution_count": 27,
   "metadata": {},
   "outputs": [
    {
     "data": {
      "text/plain": [
       "<matplotlib.collections.PathCollection at 0x7fd5dd9e64d0>"
      ]
     },
     "execution_count": 27,
     "metadata": {},
     "output_type": "execute_result"
    },
    {
     "data": {
      "image/png": "[encoded data removed]",
      "text/plain": [
       "<Figure size 432x288 with 1 Axes>"
      ]
     },
     "metadata": {
      "needs_background": "light"
     },
     "output_type": "display_data"
    }
   ],
   "source": [
    "# Testing the cuspiness as a function of f for uncollapsed cases\n",
    "path11484 = '/mnt/c/Users/Noah Notis/Dropbox/USRP2020_Noah/src/FDM2020/rad_files/f1.1484L20T4n40r256/radial0040.h5'\n",
    "path11562 = '/mnt/c/Users/Noah Notis/Dropbox/USRP2020_Noah/src/FDM2020/rad_files/f1.1562L20T4n40r256/radial0040.h5'\n",
    "path11875 = '/mnt/c/Users/Noah Notis/Dropbox/USRP2020_Noah/src/FDM2020/rad_files/f1.1875L20T4n40r256/radial0040.h5'\n",
    "path125 = '/mnt/c/Users/Noah Notis/Dropbox/USRP2020_Noah/src/FDM2020/rad_files/f1.25L20T4n40r256/radial0040.h5'\n",
    "path15 = '/mnt/c/Users/Noah Notis/Dropbox/USRP2020_Noah/src/FDM2020/rad_files/f1.5L20T4n400r256/radial0400.h5'\n",
    "path175 = '/mnt/c/Users/Noah Notis/Dropbox/USRP2020_Noah/src/FDM2020/rad_files/f1.75L20T4n40r256/radial0040.h5'\n",
    "path2 = '/mnt/c/Users/Noah Notis/Dropbox/USRP2020_Noah/src/FDM2020/rad_files/f2L20T4n400r256/radial0400.h5'\n",
    "path4 = '/mnt/c/Users/Noah Notis/Dropbox/USRP2020_Noah/src/FDM2020/rad_files/f4L20T4n400r256/radial0400.h5'\n",
    "pathInf ='/mnt/c/Users/Noah Notis/Dropbox/USRP2020_Noah/src/FDM2020/rad_files/fInfL20T4n400r256/rad_filesradial0400.h5'\n",
    "\n",
    "#opening files and assigning to arrays\n",
    "hf11484 = h5py.File(path11484, 'r')\n",
    "hf11562 = h5py.File(path11562, 'r')\n",
    "hf11875 = h5py.File(path11875, 'r')\n",
    "hf125 = h5py.File(path125, 'r')\n",
    "hf15 = h5py.File(path15, 'r')\n",
    "hf175 = h5py.File(path175, 'r')\n",
    "hf2 = h5py.File(path2, 'r')\n",
    "hf4 = h5py.File(path4, 'r')\n",
    "hfInf = h5py.File(pathInf, 'r')\n",
    "\n",
    "dist11484 = np.array(hf11484['distances'])\n",
    "dens11484 = np.array(hf11484['densities'])\n",
    "\n",
    "dist11562 = np.array(hf11562['distances'])\n",
    "dens11562 = np.array(hf11562['densities'])\n",
    "\n",
    "dist11875 = np.array(hf11875['distances'])\n",
    "dens11875 = np.array(hf11875['densities'])\n",
    "\n",
    "dist125 = np.array(hf125['distances'])\n",
    "dens125 = np.array(hf125['densities'])\n",
    "\n",
    "dist15 = np.array(hf15['distances'])\n",
    "dens15 = np.array(hf15['densities'])\n",
    "\n",
    "dist175 = np.array(hf175['distances'])\n",
    "dens175 = np.array(hf175['densities'])\n",
    "\n",
    "dist2 = np.array(hf2['distances'])\n",
    "dens2 = np.array(hf2['densities'])\n",
    "\n",
    "dist4 = np.array(hf4['distances'])\n",
    "dens4 = np.array(hf4['densities'])\n",
    "\n",
    "distInf = np.array(hfInf['distances'])\n",
    "densInf = np.array(hfInf['densities'])\n",
    "\n",
    "cuspInf = np.abs((np.log10(densInf[1]) - np.log10(densInf[2]))/(np.log10(distInf[1]) - np.log10(distInf[2]))) \n",
    "cusp4 = np.abs((np.log10(dens4[1]) - np.log10(dens4[2]))/(np.log10(dist4[1]) - np.log10(dist4[2])))\n",
    "cusp2 = np.abs((np.log10(dens2[1]) - np.log10(dens2[2]))/(np.log10(dist2[1]) - np.log10(dist2[2])))\n",
    "cusp175 = np.abs((np.log10(dens175[1]) - np.log10(dens175[2]))/(np.log10(dist175[1]) - np.log10(dist175[2])))\n",
    "cusp125 = np.abs((np.log10(dens125[1]) - np.log10(dens125[2]))/(np.log10(dist125[1]) - np.log10(dist125[2])))\n",
    "cusp11875 = np.abs((np.log10(dens11875[1]) - np.log10(dens11875[2]))/(np.log10(dist11875[1]) - np.log10(dist11875[2])))\n",
    "cusp11562 = np.abs((np.log10(dens11562[1]) - np.log10(dens11562[2]))/(np.log10(dist11562[1]) - np.log10(dist11562[2])))\n",
    "cusp11484 = np.abs((np.log10(dens11484[1]) - np.log10(dens11484[2]))/(np.log10(dist11484[1]) - np.log10(dist11484[2])))\n",
    "\n",
    "cusps = [cuspInf, cusp4, cusp2, cusp175, cusp125, cusp11875, cusp11562, cusp11484]\n",
    "strengths = [0, 0.25, 0.5, 1/1.75, 1/1.25, 1/1.11875, 1/1.1562, 1/1.1484]\n",
    "\n",
    "plt.scatter(strengths, cusps)"
   ]
  },
  {
   "cell_type": "code",
   "execution_count": null,
   "metadata": {},
   "outputs": [],
   "source": [
    "#plotting radial profiles of different densities\n",
    "\n",
    "#naming file paths\n",
    "path1 = '/mnt/c/Users/Noah Notis/Dropbox/USRP2020_Noah/src/FDM2020/rad_files/f1L20T4n400r400/radial0200.h5'\n",
    "#path125 = '/mnt/c/Users/Noah Notis/Dropbox/USRP2020_Noah/src/FDM2020/rad_files/f1.25L20T4n40r400/radial0040.h5'\n",
    "path15 = '/mnt/c/Users/Noah Notis/Dropbox/USRP2020_Noah/src/FDM2020/rad_files/f1.5L20T4n400r400/radial0200.h5'\n",
    "#path175 = '/mnt/c/Users/Noah Notis/Dropbox/USRP2020_Noah/src/FDM2020/rad_files/f1.75L20T4n40r400/radial0040.h5'\n",
    "path2 = '/mnt/c/Users/Noah Notis/Dropbox/USRP2020_Noah/src/FDM2020/rad_files/f2L20T4n400r400/radial0400.h5'\n",
    "path4 = '/mnt/c/Users/Noah Notis/Dropbox/USRP2020_Noah/src/FDM2020/rad_files/f4L20T4n400r400/radial0400.h5'\n",
    "pathInf ='/mnt/c/Users/Noah Notis/Dropbox/USRP2020_Noah/src/FDM2020/rad_files/fInfL20T4n400r400/radial0400.h5'\n",
    "\n",
    "#opening files and assigning to arrays\n",
    "hf1 = h5py.File(path1, 'r')\n",
    "#hf125 = h5py.File(path125, 'r')\n",
    "hf15 = h5py.File(path15, 'r')\n",
    "#hf175 = h5py.File(path175, 'r')\n",
    "hf2 = h5py.File(path2, 'r')\n",
    "hf4 = h5py.File(path4, 'r')\n",
    "hfInf = h5py.File(pathInf, 'r')\n",
    "\n",
    "dist1 = np.array(hf1['distances'])\n",
    "dens1 = np.array(hf1['densities'])\n",
    "\n",
    "#dist125 = np.array(hf125['distances'])\n",
    "#dens125 = np.array(hf125['densities'])\n",
    "\n",
    "dist15 = np.array(hf15['distances'])\n",
    "dens15 = np.array(hf15['densities'])\n",
    "\n",
    "#dist175 = np.array(hf175['distances'])\n",
    "#dens175 = np.array(hf175['densities'])\n",
    "\n",
    "dist2 = np.array(hf2['distances'])\n",
    "dens2 = np.array(hf2['densities'])\n",
    "\n",
    "dist4 = np.array(hf4['distances'])\n",
    "dens4 = np.array(hf4['densities'])\n",
    "\n",
    "distInf = np.array(hfInf['distances'])\n",
    "densInf = np.array(hfInf['densities'])\n",
    "\n",
    "plt.scatter(dist1, dens1, s = 0.25)\n",
    "#plt.scatter(dist125, dens125, s = 0.25)\n",
    "plt.scatter(dist15, dens15, s = 0.25)\n",
    "#plt.scatter(dist175, dens175, s = 0.25)\n",
    "plt.scatter(dist2, dens2, s = 0.25)\n",
    "plt.scatter(dist4, dens4, s = 0.25)\n",
    "plt.scatter(distInf, densInf, s = 0.25)\n",
    "\n",
    "plt.xscale('log')\n",
    "plt.yscale('log')\n",
    "plt.xlabel('Radial Distance (kpc)')\n",
    "plt.ylabel('Density (Msun / (kpc)^3)')\n",
    "plt.title('Radial Distance vs. Density')\n",
    "plt.ylim(10**4, 10**(12.5))\n",
    "plt.xlim(10**(-2), 10**(1.4))\n",
    "\n",
    "plt.xlabel('Radial Distance (kpc)')\n",
    "plt.ylabel('Density (Msun/ kpc^3)')\n",
    "plt.title('Radius vs. Density')\n",
    "plt.legend(['f = 1', 'f = 1.5', 'f = 2', 'f = 4', 'f = Inf'])\n",
    "\n",
    "plt.savefig('/mnt/c/Users/Noah Notis/Dropbox/USRP2020_Noah/src/FDM2020/rad_files/f_r400.png', dpi = 200)"
   ]
  },
  {
   "cell_type": "markdown",
   "metadata": {},
   "source": [
    "Check here:"
   ]
  },
  {
   "cell_type": "code",
   "execution_count": 3,
   "metadata": {},
   "outputs": [
    {
     "data": {
      "image/png": "[encoded data removed]",
      "text/plain": [
       "<Figure size 432x288 with 1 Axes>"
      ]
     },
     "metadata": {
      "needs_background": "light"
     },
     "output_type": "display_data"
    }
   ],
   "source": [
    "#Looking at the f1r512 case\n",
    "path1 = '/mnt/c/Users/Noah Notis/Dropbox/USRP2020_Noah/src/FDM2020/rad_files/f1L20T4n40r512/radial0018.h5'\n",
    "path1256 = '/mnt/c/Users/Noah Notis/Dropbox/USRP2020_Noah/src/FDM2020/rad_files/f1L20T4n400r256/radial0180.h5'\n",
    "\n",
    "hf1 = h5py.File(path1, 'r')\n",
    "hf1256 = h5py.File(path1256, 'r')\n",
    "\n",
    "dist1 = np.array(hf1['distances'])\n",
    "dens1 = np.array(hf1['densities'])\n",
    "\n",
    "dist1256 = np.array(hf1256['distances'])\n",
    "dens1256 = np.array(hf1256['densities'])\n",
    "\n",
    "plt.scatter(dist1, dens1, s = 0.25)\n",
    "plt.scatter(dist1256, dens1256, s = 0.25)\n",
    "\n",
    "plt.xscale('log')\n",
    "plt.yscale('log')\n",
    "plt.xlabel('Radial Distance (kpc)')\n",
    "plt.ylabel('Density (Msun / (kpc)^3)')\n",
    "plt.title('Radial Distance vs. Density')\n",
    "plt.ylim(10**4, 10**(12.5))\n",
    "plt.xlim(10**(-2), 10**(1.4))\n",
    "\n",
    "plt.xlabel('Radial Distance (kpc)')\n",
    "plt.ylabel('Density (Msun/ kpc^3)')\n",
    "plt.title('Radius vs. Density')\n",
    "plt.legend(['f = 1, r = 512', 'f = 1, r = 256'])\n",
    "plt.savefig('/mnt/c/Users/Noah Notis/Dropbox/USRP2020_Noah/src/FDM2020/rad_files/f1r512snap18.png', dpi = 200)"
   ]
  },
  {
   "cell_type": "code",
   "execution_count": null,
   "metadata": {
    "scrolled": true
   },
   "outputs": [],
   "source": [
    "#plotting radial profiles of different densities\n",
    "\n",
    "#naming file paths\n",
    "path64 = '/mnt/c/Users/Noah Notis/Dropbox/USRP2020_Noah/src/FDM2020/rad_files/f2L20T4n400r64/radial0400.h5'\n",
    "path128 = '/mnt/c/Users/Noah Notis/Dropbox/USRP2020_Noah/src/FDM2020/rad_files/f2L20T4n400r128/radial0400.h5'\n",
    "path256 = '/mnt/c/Users/Noah Notis/Dropbox/USRP2020_Noah/src/FDM2020/rad_files/f2L20T4n400r256/radial0400.h5'\n",
    "path400 = '/mnt/c/Users/Noah Notis/Dropbox/USRP2020_Noah/src/FDM2020/rad_files/f2L20T4n400r400/radial0400.h5'\n",
    "\n",
    "#opening files and assigning to arrays\n",
    "hf64 = h5py.File(path64, 'r')\n",
    "hf128 = h5py.File(path128, 'r')\n",
    "hf256 = h5py.File(path256, 'r')\n",
    "hf400 = h5py.File(path400, 'r')\n",
    "\n",
    "dist64 = np.array(hf64['distances'])\n",
    "dens64 = np.array(hf64['densities'])\n",
    "dist128 = np.array(hf128['distances'])\n",
    "dens128 = np.array(hf128['densities'])\n",
    "dist256 = np.array(hf256['distances'])\n",
    "dens256 = np.array(hf256['densities'])\n",
    "dist400 = np.array(hf400['distances'])\n",
    "dens400 = np.array(hf400['densities'])\n",
    "\n",
    "#plt.scatter(dist64, dens64)\n",
    "#plt.scatter(dist128, dens128)\n",
    "#plt.scatter(dist256, dens256)\n",
    "#plt.scatter(dist400, dens400)\n",
    "\n",
    "\n",
    "#plt.xlabel('Radial Distance (kpc)')\n",
    "#plt.ylabel('Density (Msun/ kpc^3)')\n",
    "#plt.title('Radius vs. Density')\n",
    "#plt.legend(['r = 64', 'r = 128', 'r = 256', 'r = 400'])\n",
    "\n",
    "\n",
    "fig, axs = plt.subplots(2, 2)\n",
    "axs[0, 0].scatter(dist64, dens64)\n",
    "axs[0, 0].set_title('R = 64')\n",
    "axs[0, 0].loglog()\n",
    "axs[0, 0].set_ylim(10**4, 10**(12.5))\n",
    "axs[0, 0].set_xlim(10**(-2), 10**(1.4))\n",
    "#axs[0, 0].xlabel('Radial Distance (kpc)')\n",
    "#axs[0, 0].ylabel('Density (Msun / (kpc)^3)')\n",
    "#axs[0, 0].title('Radial Distance vs. Density')\n",
    "\n",
    "\n",
    "axs[0, 1].scatter(dist128, dens128)\n",
    "axs[0, 1].set_title('R = 128')\n",
    "axs[0, 1].loglog()\n",
    "axs[0, 1].set_ylim(10**4, 10**(12.5))\n",
    "axs[0, 1].set_xlim(10**(-2), 10**(1.4))\n",
    "\n",
    "axs[1, 0].scatter(dist256, dens256)\n",
    "axs[1, 0].set_title('R = 256')\n",
    "axs[1, 0].loglog()\n",
    "axs[1, 0].set_ylim(10**4, 10**(12.5))\n",
    "axs[1, 0].set_xlim(10**(-2), 10**(1.4))\n",
    "\n",
    "axs[1, 1].scatter(dist400, dens400)\n",
    "axs[1, 1].set_title('R = 400')\n",
    "axs[1, 1].loglog()\n",
    "axs[1, 1].set_ylim(10**4, 10**(12.5))\n",
    "axs[1, 1].set_xlim(10**(-2), 10**(1.4))\n",
    "\n",
    "#fig.suptitle('Density Profiles', fontsize=16, pad = 20)\n",
    "for ax in axs.flat:\n",
    "    ax.set(xlabel='Radius (kpc)', ylabel='Density (Msun/kpc^3)')\n",
    "plt.tight_layout()\n",
    "plt.savefig('/mnt/c/Users/Noah Notis/Dropbox/USRP2020_Noah/src/FDM2020/rad_files/convergence_test.png')"
   ]
  },
  {
   "cell_type": "code",
   "execution_count": null,
   "metadata": {},
   "outputs": [],
   "source": [
    "#plotting radial profiles of different densities\n",
    "\n",
    "#naming file paths\n",
    "\n",
    "path1 = '/mnt/c/Users/Noah Notis/Dropbox/USRP2020_Noah/src/FDM2020/rad_files/f1L20T4n400r256/radial0400.h5'\n",
    "path15 = '/mnt/c/Users/Noah Notis/Dropbox/USRP2020_Noah/src/FDM2020/rad_files/f1.5L20T4n400r256/radial0400.h5'\n",
    "path2 = '/mnt/c/Users/Noah Notis/Dropbox/USRP2020_Noah/src/FDM2020/rad_files/f2L20T4n400r256/radial0400.h5'\n",
    "path4 = '/mnt/c/Users/Noah Notis/Dropbox/USRP2020_Noah/src/FDM2020/rad_files/f4L20T4n400r256/radial0400.h5'\n",
    "\n",
    "#opening files and assigning to arrays\n",
    "hf15 = h5py.File(path15, 'r')\n",
    "hf1 = h5py.File(path1, 'r')\n",
    "hf2 = h5py.File(path2, 'r')\n",
    "hf4 = h5py.File(path4, 'r')\n",
    "\n",
    "dist15 = np.array(hf15['distances'])\n",
    "dens15 = np.array(hf15['densities'])\n",
    "dist1 = np.array(hf1['distances'])\n",
    "dens1 = np.array(hf1['densities'])\n",
    "dist2 = np.array(hf2['distances'])\n",
    "dens2 = np.array(hf2['densities'])\n",
    "dist4 = np.array(hf4['distances'])\n",
    "dens4 = np.array(hf4['densities'])\n",
    "\n",
    "#plt.scatter(dist64, dens64)\n",
    "#plt.scatter(dist128, dens128)\n",
    "#plt.scatter(dist256, dens256)\n",
    "#plt.scatter(dist400, dens400)\n",
    "\n",
    "\n",
    "#plt.xlabel('Radial Distance (kpc)')\n",
    "#plt.ylabel('Density (Msun/ kpc^3)')\n",
    "#plt.title('Radius vs. Density')\n",
    "#plt.legend(['r = 64', 'r = 128', 'r = 256', 'r = 400'])\n",
    "\n",
    "\n",
    "fig, axs = plt.subplots(2, 2)\n",
    "axs[0, 1].scatter(dist15, dens15)\n",
    "axs[0, 1].set_title('f = 1.5')\n",
    "axs[0, 1].loglog()\n",
    "axs[0, 1].set_ylim(10**4, 10**(12.5))\n",
    "axs[0, 1].set_xlim(10**(-2), 10**(1.4))\n",
    "#axs[0, 0].xlabel('Radial Distance (kpc)')\n",
    "#axs[0, 0].ylabel('Density (Msun / (kpc)^3)')\n",
    "#axs[0, 0].title('Radial Distance vs. Density')\n",
    "\n",
    "\n",
    "axs[0, 0].scatter(dist1, dens1)\n",
    "axs[0, 0].set_title('f = 1')\n",
    "axs[0, 0].loglog()\n",
    "axs[0, 0].set_ylim(10**4, 10**(12.5))\n",
    "axs[0, 0].set_xlim(10**(-2), 10**(1.4))\n",
    "\n",
    "axs[1, 0].scatter(dist2, dens2)\n",
    "axs[1, 0].set_title('f = 2')\n",
    "axs[1, 0].loglog()\n",
    "axs[1, 0].set_ylim(10**4, 10**(12.5))\n",
    "axs[1, 0].set_xlim(10**(-2), 10**(1.4))\n",
    "\n",
    "axs[1, 1].scatter(dist4, dens4)\n",
    "axs[1, 1].set_title('f = 4')\n",
    "axs[1, 1].loglog()\n",
    "axs[1, 1].set_ylim(10**4, 10**(12.5))\n",
    "axs[1, 1].set_xlim(10**(-2), 10**(1.4))\n",
    "\n",
    "#fig.suptitle('Density Profiles', fontsize=16, pad = 20)\n",
    "for ax in axs.flat:\n",
    "    ax.set(xlabel='Radius (kpc)', ylabel='Density (Msun/kpc^3)')\n",
    "plt.tight_layout()\n",
    "plt.savefig('/mnt/c/Users/Noah Notis/Dropbox/USRP2020_Noah/src/FDM2020/rad_files/radial_comparison_r256.png')"
   ]
  },
  {
   "cell_type": "code",
   "execution_count": 7,
   "metadata": {},
   "outputs": [],
   "source": [
    "#takes in a folder and returns an array of its max density as a function of time.\n",
    "def max_rad(folder_path, snap_num, number):\n",
    "    max_den = np.zeros(snap_num + 1)\n",
    "    if (folder_path == '/mnt/c/Users/Noah Notis/Dropbox/USRP2020_Noah/src/FDM2020/rad_files/fInfL20T4n400r256'):    \n",
    "        if (number == 40):\n",
    "            for i in range(0, snap_num + 1):\n",
    "                hf = h5py.File(folder_path + '/rad_filesradial' + str(i).zfill(4) + '.h5', 'r')\n",
    "                den = np.array(hf['densities'])\n",
    "                max_den[i] = den[0]\n",
    "        elif (number == 400):\n",
    "            for i in range(0, snap_num + 1):\n",
    "                hf = h5py.File(folder_path + '/rad_filesradial' + str(i * 10).zfill(4) + '.h5', 'r')\n",
    "                den = np.array(hf['densities'])\n",
    "                max_den[i] = den[0]\n",
    "    else:\n",
    "        if (number == 40):\n",
    "            for i in range(0, snap_num + 1):\n",
    "                hf = h5py.File(folder_path + '/radial' + str(i).zfill(4) + '.h5', 'r')\n",
    "                den = np.array(hf['densities'])\n",
    "                max_den[i] = den[0]\n",
    "        elif (number == 400):\n",
    "            for i in range(0, snap_num + 1):\n",
    "                hf = h5py.File(folder_path + '/radial' + str(i * 10).zfill(4) + '.h5', 'r')\n",
    "                den = np.array(hf['densities'])\n",
    "                max_den[i] = den[0]\n",
    "    return max_den"
   ]
  },
  {
   "cell_type": "code",
   "execution_count": 8,
   "metadata": {},
   "outputs": [],
   "source": [
    "def get_cusps(path, snap_num, number):\n",
    "    central_dens = max_rad(path, snap_num, number)\n",
    "    cusp_slopes = np.zeros(snap_num + 1)\n",
    "    if (path == '/mnt/c/Users/Noah Notis/Dropbox/USRP2020_Noah/src/FDM2020/rad_files/fInfL20T4n400r256'):    \n",
    "        if (number == 40):\n",
    "            for i in range(0, snap_num + 1):\n",
    "                hf = h5py.File(path + '/rad_filesradial' + str(i).zfill(4) + '.h5', 'r')\n",
    "                dist = np.array(hf['distances'])\n",
    "                den = np.array(hf['densities'])\n",
    "                slope = np.abs((np.log10(den[1]) - np.log10(den[2])) / (np.log10(dist[1]) - np.log10(dist[2])))\n",
    "                cusp_slopes[i] = slope\n",
    "        elif (number == 400):\n",
    "            for i in range(0, snap_num + 1):\n",
    "                hf = h5py.File(path + '/rad_filesradial' + str(i * 10).zfill(4) + '.h5', 'r')\n",
    "                dist = np.array(hf['distances'])\n",
    "                den = np.array(hf['densities'])\n",
    "                slope = np.abs((np.log10(den[1]) - np.log10(den[2])) / (np.log10(dist[1]) - np.log10(dist[2])))\n",
    "                cusp_slopes[i] = slope\n",
    "    else:\n",
    "        if (number == 40):\n",
    "            for i in range(0, snap_num + 1):\n",
    "                hf = h5py.File(path + '/radial' + str(i).zfill(4) + '.h5', 'r')\n",
    "                dist = np.array(hf['distances'])\n",
    "                den = np.array(hf['densities'])\n",
    "                slope = np.abs((np.log10(den[1]) - np.log10(den[2])) / (np.log10(dist[1]) - np.log10(dist[2])))\n",
    "                cusp_slopes[i] = slope\n",
    "        elif (number == 400):\n",
    "            for i in range(0, snap_num + 1):\n",
    "                hf = h5py.File(path + '/radial' + str(i * 10).zfill(4) + '.h5', 'r')\n",
    "                dist = np.array(hf['distances'])\n",
    "                den = np.array(hf['densities'])\n",
    "                slope = np.abs((np.log10(den[1]) - np.log10(den[2])) / (np.log10(dist[1]) - np.log10(dist[2])))\n",
    "                cusp_slopes[i] = slope\n",
    "    return central_dens, cusp_slopes"
   ]
  },
  {
   "cell_type": "markdown",
   "metadata": {},
   "source": [
    "Testing get cusps"
   ]
  },
  {
   "cell_type": "code",
   "execution_count": 54,
   "metadata": {},
   "outputs": [
    {
     "data": {
      "image/png": "[encoded data removed]",
      "text/plain": [
       "<Figure size 432x288 with 1 Axes>"
      ]
     },
     "metadata": {
      "needs_background": "light"
     },
     "output_type": "display_data"
    }
   ],
   "source": [
    "#Testing get cusps\n",
    "\n",
    "#pathf11562 = '/mnt/c/Users/Noah Notis/Dropbox/USRP2020_Noah/src/FDM2020/rad_files/f1.1562L20T4n40r256'\n",
    "#pathf11875 = '/mnt/c/Users/Noah Notis/Dropbox/USRP2020_Noah/src/FDM2020/rad_files/f1.1875L20T4n40r256'\n",
    "#pathf125 = '/mnt/c/Users/Noah Notis/Dropbox/USRP2020_Noah/src/FDM2020/rad_files/f1.25L20T4n40r256'\n",
    "#pathf15 = '/mnt/c/Users/Noah Notis/Dropbox/USRP2020_Noah/src/FDM2020/rad_files/f1.5L20T4n400r256'\n",
    "#pathf175 = '/mnt/c/Users/Noah Notis/Dropbox/USRP2020_Noah/src/FDM2020/rad_files/f1.75L20T4n40r256'\n",
    "#pathf4 = '/mnt/c/Users/Noah Notis/Dropbox/USRP2020_Noah/src/FDM2020/rad_files/f4L20T4n400r256'\n",
    "pathfInf = '/mnt/c/Users/Noah Notis/Dropbox/USRP2020_Noah/src/FDM2020/rad_files/fInfL20T4n400r256'\n",
    "\n",
    "#cusps11562 = get_cusps(pathf11562, 40, 40)\n",
    "#cusps11875 = get_cusps(pathf11875, 40, 40)\n",
    "#cusps125 = get_cusps(pathf125, 40, 40)\n",
    "#cusps15 = get_cusps(pathf15, 40, 400)\n",
    "#cusps175 = get_cusps(pathf175, 40, 40)\n",
    "#cusps4 = get_cusps(pathf4, 40, 400)\n",
    "cuspsInf = get_cusps(pathfInf, 40, 400)\n",
    "\n",
    "plt.scatter(cuspsInf[0], cuspsInf[1], s = 2)\n",
    "#plt.scatter(cusps4[0], cusps4[1], s = 2)\n",
    "#plt.scatter(cusps175[0], cusps175[1], s = 2)\n",
    "#plt.scatter(cusps15[0], cusps15[1], s = 2)\n",
    "#plt.scatter(cusps125[0], cusps125[1], s = 2)\n",
    "#plt.scatter(cusps11875[0], cusps11875[1], s = 2)\n",
    "#plt.scatter(cusps11562[0], cusps11562[1], s = 2)\n",
    "\n",
    "plt.xscale('log')\n",
    "plt.xlabel('Central Density (Msun / (kpc)^3)')\n",
    "plt.ylabel('Cusp Slope')\n",
    "plt.title('Central Dens vs. Cusp Slope (f = Inf)')\n",
    "#plt.legend(['f = Inf', 'f = 4', 'f = 1.75', 'f = 1.5', 'f = 1.25', 'f = 1.1875', 'f = 1.1562'])\n",
    "\n",
    "plt.savefig('/mnt/c/Users/Noah Notis/Dropbox/USRP2020_Noah/src/FDM2020/pics/density_cuspfInf.png', dpi = 200)"
   ]
  },
  {
   "cell_type": "code",
   "execution_count": 30,
   "metadata": {},
   "outputs": [
    {
     "data": {
      "image/png": "[encoded data removed]",
      "text/plain": [
       "<Figure size 432x288 with 1 Axes>"
      ]
     },
     "metadata": {
      "needs_background": "light"
     },
     "output_type": "display_data"
    }
   ],
   "source": [
    "#testing function\n",
    "pathf1 = '/mnt/c/Users/Noah Notis/Dropbox/USRP2020_Noah/src/FDM2020/rad_files/f1L20T4n400r256'\n",
    "pathf10625 = '/mnt/c/Users/Noah Notis/Dropbox/USRP2020_Noah/src/FDM2020/rad_files/f1.0625L20T4n40r256'\n",
    "pathf1125 = '/mnt/c/Users/Noah Notis/Dropbox/USRP2020_Noah/src/FDM2020/rad_files/f1.125L20T4n40r256'\n",
    "pathf11406 = '/mnt/c/Users/Noah Notis/Dropbox/USRP2020_Noah/src/FDM2020/rad_files/f1.1406L20T4n40r256'\n",
    "pathfInf = '/mnt/c/Users/Noah Notis/Dropbox/USRP2020_Noah/src/FDM2020/rad_files/fInfL20T4n400r256'\n",
    "\n",
    "max_den1 = max_rad(pathf1, 40, 400)\n",
    "max_den10625 = max_rad(pathf10625, 40, 40)\n",
    "max_den1125 = max_rad(pathf1125, 40, 40)\n",
    "max_den11406 = max_rad(pathf11406, 40, 40)\n",
    "max_denInf = max_rad(pathfInf, 40, 400)\n",
    "\n",
    "time = np.linspace(0,40, 41)\n",
    "\n",
    "plt.plot(time, max_den1)\n",
    "plt.plot(time, max_den10625)\n",
    "plt.plot(time, max_den1125)\n",
    "plt.plot(time, max_den11406)\n",
    "plt.plot(time, max_denInf)\n",
    "\n",
    "plt.yscale('log')\n",
    "plt.xlabel('Time')\n",
    "plt.ylabel('Max Density (Msun / (kpc)^3)')\n",
    "plt.title('Time vs. Max Density (Collapsed Cases)')\n",
    "plt.legend(['f = 1', 'f = 1.0625', 'f = 1.125', 'f = 1.1406', 'f = Inf'])\n",
    "\n",
    "plt.savefig('/mnt/c/Users/Noah Notis/Dropbox/USRP2020_Noah/src/FDM2020/pics/max_den/collapsed_cases_smooth.png', dpi = 200)"
   ]
  },
  {
   "cell_type": "code",
   "execution_count": 31,
   "metadata": {},
   "outputs": [
    {
     "data": {
      "image/png": "[encoded data removed]",
      "text/plain": [
       "<Figure size 432x288 with 1 Axes>"
      ]
     },
     "metadata": {
      "needs_background": "light"
     },
     "output_type": "display_data"
    }
   ],
   "source": [
    "#testing function for uncollapsed Cases\n",
    "pathf11562 = '/mnt/c/Users/Noah Notis/Dropbox/USRP2020_Noah/src/FDM2020/rad_files/f1.1562L20T4n40r256'\n",
    "pathf11875 = '/mnt/c/Users/Noah Notis/Dropbox/USRP2020_Noah/src/FDM2020/rad_files/f1.1875L20T4n40r256'\n",
    "pathf125 = '/mnt/c/Users/Noah Notis/Dropbox/USRP2020_Noah/src/FDM2020/rad_files/f1.25L20T4n40r256'\n",
    "pathf15 = '/mnt/c/Users/Noah Notis/Dropbox/USRP2020_Noah/src/FDM2020/rad_files/f1.5L20T4n400r256'\n",
    "pathf175 = '/mnt/c/Users/Noah Notis/Dropbox/USRP2020_Noah/src/FDM2020/rad_files/f1.75L20T4n40r256'\n",
    "pathf4 = '/mnt/c/Users/Noah Notis/Dropbox/USRP2020_Noah/src/FDM2020/rad_files/f4L20T4n400r256'\n",
    "pathfInf = '/mnt/c/Users/Noah Notis/Dropbox/USRP2020_Noah/src/FDM2020/rad_files/fInfL20T4n400r256'\n",
    "\n",
    "max_den11562 = max_rad(pathf11562, 40, 40)\n",
    "max_den11875 = max_rad(pathf11875, 40, 40)\n",
    "max_den125 = max_rad(pathf125, 40, 40)\n",
    "max_den15 = max_rad(pathf15, 40, 400)\n",
    "max_den175 = max_rad(pathf175, 40, 40)\n",
    "max_den4 = max_rad(pathf4, 40, 400)\n",
    "max_denInf = max_rad(pathfInf, 40, 400)\n",
    "\n",
    "time = np.linspace(0,40, 41)\n",
    "\n",
    "plt.plot(time, max_den11562)\n",
    "plt.plot(time, max_den11875)\n",
    "plt.plot(time, max_den125)\n",
    "plt.plot(time, max_den15)\n",
    "plt.plot(time, max_den175)\n",
    "plt.plot(time, max_den4)\n",
    "plt.plot(time, max_denInf)\n",
    "\n",
    "plt.yscale('log')\n",
    "plt.xlabel('Time')\n",
    "plt.ylabel('Max Density (Msun / (kpc)^3)')\n",
    "plt.title('Time vs. Max Density (Uncollapsed Cases)')\n",
    "plt.legend(['f = 1.1562', 'f = 1.1875', 'f = 1.25', 'f = 1.5', 'f = 1.75', 'f = 4', 'f = Inf'])\n",
    "\n",
    "plt.savefig('/mnt/c/Users/Noah Notis/Dropbox/USRP2020_Noah/src/FDM2020/pics/max_den/uncollapsed_cases_smooth.png', dpi = 200)"
   ]
  },
  {
   "cell_type": "code",
   "execution_count": 32,
   "metadata": {},
   "outputs": [
    {
     "data": {
      "image/png": "[encoded data removed]",
      "text/plain": [
       "<Figure size 432x288 with 1 Axes>"
      ]
     },
     "metadata": {
      "needs_background": "light"
     },
     "output_type": "display_data"
    }
   ],
   "source": [
    "#testing altogether\n",
    "#testing function\n",
    "pathf1 = '/mnt/c/Users/Noah Notis/Dropbox/USRP2020_Noah/src/FDM2020/rad_files/f1L20T4n400r256'\n",
    "pathf10625 = '/mnt/c/Users/Noah Notis/Dropbox/USRP2020_Noah/src/FDM2020/rad_files/f1.0625L20T4n40r256'\n",
    "pathf1125 = '/mnt/c/Users/Noah Notis/Dropbox/USRP2020_Noah/src/FDM2020/rad_files/f1.125L20T4n40r256'\n",
    "pathf11406 = '/mnt/c/Users/Noah Notis/Dropbox/USRP2020_Noah/src/FDM2020/rad_files/f1.1406L20T4n40r256'\n",
    "pathf11562 = '/mnt/c/Users/Noah Notis/Dropbox/USRP2020_Noah/src/FDM2020/rad_files/f1.1562L20T4n40r256'\n",
    "pathf11875 = '/mnt/c/Users/Noah Notis/Dropbox/USRP2020_Noah/src/FDM2020/rad_files/f1.1875L20T4n40r256'\n",
    "pathf125 = '/mnt/c/Users/Noah Notis/Dropbox/USRP2020_Noah/src/FDM2020/rad_files/f1.25L20T4n40r256'\n",
    "pathf15 = '/mnt/c/Users/Noah Notis/Dropbox/USRP2020_Noah/src/FDM2020/rad_files/f1.5L20T4n400r256'\n",
    "pathf175 = '/mnt/c/Users/Noah Notis/Dropbox/USRP2020_Noah/src/FDM2020/rad_files/f1.75L20T4n40r256'\n",
    "pathf4 = '/mnt/c/Users/Noah Notis/Dropbox/USRP2020_Noah/src/FDM2020/rad_files/f4L20T4n400r256'\n",
    "pathfInf = '/mnt/c/Users/Noah Notis/Dropbox/USRP2020_Noah/src/FDM2020/rad_files/fInfL20T4n400r256'\n",
    "\n",
    "max_den1 = max_rad(pathf1, 40, 400)\n",
    "max_den10625 = max_rad(pathf10625, 40, 40)\n",
    "max_den1125 = max_rad(pathf1125, 40, 40)\n",
    "max_den11406 = max_rad(pathf11406, 40, 40)\n",
    "max_den11562 = max_rad(pathf11562, 40, 40)\n",
    "max_den11875 = max_rad(pathf11875, 40, 40)\n",
    "max_den125 = max_rad(pathf125, 40, 40)\n",
    "max_den15 = max_rad(pathf15, 40, 400)\n",
    "max_den175 = max_rad(pathf175, 40, 40)\n",
    "max_den4 = max_rad(pathf4, 40, 400)\n",
    "max_denInf = max_rad(pathfInf, 40, 400)\n",
    "\n",
    "time = np.linspace(0,40, 41)\n",
    "\n",
    "plt.scatter(time, max_den1, s = 2)\n",
    "plt.scatter(time, max_den10625, s = 2)\n",
    "plt.scatter(time, max_den1125, s = 2)\n",
    "plt.scatter(time, max_den11406, s = 2)\n",
    "plt.scatter(time, max_den11562, s = 2)\n",
    "plt.scatter(time, max_den11875, s = 2)\n",
    "plt.scatter(time, max_den125, s = 2)\n",
    "plt.scatter(time, max_den15, s = 2)\n",
    "plt.scatter(time, max_den175, s = 2)\n",
    "plt.scatter(time, max_den4, s = 2)\n",
    "plt.scatter(time, max_denInf, s = 2)\n",
    "\n",
    "plt.yscale('log')\n",
    "plt.xlabel('Time')\n",
    "plt.ylabel('Max Density (Msun / (kpc)^3)')\n",
    "plt.title('Time vs. Max Density (Collapsed Cases)')\n",
    "plt.legend(['f = 1', 'f = 1.0625', 'f = 1.125', 'f = 1.1406', 'f = 1.1562', 'f = 1.1875', 'f = 1.25', 'f = 1.5', 'f = 1.75', 'f = 4', 'f = Inf'])\n",
    "\n",
    "plt.savefig('/mnt/c/Users/Noah Notis/Dropbox/USRP2020_Noah/src/FDM2020/pics/max_den/all_cases_scatter', dpi = 200)"
   ]
  },
  {
   "cell_type": "code",
   "execution_count": 13,
   "metadata": {},
   "outputs": [
    {
     "data": {
      "image/png": "[encoded data removed]",
      "text/plain": [
       "<Figure size 432x288 with 1 Axes>"
      ]
     },
     "metadata": {
      "needs_background": "light"
     },
     "output_type": "display_data"
    }
   ],
   "source": [
    "#testing function\n",
    "pathf1256 = '/mnt/c/Users/Noah Notis/Dropbox/USRP2020_Noah/src/FDM2020/rad_files/f1L20T4n400r256'\n",
    "pathf1512 = '/mnt/c/Users/Noah Notis/Dropbox/USRP2020_Noah/src/FDM2020/rad_files/f1L20T4n40r512'\n",
    "\n",
    "max_den256 = max_rad(pathf1256, 40, 400)\n",
    "max_den512 = max_rad(pathf1512, 18, 40)\n",
    "\n",
    "time256 = np.linspace(0,40, 41)\n",
    "time512 = np.linspace(0, 18, 19)\n",
    "\n",
    "plt.scatter(time256, max_den256)\n",
    "plt.scatter(time512, max_den512)\n",
    "plt.yscale('log')\n",
    "plt.xlabel('Time')\n",
    "plt.ylabel('Max Density (Msun / (kpc)^3)')\n",
    "plt.title('Time vs. Max Density')\n",
    "plt.legend(['r = 256', 'r = 512'])\n",
    "plt.savefig('/mnt/c/Users/Noah Notis/Dropbox/USRP2020_Noah/src/FDM2020/pics/max_den/res_test_f1.png', dpi = 200)"
   ]
  },
  {
   "cell_type": "code",
   "execution_count": null,
   "metadata": {},
   "outputs": [],
   "source": [
    "#testing function\n",
    "pathInf = '/mnt/c/Users/Noah Notis/Dropbox/USRP2020_Noah/src/FDM2020/rad_files/fInfL20T4n400r256'\n",
    "max_den = max_rad(pathInf, 40)\n",
    "time = np.linspace(0,40, 41)\n",
    "plt.scatter(time, max_den)\n",
    "plt.yscale('log')\n",
    "plt.xlabel('Time')\n",
    "plt.ylabel('Max Density (Msun / (kpc)^3)')\n",
    "plt.title('Time vs. Max Density')\n",
    "\n",
    "plt.savefig('/mnt/c/Users/Noah Notis/Dropbox/USRP2020_Noah/src/FDM2020/pics/max_den/fInfr256.png', dpi = 200)"
   ]
  },
  {
   "cell_type": "code",
   "execution_count": null,
   "metadata": {},
   "outputs": [],
   "source": [
    "#testing function\n",
    "path1 = '/mnt/c/Users/Noah Notis/Dropbox/USRP2020_Noah/src/FDM2020/rad_files/f1L20T4n400r256'\n",
    "max_den = max_rad(path1, 40)\n",
    "time = np.linspace(0,40, 41)\n",
    "plt.scatter(time, max_den)\n",
    "plt.yscale('log')\n",
    "plt.xlabel('Time')\n",
    "plt.ylabel('Max Density (Msun / (kpc)^3)')\n",
    "plt.title('Time vs. Max Density')\n",
    "\n",
    "plt.savefig('/mnt/c/Users/Noah Notis/Dropbox/USRP2020_Noah/src/FDM2020/pics/max_den/f1r256.png', dpi = 200)"
   ]
  },
  {
   "cell_type": "code",
   "execution_count": null,
   "metadata": {},
   "outputs": [],
   "source": [
    "path2 = '/mnt/c/Users/Noah Notis/Dropbox/USRP2020_Noah/src/FDM2020/rad_files/f1.125L20T4n40r256'\n",
    "max_den = max_rad(path2, 40)\n",
    "time = np.linspace(0,40, 41)\n",
    "plt.scatter(time, max_den)\n",
    "plt.yscale('log')\n",
    "plt.xlabel('Time')\n",
    "plt.ylabel('Max Density (Msun / (kpc)^3)')\n",
    "plt.title('Time vs. Max Density')\n",
    "\n",
    "plt.savefig('/mnt/c/Users/Noah Notis/Dropbox/USRP2020_Noah/src/FDM2020/pics/max_den/f1125r256.png', dpi = 200)"
   ]
  },
  {
   "cell_type": "code",
   "execution_count": 8,
   "metadata": {},
   "outputs": [],
   "source": [
    "def path_to_pic(path, snap_num):\n",
    "    dir = path + '/pics'\n",
    "    if not os.path.exists(dir):\n",
    "        os.mkdir(dir)\n",
    "    for i in range(0, snap_num + 1):\n",
    "        hf = h5py.File(path + '/radial' + str(i).zfill(4) + '.h5', 'r')\n",
    "        dist = np.array(hf['distances'])\n",
    "        dens = np.array(hf['densities'])\n",
    "        plt.scatter(dist, dens, s = 0.8)\n",
    "        plt.xscale('log')\n",
    "        plt.yscale('log')\n",
    "        plt.xlabel('Radial Distance (kpc)')\n",
    "        plt.ylabel('Density (Msun / (kpc)^3)')\n",
    "        plt.title('Radial Distance vs. Density')\n",
    "        plt.ylim(10**4, 10**(12.5))\n",
    "        plt.xlim(10**(-2), 10**(1.4))\n",
    "        plt.savefig(dir + '/pic' + str(i).zfill(4) + '.png', dpi = 200)\n",
    "        plt.clf()"
   ]
  },
  {
   "cell_type": "code",
   "execution_count": 9,
   "metadata": {},
   "outputs": [
    {
     "data": {
      "text/plain": [
       "<Figure size 432x288 with 0 Axes>"
      ]
     },
     "metadata": {},
     "output_type": "display_data"
    }
   ],
   "source": [
    "path1512 = '/mnt/c/Users/Noah Notis/Dropbox/USRP2020_Noah/src/FDM2020/rad_files/f1L20T4n40r512'\n",
    "path_to_pic(path1512, 18)"
   ]
  },
  {
   "cell_type": "code",
   "execution_count": 31,
   "metadata": {},
   "outputs": [
    {
     "data": {
      "text/plain": [
       "<matplotlib.collections.PathCollection at 0x7f8c53adebd0>"
      ]
     },
     "execution_count": 31,
     "metadata": {},
     "output_type": "execute_result"
    },
    {
     "data": {
      "image/png": "[encoded data removed]",
      "text/plain": [
       "<Figure size 432x288 with 1 Axes>"
      ]
     },
     "metadata": {
      "needs_background": "light"
     },
     "output_type": "display_data"
    }
   ],
   "source": [
    "path1512 = '/mnt/c/Users/Noah Notis/Dropbox/USRP2020_Noah/src/FDM2020/rad_files/f1L20T4n40r512'\n",
    "path1256 = '/mnt/c/Users/Noah Notis/Dropbox/USRP2020_Noah/src/FDM2020/rad_files/f1L20T4n400r256'\n",
    "hf512 = h5py.File(path1512 + '/radial0018.h5', 'r')\n",
    "dist = np.array(hf['distances'])\n",
    "dens = np.array(hf['densities'])\n",
    "plt.scatter(dist, dens, s = 0.8)\n",
    "plt.xscale('log')\n",
    "plt.yscale('log')\n",
    "plt.xlabel('Radial Distance (kpc)')\n",
    "plt.ylabel('Density (Msun / (kpc)^3)')\n",
    "plt.title('Radial Distance vs. Density')\n",
    "plt.ylim(10**4, 10**(12.5))\n",
    "plt.xlim(10**(-2), 10**(1.4))\n",
    "y = np.linspace(1e4, 1e12, 10000)\n",
    "x = np.zeros(10000)\n",
    "for i in range(0,10000):\n",
    "    x[i] = 0.15\n",
    "plt.scatter(x, y, 0.5)"
   ]
  },
  {
   "cell_type": "code",
   "execution_count": 39,
   "metadata": {},
   "outputs": [
    {
     "name": "stdout",
     "output_type": "stream",
     "text": [
      "<KeysViewHDF5 ['X2', 'f', 'rc']>\n",
      "<KeysViewHDF5 ['X2', 'alpha', 'f', 'rc', 'rho']>\n",
      "<KeysViewHDF5 ['X2', 'exp_inner', 'exp_outer', 'f', 'i1term', 'rc', 'rho']>\n",
      "[4.39452141e+17 7.33455945e+17 1.95492513e+18 6.76412629e+17\n",
      " 7.12269194e+18 7.51129514e+19 1.49428149e+20 2.13434028e+20\n",
      " 4.86166034e+20]\n",
      "[2.88196136e+17 3.28687734e+17 6.76261471e+17 5.82514664e+17\n",
      " 8.96153730e+17 2.24019827e+18 2.78402310e+18 3.26501740e+18\n",
      " 4.84810169e+18]\n",
      "[9.67800300e+14 4.03258478e+15 1.57257785e+14 2.11935771e+15\n",
      " 8.91526403e+14 1.96946029e+15 1.29132255e+16 7.91608938e+15\n",
      " 1.52740194e+16]\n"
     ]
    },
    {
     "data": {
      "image/png": "[encoded data removed]",
      "text/plain": [
       "<Figure size 432x288 with 1 Axes>"
      ]
     },
     "metadata": {
      "needs_background": "light"
     },
     "output_type": "display_data"
    }
   ],
   "source": [
    "#checking X2 based on different methods\n",
    "simple = h5py.File('/mnt/c/Users/Noah Notis/Dropbox/USRP2020_Noah/src/FDM2020/pics/function_fitting/simple_function/simple_params.h5', 'r')\n",
    "gauss = h5py.File('/mnt/c/Users/Noah Notis/Dropbox/USRP2020_Noah/src/FDM2020/pics/function_fitting/gaussian_function/gaussian_params.h5', 'r')\n",
    "philip = h5py.File('/mnt/c/Users/Noah Notis/Dropbox/USRP2020_Noah/src/FDM2020/pics/function_fitting/philip_function/philip_params.h5', 'r')\n",
    "\n",
    "print(simple.keys())\n",
    "print(gauss.keys())\n",
    "print(philip.keys())\n",
    "\n",
    "f = 1/np.array(simple['f'])\n",
    "simple_X2 = np.array(simple['X2'])\n",
    "gauss_X2 = np.array(gauss['X2'])\n",
    "philip_X2 = np.array(philip['X2'])\n",
    "\n",
    "print(simple_X2)\n",
    "print(gauss_X2)\n",
    "print(philip_X2)\n",
    "\n",
    "plt.scatter(f, np.log10(simple_X2), s = 5)\n",
    "plt.scatter(f, np.log10(gauss_X2), s = 5)\n",
    "plt.scatter(f, np.log10(philip_X2), s = 5)\n",
    "#plt.xscale('log')\n",
    "#plt.yscale('log')\n",
    "plt.xlabel('1/f')\n",
    "plt.ylabel('log10(X2)')\n",
    "plt.title('X2 for different functions')\n",
    "plt.legend(['Schive Simple', 'General Gaussian', 'Philip 5'])\n",
    "\n",
    "plt.savefig('/mnt/c/Users/Noah Notis/Dropbox/USRP2020_Noah/src/FDM2020/pics/function_fitting/X2.png', dpi = 200)"
   ]
  },
  {
   "cell_type": "code",
   "execution_count": null,
   "metadata": {},
   "outputs": [],
   "source": []
  }
 ],
 "metadata": {
  "kernelspec": {
   "display_name": "Python 3",
   "language": "python",
   "name": "python3"
  },
  "language_info": {
   "codemirror_mode": {
    "name": "ipython",
    "version": 3
   },
   "file_extension": ".py",
   "mimetype": "text/x-python",
   "name": "python",
   "nbconvert_exporter": "python",
   "pygments_lexer": "ipython3",
   "version": "3.7.6"
  }
 },
 "nbformat": 4,
 "nbformat_minor": 4
}
