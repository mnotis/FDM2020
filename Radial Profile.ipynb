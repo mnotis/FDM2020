{
 "cells": [
  {
   "cell_type": "markdown",
   "metadata": {},
   "source": [
    "Program that takes in an hdf5 file with 3d array of simulation and outputs the radial profile. Then attempts to fit it onto the analytic radial profile."
   ]
  },
  {
   "cell_type": "code",
   "execution_count": 1,
   "metadata": {},
   "outputs": [],
   "source": [
    "import numpy as np\n",
    "import matplotlib.pyplot as plt\n",
    "import h5py\n",
    "import os\n",
    "from scipy.optimize import minimize"
   ]
  },
  {
   "cell_type": "markdown",
   "metadata": {},
   "source": [
    "Function takes in path for hdf5 file and outputs a 3d array with all the densities:"
   ]
  },
  {
   "cell_type": "code",
   "execution_count": 2,
   "metadata": {},
   "outputs": [],
   "source": [
    "# function takes in a path and outputs a 3d array of the density profile.\n",
    "\n",
    "def file_to_density(path_name):\n",
    "    hf = h5py.File(path_name, 'r')\n",
    "    psi_real = np.array(hf['psiRe'])\n",
    "    psi_im = np.array(hf['psiIm'])\n",
    "    psi_real2 = psi_real**2\n",
    "    psi_im2 = psi_im**2\n",
    "    rho = (psi_real2 + psi_im2)\n",
    "    return rho"
   ]
  },
  {
   "cell_type": "markdown",
   "metadata": {},
   "source": [
    "Function rolls the density array so that the core is in the center of the image."
   ]
  },
  {
   "cell_type": "code",
   "execution_count": 3,
   "metadata": {},
   "outputs": [],
   "source": [
    "#function takes in a cubic np density array and rolls it so tha the highest point is in the center.\n",
    "#only to be used for the steady state images\n",
    "\n",
    "def rho_roll(rho):\n",
    "    rho_len = rho.shape[0]\n",
    "    # finding the maximum value's index\n",
    "    max_ind = np.where(rho == np.amax(rho))\n",
    "    x_max = max_ind[0][0]\n",
    "    y_max = max_ind[1][0]\n",
    "    z_max = max_ind[2][0]\n",
    "    signed_x_dist_to_cent = int(rho_len / 2) - x_max\n",
    "    signed_y_dist_to_cent = int(rho_len / 2) - y_max\n",
    "    signed_z_dist_to_cent = int(rho_len / 2) - z_max\n",
    "    #moving the core to the center of the cube\n",
    "    rho_n = np.roll(rho, signed_x_dist_to_cent, axis=0)\n",
    "    rho_n2 = np.roll(rho_n, signed_y_dist_to_cent, axis=1)\n",
    "    rho_n3 = np.roll(rho_n2, signed_z_dist_to_cent, axis=2)\n",
    "    rho = rho_n3\n",
    "    return rho"
   ]
  },
  {
   "cell_type": "markdown",
   "metadata": {},
   "source": [
    "A helper function that computes the distance between two 3d points."
   ]
  },
  {
   "cell_type": "code",
   "execution_count": 4,
   "metadata": {},
   "outputs": [],
   "source": [
    "# function that calculates distances between two 3d points:\n",
    "\n",
    "def get_distance(a, b):\n",
    "    return np.sqrt((a[0] - b[0])**2 + (a[1] - b[1])**2 + (a[2]- b[2])**2)"
   ]
  },
  {
   "cell_type": "markdown",
   "metadata": {},
   "source": [
    "Function returns a dictionary with the radii as keys and a list of the densities as values."
   ]
  },
  {
   "cell_type": "code",
   "execution_count": 5,
   "metadata": {
    "scrolled": true
   },
   "outputs": [
    {
     "name": "stdout",
     "output_type": "stream",
     "text": [
      "4\n",
      "[1.73205081 1.41421356 1.         0.        ]\n"
     ]
    }
   ],
   "source": [
    "#function that takes in a 3d array with highest point at the center and calculates\n",
    "#the density as a function of radius fromt the center of the core. returns as a dictionary with\n",
    "#distances as keys and a list of the densities as the value.\n",
    "\n",
    "def radial_density(rho):\n",
    "    rho_len = rho.shape[0]\n",
    "    center = int(rho_len / 2)\n",
    "    radii_den = {}\n",
    "    for i in range(0, rho_len):\n",
    "        for j in range(0, rho_len):\n",
    "            for k in range(0, rho_len):\n",
    "                dist = get_distance([center, center, center], [i, j, k])\n",
    "                dens = rho[i][j][k]\n",
    "                if dist not in radii_den:\n",
    "                    radii_den[dist] = [dens]\n",
    "                else:\n",
    "                    radii_den[dist].append(dens)\n",
    "    return radii_den\n",
    "\n",
    "# testing\n",
    "a = np.array([[[1, 2], [3, 4]], [[5, 6], [7, 8]]])\n",
    "b = np.array([[[1, 4], [3, 4]], [[5, 6], [7, 8]]])\n",
    "dict = radial_density(a)\n",
    "print(len(dict))\n",
    "dist = np.fromiter(dict.keys(), dtype=float)\n",
    "print(dist)\n"
   ]
  },
  {
   "cell_type": "markdown",
   "metadata": {},
   "source": [
    "This function takes in a dictionary of radii and densities and returns two numpy arrays, one with radii and the other with average densities."
   ]
  },
  {
   "cell_type": "code",
   "execution_count": 6,
   "metadata": {},
   "outputs": [
    {
     "name": "stdout",
     "output_type": "stream",
     "text": [
      "[0.27063294 0.22097087 0.15625    0.        ]\n",
      "[1.         3.33333333 5.66666667 8.        ]\n"
     ]
    }
   ],
   "source": [
    "#function that plots radial density. Takes in a dictionary with densities as keys\n",
    "# and the densities as values and outputs two np arrays, one with the distances \n",
    "# and one with the ---average--- density at that radial distance.\n",
    "\n",
    "def rad_avg_den(dict):\n",
    "    dict_len = len(dict)\n",
    "    dist = np.fromiter(dict.keys(), dtype=float)\n",
    "    avgs = np.zeros(dict_len)\n",
    "    for x in range(0, dict_len):\n",
    "        dens = np.array(dict[dist[x]])\n",
    "        avg = np.mean(dens)\n",
    "        avgs[x] = avg\n",
    "    return dist * (20/128), avgs\n",
    "# testing\n",
    "res = rad_avg_den(dict)\n",
    "print(res[0])\n",
    "print(res[1])"
   ]
  },
  {
   "cell_type": "markdown",
   "metadata": {},
   "source": [
    "Function returns two numpy arrays, one with the radial positions, and the other with all the densities, even the ones with the doubled up radial positions."
   ]
  },
  {
   "cell_type": "code",
   "execution_count": 7,
   "metadata": {},
   "outputs": [],
   "source": [
    "# function that takes in dictionary and prints two np arrays, one with the points\n",
    "# and another with the corresponding densities, including doubles.\n",
    "\n",
    "def rad_den(dict):\n",
    "    dict_len = len(dict)\n",
    "    dist_list = np.fromiter(dict.keys(), dtype=float)\n",
    "    dist = []\n",
    "    dens = []\n",
    "    for x in range(0, dict_len):\n",
    "        curr_dist = dist_list[x]\n",
    "        list_len = len(dict[dist_list[x]])\n",
    "        for i in range(0, list_len):\n",
    "            dist.append(curr_dist)\n",
    "            dens.append(dict[dist_list[x]][i])\n",
    "    dist = np.asarray(dist)\n",
    "    dens = np.asarray(dens)\n",
    "    return dist * (20/128), dens"
   ]
  },
  {
   "cell_type": "code",
   "execution_count": 8,
   "metadata": {},
   "outputs": [],
   "source": [
    "# from path to distance and average density arrays\n",
    "def file_to_rad_avg_den(path):\n",
    "    rho = file_to_density(path)\n",
    "    rho = rho_roll(rho)\n",
    "    rad_den = radial_density(rho)\n",
    "    return rad_avg_den(rad_den)"
   ]
  },
  {
   "cell_type": "code",
   "execution_count": 9,
   "metadata": {},
   "outputs": [],
   "source": [
    "# from path to distance and unaveraged density arrays\n",
    "def file_to_rad_den(path):\n",
    "    rho = file_to_density(path)\n",
    "    rho = rho_roll(rho)\n",
    "    radial_den = radial_density(rho)\n",
    "    return rad_den(radial_den)"
   ]
  },
  {
   "cell_type": "markdown",
   "metadata": {},
   "source": [
    "Testing all the functions to see if they work:"
   ]
  },
  {
   "cell_type": "code",
   "execution_count": null,
   "metadata": {},
   "outputs": [],
   "source": [
    "#testing the file to density function\n",
    "path = '/mnt/c/Users/Noah Notis/Dropbox/USRP2020_Noah/src/output/fInfL20T4n400r128/snap0300.h5'\n",
    "res = file_to_rad_avg_den(path)\n",
    "res2 = file_to_rad_den(path)"
   ]
  },
  {
   "cell_type": "code",
   "execution_count": null,
   "metadata": {},
   "outputs": [],
   "source": [
    "print(len(res[0]))\n",
    "print(10e4)"
   ]
  },
  {
   "cell_type": "code",
   "execution_count": null,
   "metadata": {},
   "outputs": [],
   "source": [
    "fig_path = '/mnt/c/Users/Noah Notis/Dropbox/USRP2020_Noah/src/output/fInfL20T4n400r128'\n",
    "fig_name = 'pic300'\n",
    "plt.scatter(res[0], res[1])\n",
    "plt.xscale('log')\n",
    "plt.yscale('log')\n",
    "plt.xlabel('Radial Distance (kpc)')\n",
    "plt.ylabel('Density (Msun / (kpc)^3)')\n",
    "plt.title('Radial Distance vs. Density')\n",
    "plt.ylim(10**4, 10**(10.5))\n",
    "plt.xlim(10**(-0.5), 10**(2.2))\n",
    "plt.savefig(fig_path + \"/\" + fig_name)\n",
    "plt.clf()"
   ]
  },
  {
   "cell_type": "code",
   "execution_count": 10,
   "metadata": {},
   "outputs": [],
   "source": [
    "#file to picture\n",
    "def file_to_pic(path_to_dir, fig_num, f_str):\n",
    "    res = file_to_rad_avg_den(path_to_dir + '/snap' + fig_num  + '.h5')\n",
    "    plt.scatter(res[0], res[1])\n",
    "    plt.xscale('log')\n",
    "    plt.yscale('log')\n",
    "    plt.xlabel('Radial Distance (kpc)')\n",
    "    plt.ylabel('Density (Msun / (kpc)^3)')\n",
    "    plt.title('Radial Distance vs. Density: f = ' + f_str)\n",
    "    plt.ylim(10**4, 10**(10.5))\n",
    "    plt.xlim(10**(-1), 10**(2.2))\n",
    "    plt.savefig(path_to_dir + \"/\" + f_str + 'pic' + fig_num)\n",
    "    plt.clf()"
   ]
  },
  {
   "cell_type": "code",
   "execution_count": null,
   "metadata": {},
   "outputs": [],
   "source": [
    "#testing\n",
    "file_to_pic('/mnt/c/Users/Noah Notis/Dropbox/USRP2020_Noah/src/output/fInfL20T4n400r128', '0350', 'Inf')\n",
    "file_to_pic('/mnt/c/Users/Noah Notis/Dropbox/USRP2020_Noah/src/output/f1L20T4n400r128', '0350', '1')\n",
    "file_to_pic('/mnt/c/Users/Noah Notis/Dropbox/USRP2020_Noah/src/output/f2L20T4n400r128', '0350', '2')\n",
    "file_to_pic('/mnt/c/Users/Noah Notis/Dropbox/USRP2020_Noah/src/output/f4L20T4n400r128', '0350', '4')\n"
   ]
  },
  {
   "cell_type": "markdown",
   "metadata": {},
   "source": [
    "Function fitting"
   ]
  },
  {
   "cell_type": "code",
   "execution_count": 11,
   "metadata": {},
   "outputs": [
    {
     "name": "stdout",
     "output_type": "stream",
     "text": [
      "[17.32050808 17.2307694  17.14198519 ...  0.22097087  0.15625\n",
      "  0.        ]\n"
     ]
    }
   ],
   "source": [
    "test_path = '/mnt/c/Users/Noah Notis/Dropbox/USRP2020_Noah/src/output/f1L20T4n400r128/snap0350.h5'\n",
    "sample_data = file_to_rad_avg_den(test_path)\n",
    "print(sample_data[0])"
   ]
  },
  {
   "cell_type": "code",
   "execution_count": 12,
   "metadata": {},
   "outputs": [],
   "source": [
    "#cuts off a distance array such that it only has elements < a certain length\n",
    "\n",
    "def dist_cutoff(dist, dist_lim):\n",
    "    distance = []\n",
    "    for x in dist:\n",
    "        if (x < dist_lim):\n",
    "            distance.append(x)\n",
    "    return np.asarray(distance)"
   ]
  },
  {
   "cell_type": "code",
   "execution_count": 13,
   "metadata": {},
   "outputs": [],
   "source": [
    "#cuts off a density array at a given number of elements\n",
    "#not in place\n",
    "\n",
    "def dens_cutoff(dens, n_elements):\n",
    "    densities = np.zeros(n_elements)\n",
    "    for i in range(0, n_elements):\n",
    "        densities[i] = dens[i]\n",
    "    return densities"
   ]
  },
  {
   "cell_type": "code",
   "execution_count": 14,
   "metadata": {},
   "outputs": [],
   "source": [
    "#analytic profile of the core\n",
    "\n",
    "def an_prof(r, rc):\n",
    "    rho = (1.9*10**7 / (rc**4))\n",
    "    term = (1 + 0.091*(r/rc)**2)**-8\n",
    "    return rho * term"
   ]
  },
  {
   "cell_type": "code",
   "execution_count": 15,
   "metadata": {},
   "outputs": [],
   "source": [
    "#X2 function\n",
    "\n",
    "def X2_fun(rc, dist, dens, dist_lim):\n",
    "    r = dist_cutoff(dist, dist_lim)\n",
    "    densities = dens_cutoff(dens, len(r))\n",
    "    X2 = (((an_prof(r, rc)) - densities)**2)\n",
    "    indices = [0, len(X2)-1]\n",
    "    return X2[indices].sum()"
   ]
  },
  {
   "cell_type": "code",
   "execution_count": 26,
   "metadata": {
    "scrolled": true
   },
   "outputs": [
    {
     "name": "stdout",
     "output_type": "stream",
     "text": [
      "      fun: 19280789950.309177\n",
      " hess_inv: array([[8.58416344e-18]])\n",
      "      jac: array([3.4739164e+16])\n",
      "  message: 'Desired error not necessarily achieved due to precision loss.'\n",
      "     nfev: 219\n",
      "      nit: 1\n",
      "     njev: 69\n",
      "   status: 2\n",
      "  success: False\n",
      "        x: array([0.08945693])\n"
     ]
    },
    {
     "data": {
      "image/png": "[encoded data removed]",
      "text/plain": [
       "<Figure size 432x288 with 1 Axes>"
      ]
     },
     "metadata": {
      "needs_background": "light"
     },
     "output_type": "display_data"
    }
   ],
   "source": [
    "#radial-density fitting function\n",
    "#params are two nparrays\n",
    "#analytic radial profile function\n",
    "\n",
    "def fit_profile(dist, dens, dist_lim):\n",
    "    dist1 = np.sort(dist)\n",
    "    dens1 = (-1)*(np.sort(dens*(-1)))\n",
    "    params = (dist1, dens1, dist_lim)\n",
    "    x0 = np.asarray(3)\n",
    "    result = minimize(X2_fun, x0, args = params)\n",
    "    return result\n",
    "\n",
    "test_result = fit_profile(sample_data[0], sample_data[1], 10**(-1.1))\n",
    "print(test_result)\n",
    "\n",
    "#testing\n",
    "rc = test_result.x[0]\n",
    "dist_lim = 0.65\n",
    "r = sample_data[0]\n",
    "densities = sample_data[1]\n",
    "plt.scatter(r, densities)\n",
    "plt.plot(r, an_prof(r, rc))\n",
    "plt.xscale('log')\n",
    "plt.yscale('log')\n",
    "plt.xlabel('Radial Distance (kpc)')\n",
    "plt.ylabel('Density (Msun / (kpc)^3)')\n",
    "plt.title('Radial Distance vs. Density')\n",
    "plt.ylim(10**4, 10**(12.5))\n",
    "plt.xlim(10**(-2), 10**(1.4))\n",
    "textstr = 'rc = ' + \"%.2f\" % rc\n",
    "plt.legend(['Analytic Profile, rc = ' + \"%.2f\" % rc,'Simulation'])\n",
    "plt.show()"
   ]
  },
  {
   "cell_type": "code",
   "execution_count": 42,
   "metadata": {},
   "outputs": [],
   "source": [
    "def file_to_pic_curve_fit(path, file, dist_lim):\n",
    "    arrs = file_to_rad_avg_den(path + '/' + file)\n",
    "    dist = arrs[0]\n",
    "    dens = arrs[1]\n",
    "    dist1 = np.sort(dist)\n",
    "    dens1 = (-1)*(np.sort(dens*(-1)))\n",
    "    res = fit_profile(dist1, dens1, dist_lim)\n",
    "    rc = res.x[0]\n",
    "    plt.scatter(dist1, dens1)\n",
    "    plt.plot(dist1, an_prof(dist1, rc))\n",
    "    plt.xscale('log')\n",
    "    plt.yscale('log')\n",
    "    plt.xlabel('Radial Distance (kpc)')\n",
    "    plt.ylabel('Density (Msun / (kpc)^3)')\n",
    "    plt.title('Radial Distance vs. Density')\n",
    "    plt.ylim(10**4, 10**(12.5))\n",
    "    plt.xlim(10**(-2), 10**(1.4))\n",
    "    textstr = 'rc = ' + \"%.2f\" % rc\n",
    "    plt.legend(['Analytic Profile, rc = ' + \"%.2f\" % rc,'Simulation'])\n",
    "    plt.savefig(path + '/pic' + file + '.png')\n",
    "    "
   ]
  },
  {
   "cell_type": "code",
   "execution_count": 43,
   "metadata": {},
   "outputs": [
    {
     "data": {
      "image/png": "[encoded data removed]",
      "text/plain": [
       "<Figure size 432x288 with 1 Axes>"
      ]
     },
     "metadata": {
      "needs_background": "light"
     },
     "output_type": "display_data"
    }
   ],
   "source": [
    "file_to_pic_curve_fit('/mnt/c/Users/Noah Notis/Dropbox/USRP2020_Noah/src/output/f1L20T4n400r128', 'snap0350.h5', .1)"
   ]
  },
  {
   "cell_type": "code",
   "execution_count": 44,
   "metadata": {},
   "outputs": [
    {
     "data": {
      "image/png": "[encoded data removed]",
      "text/plain": [
       "<Figure size 432x288 with 1 Axes>"
      ]
     },
     "metadata": {
      "needs_background": "light"
     },
     "output_type": "display_data"
    }
   ],
   "source": [
    "file_to_pic_curve_fit('/mnt/c/Users/Noah Notis/Dropbox/USRP2020_Noah/src/output/fInfL20T4n400r128', 'snap0350.h5', .65)"
   ]
  },
  {
   "cell_type": "code",
   "execution_count": 45,
   "metadata": {},
   "outputs": [
    {
     "data": {
      "image/png": "[encoded data removed]",
      "text/plain": [
       "<Figure size 432x288 with 1 Axes>"
      ]
     },
     "metadata": {
      "needs_background": "light"
     },
     "output_type": "display_data"
    }
   ],
   "source": [
    "file_to_pic_curve_fit('/mnt/c/Users/Noah Notis/Dropbox/USRP2020_Noah/src/output/f2L20T4n400r128', 'snap0350.h5', 0.65)"
   ]
  },
  {
   "cell_type": "code",
   "execution_count": 46,
   "metadata": {},
   "outputs": [
    {
     "data": {
      "image/png": "[encoded data removed]",
      "text/plain": [
       "<Figure size 432x288 with 1 Axes>"
      ]
     },
     "metadata": {
      "needs_background": "light"
     },
     "output_type": "display_data"
    }
   ],
   "source": [
    "file_to_pic_curve_fit('/mnt/c/Users/Noah Notis/Dropbox/USRP2020_Noah/src/output/f4L20T4n400r128', 'snap0350.h5', 0.65)"
   ]
  },
  {
   "cell_type": "code",
   "execution_count": 1,
   "metadata": {},
   "outputs": [
    {
     "ename": "NameError",
     "evalue": "name 'file_to_pic_curve_fit' is not defined",
     "output_type": "error",
     "traceback": [
      "\u001b[0;31m---------------------------------------------------------------------------\u001b[0m",
      "\u001b[0;31mNameError\u001b[0m                                 Traceback (most recent call last)",
      "\u001b[0;32m<ipython-input-1-d80938982fd1>\u001b[0m in \u001b[0;36m<module>\u001b[0;34m\u001b[0m\n\u001b[0;32m----> 1\u001b[0;31m \u001b[0mfile_to_pic_curve_fit\u001b[0m\u001b[0;34m(\u001b[0m\u001b[0;34m'/mnt/c/Users/Noah Notis/Dropbox/USRP2020_Noah/src/output/f1.5L20T4n400r128'\u001b[0m\u001b[0;34m,\u001b[0m \u001b[0;34m'snap0350.h5'\u001b[0m\u001b[0;34m,\u001b[0m \u001b[0;36m0.65\u001b[0m\u001b[0;34m)\u001b[0m\u001b[0;34m\u001b[0m\u001b[0;34m\u001b[0m\u001b[0m\n\u001b[0m",
      "\u001b[0;31mNameError\u001b[0m: name 'file_to_pic_curve_fit' is not defined"
     ]
    }
   ],
   "source": [
    "file_to_pic_curve_fit('/mnt/c/Users/Noah Notis/Dropbox/USRP2020_Noah/src/output/f1.5L20T4n400r128', 'snap0350.h5', 0.65)"
   ]
  },
  {
   "cell_type": "code",
   "execution_count": null,
   "metadata": {},
   "outputs": [],
   "source": []
  },
  {
   "cell_type": "code",
   "execution_count": null,
   "metadata": {},
   "outputs": [],
   "source": []
  },
  {
   "cell_type": "code",
   "execution_count": null,
   "metadata": {},
   "outputs": [],
   "source": []
  }
 ],
 "metadata": {
  "kernelspec": {
   "display_name": "Python 3",
   "language": "python",
   "name": "python3"
  },
  "language_info": {
   "codemirror_mode": {
    "name": "ipython",
    "version": 3
   },
   "file_extension": ".py",
   "mimetype": "text/x-python",
   "name": "python",
   "nbconvert_exporter": "python",
   "pygments_lexer": "ipython3",
   "version": "3.7.6"
  }
 },
 "nbformat": 4,
 "nbformat_minor": 4
}
