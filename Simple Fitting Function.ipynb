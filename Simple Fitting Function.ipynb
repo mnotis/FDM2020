{
 "cells": [
  {
   "cell_type": "code",
   "execution_count": 27,
   "metadata": {},
   "outputs": [],
   "source": [
    "import numpy as np\n",
    "import matplotlib.pyplot as plt\n",
    "import h5py\n",
    "import os\n",
    "from scipy.optimize import minimize\n",
    "import scipy.constants as const"
   ]
  },
  {
   "cell_type": "code",
   "execution_count": 28,
   "metadata": {},
   "outputs": [],
   "source": [
    "#cuts off a distance array such that it only has elements < a certain length\n",
    "\n",
    "def dist_cutoff(dist, dist_lim):\n",
    "    distance = []\n",
    "    for x in dist:\n",
    "        if (x < dist_lim):\n",
    "            distance.append(x)\n",
    "    return np.asarray(distance)"
   ]
  },
  {
   "cell_type": "code",
   "execution_count": 29,
   "metadata": {},
   "outputs": [],
   "source": [
    "#cuts off a density array at a given number of elements\n",
    "#not in place\n",
    "\n",
    "def dens_cutoff(dens, n_elements):\n",
    "    densities = np.zeros(n_elements)\n",
    "    for i in range(0, n_elements):\n",
    "        densities[i] = dens[i]\n",
    "    return densities"
   ]
  },
  {
   "cell_type": "code",
   "execution_count": 30,
   "metadata": {},
   "outputs": [],
   "source": [
    "def simple_fun(r, rc):\n",
    "    rho = (1.9e7 / (rc**4))\n",
    "    term = (1 + 0.091*(r/rc)**2)**-8\n",
    "    return rho * term"
   ]
  },
  {
   "cell_type": "code",
   "execution_count": 34,
   "metadata": {},
   "outputs": [],
   "source": [
    "#X2 function for simple fit\n",
    "\n",
    "def X2_fun_simple(x, dist, dens, dist_lim):\n",
    "    rc = x[0]\n",
    "    #rho = x[1] \n",
    "    r = dist_cutoff(dist, dist_lim)\n",
    "    densities = dens_cutoff(dens, len(r))\n",
    "    X2 = (((simple_fun(r, rc)) - densities)**2)\n",
    "    return X2[0:len(X2)].sum()"
   ]
  },
  {
   "cell_type": "code",
   "execution_count": 35,
   "metadata": {},
   "outputs": [],
   "source": [
    "#radial-density fitting function\n",
    "#params are two nparrays\n",
    "#analytic radial profile function\n",
    "\n",
    "def fit_profile_simple(dist, dens, dist_lim):\n",
    "    dist1 = np.sort(dist)\n",
    "    dens1 = (-1)*(np.sort(dens*(-1)))\n",
    "    params = (dist1, dens1, dist_lim)\n",
    "    p = (0.17)\n",
    "    x0 = np.asarray(p)\n",
    "    result = minimize(X2_fun_simple, x0, args = params)\n",
    "    return result"
   ]
  },
  {
   "cell_type": "code",
   "execution_count": 36,
   "metadata": {},
   "outputs": [
    {
     "name": "stdout",
     "output_type": "stream",
     "text": [
      "params for 1.5: 0.15621690272912372\n",
      "params for 2: 0.16249268108552548\n",
      "params for Inf: 0.17934338901386154\n"
     ]
    },
    {
     "data": {
      "text/plain": [
       "(0.01, 25.118864315095795)"
      ]
     },
     "execution_count": 36,
     "metadata": {},
     "output_type": "execute_result"
    },
    {
     "data": {
      "image/png": "[encoded data removed]",
      "text/plain": [
       "<Figure size 432x288 with 1 Axes>"
      ]
     },
     "metadata": {
      "needs_background": "light"
     },
     "output_type": "display_data"
    }
   ],
   "source": [
    "# Testing Gaussian fitting\n",
    "path15 ='/mnt/c/Users/Noah Notis/Dropbox/USRP2020_Noah/src/FDM2020/rad_files/f1.5L20T4n400r256/radial0400.h5'\n",
    "path2 ='/mnt/c/Users/Noah Notis/Dropbox/USRP2020_Noah/src/FDM2020/rad_files/f2L20T4n400r256/radial0400.h5'\n",
    "pathInf ='/mnt/c/Users/Noah Notis/Dropbox/USRP2020_Noah/src/FDM2020/rad_files/fInfL20T4n400r256/rad_filesradial0400.h5'\n",
    "\n",
    "hf15 = h5py.File(path15, 'r')\n",
    "hf2 = h5py.File(path2, 'r')\n",
    "hfInf = h5py.File(pathInf, 'r')\n",
    "\n",
    "dist15 = np.array(hf15['distances'])\n",
    "dens15 = np.array(hf15['densities'])\n",
    "\n",
    "dist2 = np.array(hf2['distances'])\n",
    "dens2 = np.array(hf2['densities'])\n",
    "\n",
    "distInf = np.array(hfInf['distances'])\n",
    "densInf = np.array(hfInf['densities'])\n",
    "\n",
    "res15 = fit_profile_simple(dist15, dens15, 0.65)\n",
    "res2 = fit_profile_simple(dist2, dens2, 0.65)\n",
    "resInf = fit_profile_simple(distInf, densInf, 0.65)\n",
    "\n",
    "#testing\n",
    "rc15 = res15.x[0]\n",
    "rc2 = res2.x[0]\n",
    "rcInf = resInf.x[0]\n",
    "\n",
    "print(\"params for 1.5: \" + str(rc15))\n",
    "print(\"params for 2: \" + str(rc2))\n",
    "print(\"params for Inf: \" + str(rcInf))\n",
    "\n",
    "plt.scatter(dist15, dens15, s = 1)\n",
    "plt.scatter(dist2, dens2, s = 1)\n",
    "plt.scatter(distInf, densInf, s = 1)\n",
    "\n",
    "plt.plot(dist15, simple_fun(dist15, rc15), 'r')\n",
    "plt.plot(dist2, simple_fun(dist2, rc2), 'b')\n",
    "plt.plot(distInf, simple_fun(distInf, rcInf), 'g')\n",
    "\n",
    "\n",
    "plt.xscale('log')\n",
    "plt.yscale('log')\n",
    "plt.xlabel('Radial Distance (kpc)')\n",
    "plt.ylabel('Density (Msun / (kpc)^3)')\n",
    "plt.title('Radial Distance vs. Density')\n",
    "plt.ylim(10**4, 10**(12.5))\n",
    "plt.xlim(10**(-2), 10**(1.4))\n"
   ]
  },
  {
   "cell_type": "code",
   "execution_count": 26,
   "metadata": {},
   "outputs": [
    {
     "data": {
      "text/plain": [
       "<Figure size 432x288 with 0 Axes>"
      ]
     },
     "metadata": {},
     "output_type": "display_data"
    }
   ],
   "source": [
    "# In simple fit case, computing rc as a function of f\n",
    "f_vals = [np.Inf, 4, 2, 1.75, 1.5, 1.25, 1.1875, 1.1562, 1.1484]\n",
    "f = np.asarray(f_vals)\n",
    "rc_vals = np.zeros(len(f_vals))\n",
    "X2_vals = np.zeros(len(f_vals))\n",
    "\n",
    "pathInf = '/mnt/c/Users/Noah Notis/Dropbox/USRP2020_Noah/src/FDM2020/rad_files/fInfL20T4n400r256/rad_filesradial0400.h5'\n",
    "path4 = '/mnt/c/Users/Noah Notis/Dropbox/USRP2020_Noah/src/FDM2020/rad_files/f4L20T4n400r256/radial0400.h5'\n",
    "path2 = '/mnt/c/Users/Noah Notis/Dropbox/USRP2020_Noah/src/FDM2020/rad_files/f2L20T4n400r256/radial0400.h5'\n",
    "path175 = '/mnt/c/Users/Noah Notis/Dropbox/USRP2020_Noah/src/FDM2020/rad_files/f1.75L20T4n40r256/radial0040.h5'\n",
    "path15 = '/mnt/c/Users/Noah Notis/Dropbox/USRP2020_Noah/src/FDM2020/rad_files/f1.5L20T4n400r256/radial0400.h5'\n",
    "path125 = '/mnt/c/Users/Noah Notis/Dropbox/USRP2020_Noah/src/FDM2020/rad_files/f1.25L20T4n40r256/radial0040.h5'\n",
    "path11875 = '/mnt/c/Users/Noah Notis/Dropbox/USRP2020_Noah/src/FDM2020/rad_files/f1.1875L20T4n40r256/radial0040.h5'\n",
    "path11562 = '/mnt/c/Users/Noah Notis/Dropbox/USRP2020_Noah/src/FDM2020/rad_files/f1.1562L20T4n40r256/radial0040.h5'\n",
    "path11484 = '/mnt/c/Users/Noah Notis/Dropbox/USRP2020_Noah/src/FDM2020/rad_files/f1.1484L20T4n40r256/radial0040.h5'\n",
    "\n",
    "paths = [pathInf, path4, path2, path175, path15, path125, path11875, path11562, path11484]\n",
    "\n",
    "for i in range(0, len(paths)):\n",
    "    hf = h5py.File(paths[i], 'r')\n",
    "    dist = np.array(hf['distances'])\n",
    "    dens = np.array(hf['densities'])\n",
    "    res = fit_profile_simple(dist, dens, 0.65)\n",
    "    rc = np.abs(res.x[0])\n",
    "    plt.scatter(dist, dens, s = 1)\n",
    "    plt.plot(dist, simple_fun(dist, rc), 'r')\n",
    "    plt.xscale('log')\n",
    "    plt.yscale('log')\n",
    "    plt.xlabel('Radial Distance (kpc)')\n",
    "    plt.ylabel('Density (Msun / (kpc)^3)')\n",
    "    plt.title('Radial Distance vs. Density, f = ' + str(f_vals[i]))\n",
    "    plt.ylim(10**4, 10**(12.5))\n",
    "    plt.xlim(10**(-2), 10**(2))\n",
    "    rcstr = 'rc = ' + \"%.2f\" % rc\n",
    "    plt.legend([rcstr])\n",
    "    plt.savefig('/mnt/c/Users/Noah Notis/Dropbox/USRP2020_Noah/src/FDM2020/pics/function_fitting/simple_function/simple_fit_f' + str(f_vals[i]) + '.png', dpi = 200)\n",
    "    plt.clf()\n",
    "    \n",
    "    rc_vals[i] = np.abs(rc)\n",
    "    X2_vals[i] = res.fun \n",
    "\n",
    "# rc\n",
    "plt.scatter((f**-1), rc_vals)\n",
    "plt.xlabel('1/f')\n",
    "plt.ylabel('rc')\n",
    "plt.title('rc parameter as a function of f^-1')\n",
    "plt.savefig('/mnt/c/Users/Noah Notis/Dropbox/USRP2020_Noah/src/FDM2020/pics/function_fitting/simple_function/param_scaling.png', dpi = 200)\n",
    "plt.clf()\n",
    "\n",
    "#X2\n",
    "plt.scatter((f**-1), X2_vals)\n",
    "plt.xlabel('1/f')\n",
    "plt.ylabel('X2')\n",
    "plt.title('X2 as a function of f^-1')\n",
    "plt.savefig('/mnt/c/Users/Noah Notis/Dropbox/USRP2020_Noah/src/FDM2020/pics/function_fitting/simple_function/X2_scaling.png', dpi = 200)\n",
    "plt.clf()\n",
    "\n",
    "params = h5py.File('/mnt/c/Users/Noah Notis/Dropbox/USRP2020_Noah/src/FDM2020/pics/function_fitting/simple_function/simple_params.h5', 'w')\n",
    "params.create_dataset('f', data=f_vals)\n",
    "params.create_dataset('rc', data=rc_vals)\n",
    "params.create_dataset('X2', data=X2_vals)\n",
    "params.close()"
   ]
  },
  {
   "cell_type": "code",
   "execution_count": 33,
   "metadata": {},
   "outputs": [
    {
     "name": "stdout",
     "output_type": "stream",
     "text": [
      "0.17934338901386154\n"
     ]
    },
    {
     "data": {
      "text/plain": [
       "<matplotlib.legend.Legend at 0x7fac994825d0>"
      ]
     },
     "execution_count": 33,
     "metadata": {},
     "output_type": "execute_result"
    },
    {
     "data": {
      "image/png": "[encoded data removed]",
      "text/plain": [
       "<Figure size 432x288 with 1 Axes>"
      ]
     },
     "metadata": {
      "needs_background": "light"
     },
     "output_type": "display_data"
    }
   ],
   "source": [
    "pathInf ='/mnt/c/Users/Noah Notis/Dropbox/USRP2020_Noah/src/FDM2020/rad_files/fInfL20T4n400r256/rad_filesradial0400.h5'\n",
    "hf125 = h5py.File(pathInf, 'r')\n",
    "dist125 = np.array(hf125['distances'])\n",
    "dens125 = np.array(hf125['densities'])\n",
    "res = fit_profile_simple(dist125, dens125, 0.65)\n",
    "rc125 = np.abs(res.x[0])\n",
    "print(res.x[0])\n",
    "\n",
    "plt.scatter(dist125, dens125, s = 1)\n",
    "plt.plot(dist125, simple_fun(dist125, np.abs(-0.13676)), 'r')\n",
    "\n",
    "plt.xscale('log')\n",
    "plt.yscale('log')\n",
    "plt.xlabel('Radial Distance (kpc)')\n",
    "plt.ylabel('Density (Msun / (kpc)^3)')\n",
    "plt.title('Radial Distance vs. Density, f = 1.25')\n",
    "plt.ylim(10**4, 10**(12.5))\n",
    "plt.xlim(10**(-2), 10**(1.4))\n",
    "rcstr = 'rc = ' + \"%.2f\" % rc125\n",
    "plt.legend([rcstr])\n",
    "#plt.savefig('/mnt/c/Users/Noah Notis/Dropbox/USRP2020_Noah/src/FDM2020/pics/simple_function/)"
   ]
  },
  {
   "cell_type": "code",
   "execution_count": null,
   "metadata": {},
   "outputs": [],
   "source": []
  }
 ],
 "metadata": {
  "kernelspec": {
   "display_name": "Python 3",
   "language": "python",
   "name": "python3"
  },
  "language_info": {
   "codemirror_mode": {
    "name": "ipython",
    "version": 3
   },
   "file_extension": ".py",
   "mimetype": "text/x-python",
   "name": "python",
   "nbconvert_exporter": "python",
   "pygments_lexer": "ipython3",
   "version": "3.7.6"
  }
 },
 "nbformat": 4,
 "nbformat_minor": 4
}
