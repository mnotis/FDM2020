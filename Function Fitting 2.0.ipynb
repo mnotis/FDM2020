{
 "cells": [
  {
   "cell_type": "code",
   "execution_count": 1,
   "metadata": {},
   "outputs": [],
   "source": [
    "import numpy as np\n",
    "import matplotlib.pyplot as plt\n",
    "import h5py\n",
    "import os\n",
    "from scipy.optimize import minimize\n",
    "import scipy.constants as const"
   ]
  },
  {
   "cell_type": "code",
   "execution_count": 2,
   "metadata": {},
   "outputs": [],
   "source": [
    "#function takes in a cubic np density array and rolls it so tha the highest point is in the center.\n",
    "#only to be used for the steady state images\n",
    "\n",
    "def rho_roll(rho):\n",
    "    rho_len = rho.shape[0]\n",
    "    # finding the maximum value's index\n",
    "    max_ind = np.where(rho == np.amax(rho))\n",
    "    x_max = max_ind[0][0]\n",
    "    y_max = max_ind[1][0]\n",
    "    z_max = max_ind[2][0]\n",
    "    signed_x_dist_to_cent = int(rho_len / 2) - x_max\n",
    "    signed_y_dist_to_cent = int(rho_len / 2) - y_max\n",
    "    signed_z_dist_to_cent = int(rho_len / 2) - z_max\n",
    "    #moving the core to the center of the cube\n",
    "    rho_n = np.roll(rho, signed_x_dist_to_cent, axis=0)\n",
    "    rho_n2 = np.roll(rho_n, signed_y_dist_to_cent, axis=1)\n",
    "    rho_n3 = np.roll(rho_n2, signed_z_dist_to_cent, axis=2)\n",
    "    rho = rho_n3\n",
    "    return rho"
   ]
  },
  {
   "cell_type": "code",
   "execution_count": 3,
   "metadata": {},
   "outputs": [],
   "source": [
    "# function that calculates distances between two 3d points:\n",
    "\n",
    "def get_distance(a, b):\n",
    "    return np.sqrt((a[0] - b[0])**2 + (a[1] - b[1])**2 + (a[2]- b[2])**2)"
   ]
  },
  {
   "cell_type": "code",
   "execution_count": 4,
   "metadata": {},
   "outputs": [],
   "source": [
    "#cuts off a distance array such that it only has elements < a certain length\n",
    "\n",
    "def dist_cutoff(dist, dist_lim):\n",
    "    distance = []\n",
    "    for x in dist:\n",
    "        if (x < dist_lim):\n",
    "            distance.append(x)\n",
    "    return np.asarray(distance)"
   ]
  },
  {
   "cell_type": "code",
   "execution_count": 5,
   "metadata": {},
   "outputs": [],
   "source": [
    "#cuts off a density array at a given number of elements\n",
    "#not in place\n",
    "\n",
    "def dens_cutoff(dens, n_elements):\n",
    "    densities = np.zeros(n_elements)\n",
    "    for i in range(0, n_elements):\n",
    "        densities[i] = dens[i]\n",
    "    return densities"
   ]
  },
  {
   "cell_type": "code",
   "execution_count": 6,
   "metadata": {},
   "outputs": [
    {
     "name": "stdout",
     "output_type": "stream",
     "text": [
      "0.9919857693768901\n"
     ]
    }
   ],
   "source": [
    "#functions\n",
    "def i1(arg):\n",
    "    return np.tanh(arg/4)\n",
    "\n",
    "def i2(arg):\n",
    "    return np.tanh(arg) \n",
    "\n",
    "def i3(arg):\n",
    "    return (np.tanh(np.sqrt(arg)))**2\n",
    "\n",
    "def beta(f , rc):\n",
    "    f = f * 1e15\n",
    "    hbar = const.hbar\n",
    "    c = const.c\n",
    "    G = const.G\n",
    "    GeV_to_J = 1.60218e-10\n",
    "    prefactor = 6.9e-9 * (rc ** (-2))\n",
    "    factor = (hbar * (c**5)) / (32 * G * f**2) \n",
    "    return prefactor*factor / ((GeV_to_J)**2)\n",
    "\n",
    "#testing\n",
    "f1 = 1 \n",
    "rc = 0.18\n",
    "print(beta(f1 , rc))"
   ]
  },
  {
   "cell_type": "code",
   "execution_count": 7,
   "metadata": {},
   "outputs": [],
   "source": [
    "#analytic profile of the core\n",
    "\n",
    "def an_prof(r, rho_prefactor, inner_prefactor, exp_inner, exp_outer, rc, f):\n",
    "    rho = (rho_prefactor / (rc**4)) #*((1/0.1)**2)\n",
    "    #i1term = 1. + 2.6*i1(b)\n",
    "    #exp_inner = 2. - ((1./5.) * i2(b))\n",
    "    #exp_outer = -8. + ((22./5.)*i3(b))\n",
    "    term = (1 + inner_prefactor*(r/rc)**exp_inner)**exp_outer\n",
    "    #print(\"i1 term for f = \" + str(f) + \": \" + str(i1term))\n",
    "    #print(\"Inner Exponent for f = \" + str(f) + \": \" + str(exp_inner))\n",
    "    #print(\"Outer Exponent for f = \" + str(f) + \": \" + str(exp_outer))\n",
    "    #print('\\n')\n",
    "    return rho * term"
   ]
  },
  {
   "cell_type": "code",
   "execution_count": 8,
   "metadata": {},
   "outputs": [
    {
     "data": {
      "text/plain": [
       "<matplotlib.legend.Legend at 0x7fe1218a3490>"
      ]
     },
     "execution_count": 8,
     "metadata": {},
     "output_type": "execute_result"
    },
    {
     "data": {
      "image/png": "[encoded data removed]",
      "text/plain": [
       "<Figure size 432x288 with 1 Axes>"
      ]
     },
     "metadata": {
      "needs_background": "light"
     },
     "output_type": "display_data"
    }
   ],
   "source": [
    "#testing\n",
    "\n",
    "radius = np.logspace(-2, 1, 10000)\n",
    "den1 = an_prof(radius, 0.18, np.inf)\n",
    "den2 = an_prof(radius, 0.18, 4)\n",
    "den3 = an_prof(radius, 0.17, 2)\n",
    "den4 = an_prof(radius, 0.16, 1.5)\n",
    "den5 = an_prof(radius, 0.18, 1.)\n",
    "\n",
    "plt.plot(radius, den1, 'g')\n",
    "plt.plot(radius, den2, 'b')\n",
    "plt.plot(radius, den3, 'y')\n",
    "plt.plot(radius, den4, 'r')\n",
    "plt.plot(radius, den5)\n",
    "\n",
    "plt.xscale('log')\n",
    "plt.yscale('log')\n",
    "plt.ylim(10**5, 10**(12))\n",
    "plt.xlim(10**(-1.5), 10**(0.5))\n",
    "plt.xlabel('Radius (kpc)')\n",
    "plt.ylabel('Density (Msun/kpc^3)')\n",
    "plt.title('Modified Analytic Fitting')\n",
    "plt.legend(['f = inf', 'f = 4', 'f = 2', 'f = 1.5', 'f = 1'])"
   ]
  },
  {
   "cell_type": "code",
   "execution_count": 8,
   "metadata": {},
   "outputs": [],
   "source": [
    "#X2 function\n",
    "\n",
    "def X2_fun(x, f , dist, dens, dist_lim):\n",
    "    #args[0] = f \n",
    "    #args[1] = dist \n",
    "    #args[2] = dens \n",
    "    #args[3] = dist_lim\n",
    "    rc = x[0]\n",
    "    exp_inner = x[1] \n",
    "    exp_outer = x[2]\n",
    "    rho_prefactor = x[3] \n",
    "    inner_prefactor = x[4]\n",
    "    r = dist_cutoff(dist, dist_lim)\n",
    "    densities = dens_cutoff(dens, len(r))\n",
    "    X2 = (((an_prof(r, rho_prefactor, inner_prefactor, exp_inner, exp_outer, rc, f)) - densities)**2)\n",
    "    indices = [0, len(X2)-1]\n",
    "    return X2[indices].sum()"
   ]
  },
  {
   "cell_type": "code",
   "execution_count": 14,
   "metadata": {
    "scrolled": true
   },
   "outputs": [
    {
     "name": "stdout",
     "output_type": "stream",
     "text": [
      "params for 1.5: 37.07032302441722 29.449844708965788 -206.14438781346962 325.4157867149253 18999999.999997925\n",
      "params for Inf: 37.0703230311478 29.449844716549443 -206.14438789013042 325.4157868313619 18999999.999997925\n"
     ]
    },
    {
     "data": {
      "text/plain": [
       "(0.01, 25.118864315095795)"
      ]
     },
     "execution_count": 14,
     "metadata": {},
     "output_type": "execute_result"
    },
    {
     "data": {
      "image/png": "[encoded data removed]",
      "text/plain": [
       "<Figure size 432x288 with 1 Axes>"
      ]
     },
     "metadata": {
      "needs_background": "light"
     },
     "output_type": "display_data"
    }
   ],
   "source": [
    "#radial-density fitting function\n",
    "#params are two nparrays\n",
    "#analytic radial profile function\n",
    "\n",
    "def fit_profile(f, dist, dens, dist_lim):\n",
    "    dist1 = np.sort(dist)\n",
    "    dens1 = (-1)*(np.sort(dens*(-1)))\n",
    "    params = (f, dist1, dens1, dist_lim)\n",
    "    p = (0.17, 2, -8, 0.091, 1.9e7)\n",
    "    x0 = np.asarray(p)\n",
    "    result = minimize(X2_fun, x0, args = params)\n",
    "    return result\n",
    "\n",
    "\n",
    "path15 ='/mnt/c/Users/Noah Notis/Dropbox/USRP2020_Noah/src/FDM2020/rad_files/f1.5L20T4n400r256/radial0400.h5'\n",
    "#path2 ='/mnt/c/Users/Noah Notis/Dropbox/USRP2020_Noah/src/FDM2020/rad_files/f2L20T4n400r256/radial0400.h5'\n",
    "pathInf ='/mnt/c/Users/Noah Notis/Dropbox/USRP2020_Noah/src/FDM2020/rad_files/fInfL20T4n400r256/rad_filesradial0400.h5'\n",
    "\n",
    "hf15 = h5py.File(path15, 'r')\n",
    "#hf2 = h5py.File(path2, 'r')\n",
    "hfInf = h5py.File(pathInf, 'r')\n",
    "\n",
    "dist15 = np.array(hf15['distances'])\n",
    "dens15 = np.array(hf15['densities'])\n",
    "\n",
    "#dist2 = np.array(hf2['distances'])\n",
    "#dens2 = np.array(hf2['densities'])\n",
    "\n",
    "distInf = np.array(hfInf['distances'])\n",
    "densInf = np.array(hfInf['densities'])\n",
    "\n",
    "res15 = fit_profile(1.5, dist15, dens15, 1)\n",
    "#test_result2 = fit_profile(2, dist2, dens2, 1)\n",
    "resInf = fit_profile(np.Inf, distInf, densInf, 1)\n",
    "\n",
    "#testing\n",
    "rc15 = res15.x[0]\n",
    "rcInf = resInf.x[0]\n",
    "exp_inner15 = res15.x[1]\n",
    "exp_innerInf = resInf.x[1]\n",
    "exp_outer15 = res15.x[2]\n",
    "exp_outerInf = resInf.x[2]\n",
    "rho_prefactor15 = res15.x[3]\n",
    "rho_prefactorInf = resInf.x[3]\n",
    "inner_prefactor15 = res15.x[4]\n",
    "inner_prefactorInf = resInf.x[4]\n",
    "\n",
    "print(\"params for 1.5: \" + str(rc15) + \" \" + str(exp_inner15) + \" \" + str(exp_outer15) + \" \" + str(rho_prefactor15) + \" \" + str(inner_prefactor15))\n",
    "print(\"params for Inf: \" + str(rcInf) + \" \" + str(exp_innerInf) + \" \" + str(exp_outerInf) + \" \" + str(rho_prefactorInf) + \" \" + str(inner_prefactorInf))\n",
    "\n",
    "dist_lim = 0.65\n",
    "\n",
    "plt.scatter(dist15, dens15, s = 1)\n",
    "#plt.scatter(dist2, dens2, s = 1)\n",
    "plt.scatter(distInf, densInf, s = 1)\n",
    "plt.plot(dist15, an_prof(dist15, rho_prefactor15, inner_prefactor15, exp_inner15, exp_outer15, rc15, 1.5))\n",
    "#plt.plot(r, an_prof(r, rc15, 2))\n",
    "plt.plot(dist15, an_prof(distInf, rho_prefactorInf, inner_prefactorInf, exp_innerInf, exp_outerInf, rcInf, np.Inf))\n",
    "\n",
    "plt.xscale('log')\n",
    "plt.yscale('log')\n",
    "plt.xlabel('Radial Distance (kpc)')\n",
    "plt.ylabel('Density (Msun / (kpc)^3)')\n",
    "plt.title('Radial Distance vs. Density')\n",
    "plt.ylim(10**4, 10**(12.5))\n",
    "plt.xlim(10**(-2), 10**(1.4))\n",
    "#textstr = 'rc = ' + \"%.2f\" % rc\n",
    "#plt.legend(['Analytic Profile f = 1.5, rc = ' + \"%.2f\" % rc15, 'Analytic Profile f = Inf, rc = ' + \"%.2f\" % rcInf, 'Simulation: f = 1.5', 'Simulation: f = Inf'])\n",
    "#plt.legend(['Analytic Profile f = 1.5, rc = ' + \"%.2f\" % rc15, 'Analytic Profile f = 2, rc = ' + \"%.2f\" % rc2, 'Analytic Profile f = Inf, rc = ' + \"%.2f\" % rcInf, 'Simulation: f = 1.5', 'Simulation: f = 2', 'Simulation: f = Inf'])\n",
    "#plt.savefig('/mnt/c/Users/Noah Notis/Dropbox/USRP2020_Noah/src/FDM2020/fit_test.png', dpi = 200)"
   ]
  },
  {
   "cell_type": "code",
   "execution_count": 28,
   "metadata": {},
   "outputs": [
    {
     "data": {
      "text/plain": [
       "(0.01, 25.118864315095795)"
      ]
     },
     "execution_count": 28,
     "metadata": {},
     "output_type": "execute_result"
    },
    {
     "data": {
      "image/png": "[encoded data removed]",
      "text/plain": [
       "<Figure size 432x288 with 1 Axes>"
      ]
     },
     "metadata": {
      "needs_background": "light"
     },
     "output_type": "display_data"
    }
   ],
   "source": [
    "#trying a \"by eye\" fit of the f = 1.5 case\n",
    "rc15 = .17\n",
    "path15 ='/mnt/c/Users/Noah Notis/Dropbox/USRP2020_Noah/src/FDM2020/rad_files/f1.5L20T4n400r256/radial0400.h5'\n",
    "hf15 = h5py.File(path15, 'r')\n",
    "dist15 = np.array(hf15['distances'])\n",
    "dens15 = np.array(hf15['densities'])\n",
    "plt.scatter(dist15, dens15, s = 1)\n",
    "plt.plot(dist15, an_prof(dist15, rc15, 1.5))\n",
    "#plt.plot(dist15, an_prof(dist15, rc15, np.Inf))\n",
    "plt.xscale('log')\n",
    "plt.yscale('log')\n",
    "plt.xlabel('Radial Distance (kpc)')\n",
    "plt.ylabel('Density (Msun / (kpc)^3)')\n",
    "plt.title('Radial Distance vs. Density')\n",
    "plt.ylim(10**4, 10**(12.5))\n",
    "plt.xlim(10**(-2), 10**(1.4))"
   ]
  },
  {
   "cell_type": "code",
   "execution_count": 9,
   "metadata": {},
   "outputs": [],
   "source": [
    "# Trying to fit a Gaussian\n",
    "\n",
    "def Gauss(r, rc, rho):\n",
    "    return rho * np.exp((r/rc)**2)"
   ]
  },
  {
   "cell_type": "code",
   "execution_count": 10,
   "metadata": {},
   "outputs": [],
   "source": [
    "#X2 function for Gauss\n",
    "\n",
    "def X2_fun_Gauss(x, dist, dens, dist_lim):\n",
    "    #args[0] = f \n",
    "    #args[1] = dist \n",
    "    #args[2] = dens \n",
    "    #args[3] = dist_lim\n",
    "    rc = x[0]\n",
    "    rho = x[1] \n",
    "    r = dist_cutoff(dist, dist_lim)\n",
    "    densities = dens_cutoff(dens, len(r))\n",
    "    X2 = (((Gauss(r, rc, rho)) - densities)**2)\n",
    "    indices = [0, len(X2)-1]\n",
    "    return X2[indices].sum()"
   ]
  },
  {
   "cell_type": "code",
   "execution_count": 15,
   "metadata": {},
   "outputs": [],
   "source": [
    "#radial-density fitting function\n",
    "#params are two nparrays\n",
    "#analytic radial profile function\n",
    "\n",
    "def fit_profile_Gauss(dist, dens, dist_lim):\n",
    "    dist1 = np.sort(dist)\n",
    "    dens1 = (-1)*(np.sort(dens*(-1)))\n",
    "    params = (dist1, dens1, dist_lim)\n",
    "    p = (1.9e7, 0.17, 0.65)\n",
    "    x0 = np.asarray(p)\n",
    "    result = minimize(X2_fun_Gauss, x0, args = params)\n",
    "    return result"
   ]
  },
  {
   "cell_type": "code",
   "execution_count": 16,
   "metadata": {},
   "outputs": [
    {
     "ename": "TypeError",
     "evalue": "X2_fun_Gauss() missing 1 required positional argument: 'dist_lim'",
     "output_type": "error",
     "traceback": [
      "\u001b[0;31m---------------------------------------------------------------------------\u001b[0m",
      "\u001b[0;31mTypeError\u001b[0m                                 Traceback (most recent call last)",
      "\u001b[0;32m<ipython-input-16-bce1ac320157>\u001b[0m in \u001b[0;36m<module>\u001b[0;34m\u001b[0m\n\u001b[1;32m     17\u001b[0m \u001b[0mdensInf\u001b[0m \u001b[0;34m=\u001b[0m \u001b[0mnp\u001b[0m\u001b[0;34m.\u001b[0m\u001b[0marray\u001b[0m\u001b[0;34m(\u001b[0m\u001b[0mhfInf\u001b[0m\u001b[0;34m[\u001b[0m\u001b[0;34m'densities'\u001b[0m\u001b[0;34m]\u001b[0m\u001b[0;34m)\u001b[0m\u001b[0;34m\u001b[0m\u001b[0;34m\u001b[0m\u001b[0m\n\u001b[1;32m     18\u001b[0m \u001b[0;34m\u001b[0m\u001b[0m\n\u001b[0;32m---> 19\u001b[0;31m \u001b[0mres15\u001b[0m \u001b[0;34m=\u001b[0m \u001b[0mfit_profile_Gauss\u001b[0m\u001b[0;34m(\u001b[0m\u001b[0mdist15\u001b[0m\u001b[0;34m,\u001b[0m \u001b[0mdens15\u001b[0m\u001b[0;34m,\u001b[0m \u001b[0;36m0.65\u001b[0m\u001b[0;34m)\u001b[0m\u001b[0;34m\u001b[0m\u001b[0;34m\u001b[0m\u001b[0m\n\u001b[0m\u001b[1;32m     20\u001b[0m \u001b[0;31m#test_result2 = fit_profile(2, dist2, dens2, 1)\u001b[0m\u001b[0;34m\u001b[0m\u001b[0;34m\u001b[0m\u001b[0;34m\u001b[0m\u001b[0m\n\u001b[1;32m     21\u001b[0m \u001b[0mresInf\u001b[0m \u001b[0;34m=\u001b[0m \u001b[0mfit_profile_Gauss\u001b[0m\u001b[0;34m(\u001b[0m\u001b[0mdistInf\u001b[0m\u001b[0;34m,\u001b[0m \u001b[0mdensInf\u001b[0m\u001b[0;34m,\u001b[0m \u001b[0;36m0.65\u001b[0m\u001b[0;34m)\u001b[0m\u001b[0;34m\u001b[0m\u001b[0;34m\u001b[0m\u001b[0m\n",
      "\u001b[0;32m<ipython-input-15-4532c0d96777>\u001b[0m in \u001b[0;36mfit_profile_Gauss\u001b[0;34m(dist, dens, dist_lim)\u001b[0m\n\u001b[1;32m      9\u001b[0m     \u001b[0mp\u001b[0m \u001b[0;34m=\u001b[0m \u001b[0;34m(\u001b[0m\u001b[0;36m1.9e7\u001b[0m\u001b[0;34m,\u001b[0m \u001b[0;36m0.17\u001b[0m\u001b[0;34m,\u001b[0m \u001b[0;36m0.65\u001b[0m\u001b[0;34m)\u001b[0m\u001b[0;34m\u001b[0m\u001b[0;34m\u001b[0m\u001b[0m\n\u001b[1;32m     10\u001b[0m     \u001b[0mx0\u001b[0m \u001b[0;34m=\u001b[0m \u001b[0mnp\u001b[0m\u001b[0;34m.\u001b[0m\u001b[0masarray\u001b[0m\u001b[0;34m(\u001b[0m\u001b[0mp\u001b[0m\u001b[0;34m)\u001b[0m\u001b[0;34m\u001b[0m\u001b[0;34m\u001b[0m\u001b[0m\n\u001b[0;32m---> 11\u001b[0;31m     \u001b[0mresult\u001b[0m \u001b[0;34m=\u001b[0m \u001b[0mminimize\u001b[0m\u001b[0;34m(\u001b[0m\u001b[0mX2_fun_Gauss\u001b[0m\u001b[0;34m,\u001b[0m \u001b[0mx0\u001b[0m\u001b[0;34m,\u001b[0m \u001b[0margs\u001b[0m \u001b[0;34m=\u001b[0m \u001b[0mparams\u001b[0m\u001b[0;34m)\u001b[0m\u001b[0;34m\u001b[0m\u001b[0;34m\u001b[0m\u001b[0m\n\u001b[0m\u001b[1;32m     12\u001b[0m     \u001b[0;32mreturn\u001b[0m \u001b[0mresult\u001b[0m\u001b[0;34m\u001b[0m\u001b[0;34m\u001b[0m\u001b[0m\n",
      "\u001b[0;32m~/anaconda3/lib/python3.7/site-packages/scipy/optimize/_minimize.py\u001b[0m in \u001b[0;36mminimize\u001b[0;34m(fun, x0, args, method, jac, hess, hessp, bounds, constraints, tol, callback, options)\u001b[0m\n\u001b[1;32m    602\u001b[0m         \u001b[0;32mreturn\u001b[0m \u001b[0m_minimize_cg\u001b[0m\u001b[0;34m(\u001b[0m\u001b[0mfun\u001b[0m\u001b[0;34m,\u001b[0m \u001b[0mx0\u001b[0m\u001b[0;34m,\u001b[0m \u001b[0margs\u001b[0m\u001b[0;34m,\u001b[0m \u001b[0mjac\u001b[0m\u001b[0;34m,\u001b[0m \u001b[0mcallback\u001b[0m\u001b[0;34m,\u001b[0m \u001b[0;34m**\u001b[0m\u001b[0moptions\u001b[0m\u001b[0;34m)\u001b[0m\u001b[0;34m\u001b[0m\u001b[0;34m\u001b[0m\u001b[0m\n\u001b[1;32m    603\u001b[0m     \u001b[0;32melif\u001b[0m \u001b[0mmeth\u001b[0m \u001b[0;34m==\u001b[0m \u001b[0;34m'bfgs'\u001b[0m\u001b[0;34m:\u001b[0m\u001b[0;34m\u001b[0m\u001b[0;34m\u001b[0m\u001b[0m\n\u001b[0;32m--> 604\u001b[0;31m         \u001b[0;32mreturn\u001b[0m \u001b[0m_minimize_bfgs\u001b[0m\u001b[0;34m(\u001b[0m\u001b[0mfun\u001b[0m\u001b[0;34m,\u001b[0m \u001b[0mx0\u001b[0m\u001b[0;34m,\u001b[0m \u001b[0margs\u001b[0m\u001b[0;34m,\u001b[0m \u001b[0mjac\u001b[0m\u001b[0;34m,\u001b[0m \u001b[0mcallback\u001b[0m\u001b[0;34m,\u001b[0m \u001b[0;34m**\u001b[0m\u001b[0moptions\u001b[0m\u001b[0;34m)\u001b[0m\u001b[0;34m\u001b[0m\u001b[0;34m\u001b[0m\u001b[0m\n\u001b[0m\u001b[1;32m    605\u001b[0m     \u001b[0;32melif\u001b[0m \u001b[0mmeth\u001b[0m \u001b[0;34m==\u001b[0m \u001b[0;34m'newton-cg'\u001b[0m\u001b[0;34m:\u001b[0m\u001b[0;34m\u001b[0m\u001b[0;34m\u001b[0m\u001b[0m\n\u001b[1;32m    606\u001b[0m         return _minimize_newtoncg(fun, x0, args, jac, hess, hessp, callback,\n",
      "\u001b[0;32m~/anaconda3/lib/python3.7/site-packages/scipy/optimize/optimize.py\u001b[0m in \u001b[0;36m_minimize_bfgs\u001b[0;34m(fun, x0, args, jac, callback, gtol, norm, eps, maxiter, disp, return_all, **unknown_options)\u001b[0m\n\u001b[1;32m   1001\u001b[0m     \u001b[0mfunc_calls\u001b[0m\u001b[0;34m,\u001b[0m \u001b[0mf\u001b[0m \u001b[0;34m=\u001b[0m \u001b[0mwrap_function\u001b[0m\u001b[0;34m(\u001b[0m\u001b[0mf\u001b[0m\u001b[0;34m,\u001b[0m \u001b[0margs\u001b[0m\u001b[0;34m)\u001b[0m\u001b[0;34m\u001b[0m\u001b[0;34m\u001b[0m\u001b[0m\n\u001b[1;32m   1002\u001b[0m \u001b[0;34m\u001b[0m\u001b[0m\n\u001b[0;32m-> 1003\u001b[0;31m     \u001b[0mold_fval\u001b[0m \u001b[0;34m=\u001b[0m \u001b[0mf\u001b[0m\u001b[0;34m(\u001b[0m\u001b[0mx0\u001b[0m\u001b[0;34m)\u001b[0m\u001b[0;34m\u001b[0m\u001b[0;34m\u001b[0m\u001b[0m\n\u001b[0m\u001b[1;32m   1004\u001b[0m \u001b[0;34m\u001b[0m\u001b[0m\n\u001b[1;32m   1005\u001b[0m     \u001b[0;32mif\u001b[0m \u001b[0mfprime\u001b[0m \u001b[0;32mis\u001b[0m \u001b[0;32mNone\u001b[0m\u001b[0;34m:\u001b[0m\u001b[0;34m\u001b[0m\u001b[0;34m\u001b[0m\u001b[0m\n",
      "\u001b[0;32m~/anaconda3/lib/python3.7/site-packages/scipy/optimize/optimize.py\u001b[0m in \u001b[0;36mfunction_wrapper\u001b[0;34m(*wrapper_args)\u001b[0m\n\u001b[1;32m    325\u001b[0m     \u001b[0;32mdef\u001b[0m \u001b[0mfunction_wrapper\u001b[0m\u001b[0;34m(\u001b[0m\u001b[0;34m*\u001b[0m\u001b[0mwrapper_args\u001b[0m\u001b[0;34m)\u001b[0m\u001b[0;34m:\u001b[0m\u001b[0;34m\u001b[0m\u001b[0;34m\u001b[0m\u001b[0m\n\u001b[1;32m    326\u001b[0m         \u001b[0mncalls\u001b[0m\u001b[0;34m[\u001b[0m\u001b[0;36m0\u001b[0m\u001b[0;34m]\u001b[0m \u001b[0;34m+=\u001b[0m \u001b[0;36m1\u001b[0m\u001b[0;34m\u001b[0m\u001b[0;34m\u001b[0m\u001b[0m\n\u001b[0;32m--> 327\u001b[0;31m         \u001b[0;32mreturn\u001b[0m \u001b[0mfunction\u001b[0m\u001b[0;34m(\u001b[0m\u001b[0;34m*\u001b[0m\u001b[0;34m(\u001b[0m\u001b[0mwrapper_args\u001b[0m \u001b[0;34m+\u001b[0m \u001b[0margs\u001b[0m\u001b[0;34m)\u001b[0m\u001b[0;34m)\u001b[0m\u001b[0;34m\u001b[0m\u001b[0;34m\u001b[0m\u001b[0m\n\u001b[0m\u001b[1;32m    328\u001b[0m \u001b[0;34m\u001b[0m\u001b[0m\n\u001b[1;32m    329\u001b[0m     \u001b[0;32mreturn\u001b[0m \u001b[0mncalls\u001b[0m\u001b[0;34m,\u001b[0m \u001b[0mfunction_wrapper\u001b[0m\u001b[0;34m\u001b[0m\u001b[0;34m\u001b[0m\u001b[0m\n",
      "\u001b[0;31mTypeError\u001b[0m: X2_fun_Gauss() missing 1 required positional argument: 'dist_lim'"
     ]
    }
   ],
   "source": [
    "# Testing Gaussian fitting\n",
    "path15 ='/mnt/c/Users/Noah Notis/Dropbox/USRP2020_Noah/src/FDM2020/rad_files/f1.5L20T4n400r256/radial0400.h5'\n",
    "#path2 ='/mnt/c/Users/Noah Notis/Dropbox/USRP2020_Noah/src/FDM2020/rad_files/f2L20T4n400r256/radial0400.h5'\n",
    "pathInf ='/mnt/c/Users/Noah Notis/Dropbox/USRP2020_Noah/src/FDM2020/rad_files/fInfL20T4n400r256/rad_filesradial0400.h5'\n",
    "\n",
    "hf15 = h5py.File(path15, 'r')\n",
    "#hf2 = h5py.File(path2, 'r')\n",
    "hfInf = h5py.File(pathInf, 'r')\n",
    "\n",
    "dist15 = np.array(hf15['distances'])\n",
    "dens15 = np.array(hf15['densities'])\n",
    "\n",
    "#dist2 = np.array(hf2['distances'])\n",
    "#dens2 = np.array(hf2['densities'])\n",
    "\n",
    "distInf = np.array(hfInf['distances'])\n",
    "densInf = np.array(hfInf['densities'])\n",
    "\n",
    "res15 = fit_profile_Gauss(dist15, dens15, 0.65)\n",
    "#test_result2 = fit_profile(2, dist2, dens2, 1)\n",
    "resInf = fit_profile_Gauss(distInf, densInf, 0.65)\n",
    "\n",
    "#testing\n",
    "rc15 = res15.x[0]\n",
    "rcInf = resInf.x[0]\n",
    "rho15 = res15.x[1]\n",
    "rhoInf = resInf.x[1]\n",
    "\n",
    "print(\"params for 1.5: \" + str(rc15) + \" \" + str(rho15))\n",
    "print(\"params for Inf: \" + str(rcInf) + \" \" + str(rhoInf))\n",
    "\n",
    "dist_lim = 0.65\n",
    "\n",
    "plt.scatter(dist15, dens15, s = 1)\n",
    "#plt.scatter(dist2, dens2, s = 1)\n",
    "plt.scatter(distInf, densInf, s = 1)\n",
    "plt.plot(dist15, an_prof_Gauss(dist15, rc15, rho15))\n",
    "#plt.plot(r, an_prof(r, rc15, 2))\n",
    "plt.plot(dist15, an_prof_Gauss(distInf, rc, rhoInf))\n",
    "\n",
    "plt.xscale('log')\n",
    "plt.yscale('log')\n",
    "plt.xlabel('Radial Distance (kpc)')\n",
    "plt.ylabel('Density (Msun / (kpc)^3)')\n",
    "plt.title('Radial Distance vs. Density')\n",
    "plt.ylim(10**4, 10**(12.5))\n",
    "plt.xlim(10**(-2), 10**(1.4))\n",
    "#textstr = 'rc = ' + \"%.2f\" % rc\n",
    "#plt.legend(['Analytic Profile f = 1.5, rc = ' + \"%.2f\" % rc15, 'Analytic Profile f = Inf, rc = ' + \"%.2f\" % rcInf, 'Simulation: f = 1.5', 'Simulation: f = Inf'])\n",
    "#plt.legend(['Analytic Profile f = 1.5, rc = ' + \"%.2f\" % rc15, 'Analytic Profile f = 2, rc = ' + \"%.2f\" % rc2, 'Analytic Profile f = Inf, rc = ' + \"%.2f\" % rcInf, 'Simulation: f = 1.5', 'Simulation: f = 2', 'Simulation: f = Inf'])\n",
    "#plt.savefig('/mnt/c/Users/Noah Notis/Dropbox/USRP2020_Noah/src/FDM2020/fit_test.png', dpi = 200)"
   ]
  },
  {
   "cell_type": "markdown",
   "metadata": {},
   "source": [
    "Trying the one parameter function fitting:"
   ]
  },
  {
   "cell_type": "code",
   "execution_count": 17,
   "metadata": {},
   "outputs": [],
   "source": [
    "def simple_fun(r, rc):\n",
    "    rho = (1.9e7 / (rc**4))\n",
    "    term = (1 + 0.091*(r/rc)**2)**-8\n",
    "    return rho * term"
   ]
  },
  {
   "cell_type": "code",
   "execution_count": 18,
   "metadata": {},
   "outputs": [],
   "source": [
    "#X2 function for simple fit\n",
    "\n",
    "def X2_fun_simple(x, dist, dens, dist_lim):\n",
    "    rc = x[0]\n",
    "    #rho = x[1] \n",
    "    r = dist_cutoff(dist, dist_lim)\n",
    "    densities = dens_cutoff(dens, len(r))\n",
    "    X2 = (((simple_fun(r, rc)) - densities)**2)\n",
    "    indices = [0, len(X2)-1]\n",
    "    return X2[indices].sum()"
   ]
  },
  {
   "cell_type": "code",
   "execution_count": 21,
   "metadata": {},
   "outputs": [],
   "source": [
    "#radial-density fitting function\n",
    "#params are two nparrays\n",
    "#analytic radial profile function\n",
    "\n",
    "def fit_profile_simple(dist, dens, dist_lim):\n",
    "    dist1 = np.sort(dist)\n",
    "    dens1 = (-1)*(np.sort(dens*(-1)))\n",
    "    params = (dist1, dens1, dist_lim)\n",
    "    p = (0.17)\n",
    "    x0 = np.asarray(p)\n",
    "    result = minimize(X2_fun_simple, x0, args = params)\n",
    "    return result"
   ]
  },
  {
   "cell_type": "code",
   "execution_count": 25,
   "metadata": {},
   "outputs": [
    {
     "name": "stdout",
     "output_type": "stream",
     "text": [
      "params for 1.5: 0.15490565598938394\n",
      "params for 2: 0.16163750504295163\n",
      "params for Inf: 0.17964824968431806\n"
     ]
    },
    {
     "data": {
      "text/plain": [
       "(0.01, 25.118864315095795)"
      ]
     },
     "execution_count": 25,
     "metadata": {},
     "output_type": "execute_result"
    },
    {
     "data": {
      "image/png": "[encoded data removed]",
      "text/plain": [
       "<Figure size 432x288 with 1 Axes>"
      ]
     },
     "metadata": {
      "needs_background": "light"
     },
     "output_type": "display_data"
    }
   ],
   "source": [
    "# Testing Gaussian fitting\n",
    "path15 ='/mnt/c/Users/Noah Notis/Dropbox/USRP2020_Noah/src/FDM2020/rad_files/f1.5L20T4n400r256/radial0400.h5'\n",
    "path2 ='/mnt/c/Users/Noah Notis/Dropbox/USRP2020_Noah/src/FDM2020/rad_files/f2L20T4n400r256/radial0400.h5'\n",
    "pathInf ='/mnt/c/Users/Noah Notis/Dropbox/USRP2020_Noah/src/FDM2020/rad_files/fInfL20T4n400r256/rad_filesradial0400.h5'\n",
    "\n",
    "hf15 = h5py.File(path15, 'r')\n",
    "hf2 = h5py.File(path2, 'r')\n",
    "hfInf = h5py.File(pathInf, 'r')\n",
    "\n",
    "dist15 = np.array(hf15['distances'])\n",
    "dens15 = np.array(hf15['densities'])\n",
    "\n",
    "dist2 = np.array(hf2['distances'])\n",
    "dens2 = np.array(hf2['densities'])\n",
    "\n",
    "distInf = np.array(hfInf['distances'])\n",
    "densInf = np.array(hfInf['densities'])\n",
    "\n",
    "res15 = fit_profile_simple(dist15, dens15, 0.65)\n",
    "res2 = fit_profile_simple(dist2, dens2, 0.65)\n",
    "resInf = fit_profile_simple(distInf, densInf, 0.65)\n",
    "\n",
    "#testing\n",
    "rc15 = res15.x[0]\n",
    "rc2 = res2.x[0]\n",
    "rcInf = resInf.x[0]\n",
    "\n",
    "print(\"params for 1.5: \" + str(rc15))\n",
    "print(\"params for 2: \" + str(rc2))\n",
    "print(\"params for Inf: \" + str(rcInf))\n",
    "\n",
    "plt.scatter(dist15, dens15, s = 1)\n",
    "plt.scatter(dist2, dens2, s = 1)\n",
    "plt.scatter(distInf, densInf, s = 1)\n",
    "\n",
    "plt.plot(dist15, simple_fun(dist15, rc15), 'r')\n",
    "plt.plot(dist2, simple_fun(dist2, rc2), 'b')\n",
    "plt.plot(distInf, simple_fun(distInf, rc), 'g')\n",
    "\n",
    "\n",
    "plt.xscale('log')\n",
    "plt.yscale('log')\n",
    "plt.xlabel('Radial Distance (kpc)')\n",
    "plt.ylabel('Density (Msun / (kpc)^3)')\n",
    "plt.title('Radial Distance vs. Density')\n",
    "plt.ylim(10**4, 10**(12.5))\n",
    "plt.xlim(10**(-2), 10**(1.4))\n",
    "\n",
    "plt.legend['']"
   ]
  },
  {
   "cell_type": "code",
   "execution_count": 33,
   "metadata": {},
   "outputs": [
    {
     "data": {
      "text/plain": [
       "<matplotlib.collections.PathCollection at 0x7fd04b689b90>"
      ]
     },
     "execution_count": 33,
     "metadata": {},
     "output_type": "execute_result"
    },
    {
     "data": {
      "image/png": "[encoded data removed]",
      "text/plain": [
       "<Figure size 432x288 with 1 Axes>"
      ]
     },
     "metadata": {
      "needs_background": "light"
     },
     "output_type": "display_data"
    }
   ],
   "source": [
    "# In simple fit case, computing rc as a function of f\n",
    "f_vals = [np.Inf, 4, 2, 1.75, 1.5, 1.25, 1.1875, 1.1562, 1.1484]\n",
    "f = np.asarray(f_vals)\n",
    "rc_vals = np.zeros(len(f_vals))\n",
    "\n",
    "pathInf = '/mnt/c/Users/Noah Notis/Dropbox/USRP2020_Noah/src/FDM2020/rad_files/fInfL20T4n400r256/rad_filesradial0400.h5'\n",
    "path4 = '/mnt/c/Users/Noah Notis/Dropbox/USRP2020_Noah/src/FDM2020/rad_files/f4L20T4n400r256/radial0400.h5'\n",
    "path2 = '/mnt/c/Users/Noah Notis/Dropbox/USRP2020_Noah/src/FDM2020/rad_files/f2L20T4n400r256/radial0400.h5'\n",
    "path175 = '/mnt/c/Users/Noah Notis/Dropbox/USRP2020_Noah/src/FDM2020/rad_files/f1.75L20T4n40r256/radial0040.h5'\n",
    "path15 = '/mnt/c/Users/Noah Notis/Dropbox/USRP2020_Noah/src/FDM2020/rad_files/f1.5L20T4n400r256/radial0400.h5'\n",
    "path125 = '/mnt/c/Users/Noah Notis/Dropbox/USRP2020_Noah/src/FDM2020/rad_files/f1.25L20T4n40r256/radial0040.h5'\n",
    "path11875 = '/mnt/c/Users/Noah Notis/Dropbox/USRP2020_Noah/src/FDM2020/rad_files/f1.1875L20T4n40r256/radial0040.h5'\n",
    "path11562 = '/mnt/c/Users/Noah Notis/Dropbox/USRP2020_Noah/src/FDM2020/rad_files/f1.1562L20T4n40r256/radial0040.h5'\n",
    "path11484 = '/mnt/c/Users/Noah Notis/Dropbox/USRP2020_Noah/src/FDM2020/rad_files/f1.1484L20T4n40r256/radial0040.h5'\n",
    "\n",
    "paths = [pathInf, path4, path2, path175, path15, path125, path11875, path11562, path11484]\n",
    "for i in range(0, len(paths)):\n",
    "    hf = h5py.File(paths[i], 'r')\n",
    "    dist = np.array(hf['distances'])\n",
    "    dens = np.array(hf['densities'])\n",
    "    res = fit_profile_simple(dist, dens, 0.65)\n",
    "    rc_vals[i] = res.x[0]\n",
    "\n",
    "plt.scatter((f**-1), rc_vals)"
   ]
  },
  {
   "cell_type": "code",
   "execution_count": 32,
   "metadata": {},
   "outputs": [
    {
     "name": "stdout",
     "output_type": "stream",
     "text": [
      "inf\n"
     ]
    }
   ],
   "source": [
    "print(str(np.Inf))"
   ]
  },
  {
   "cell_type": "code",
   "execution_count": 30,
   "metadata": {},
   "outputs": [
    {
     "name": "stdout",
     "output_type": "stream",
     "text": [
      "[0.         0.25       0.5        0.57142857 0.66666667 0.8\n",
      " 0.84210526 0.86490227 0.87077673]\n"
     ]
    }
   ],
   "source": [
    "f_vals = [np.Inf, 4, 2, 1.75, 1.5, 1.25, 1.1875, 1.1562, 1.1484]\n",
    "f = np.asarray(f_vals)\n",
    "print(f**-1)"
   ]
  },
  {
   "cell_type": "code",
   "execution_count": null,
   "metadata": {},
   "outputs": [],
   "source": []
  }
 ],
 "metadata": {
  "kernelspec": {
   "display_name": "Python 3",
   "language": "python",
   "name": "python3"
  },
  "language_info": {
   "codemirror_mode": {
    "name": "ipython",
    "version": 3
   },
   "file_extension": ".py",
   "mimetype": "text/x-python",
   "name": "python",
   "nbconvert_exporter": "python",
   "pygments_lexer": "ipython3",
   "version": "3.7.6"
  }
 },
 "nbformat": 4,
 "nbformat_minor": 4
}
