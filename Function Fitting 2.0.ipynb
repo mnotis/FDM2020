{
 "cells": [
  {
   "cell_type": "code",
   "execution_count": 1,
   "metadata": {},
   "outputs": [],
   "source": [
    "import numpy as np\n",
    "import matplotlib.pyplot as plt\n",
    "import h5py\n",
    "import os\n",
    "from scipy.optimize import minimize\n",
    "import scipy.constants as const"
   ]
  },
  {
   "cell_type": "code",
   "execution_count": 2,
   "metadata": {},
   "outputs": [],
   "source": [
    "#function takes in a cubic np density array and rolls it so tha the highest point is in the center.\n",
    "#only to be used for the steady state images\n",
    "\n",
    "def rho_roll(rho):\n",
    "    rho_len = rho.shape[0]\n",
    "    # finding the maximum value's index\n",
    "    max_ind = np.where(rho == np.amax(rho))\n",
    "    x_max = max_ind[0][0]\n",
    "    y_max = max_ind[1][0]\n",
    "    z_max = max_ind[2][0]\n",
    "    signed_x_dist_to_cent = int(rho_len / 2) - x_max\n",
    "    signed_y_dist_to_cent = int(rho_len / 2) - y_max\n",
    "    signed_z_dist_to_cent = int(rho_len / 2) - z_max\n",
    "    #moving the core to the center of the cube\n",
    "    rho_n = np.roll(rho, signed_x_dist_to_cent, axis=0)\n",
    "    rho_n2 = np.roll(rho_n, signed_y_dist_to_cent, axis=1)\n",
    "    rho_n3 = np.roll(rho_n2, signed_z_dist_to_cent, axis=2)\n",
    "    rho = rho_n3\n",
    "    return rho"
   ]
  },
  {
   "cell_type": "code",
   "execution_count": 3,
   "metadata": {},
   "outputs": [],
   "source": [
    "# function that calculates distances between two 3d points:\n",
    "\n",
    "def get_distance(a, b):\n",
    "    return np.sqrt((a[0] - b[0])**2 + (a[1] - b[1])**2 + (a[2]- b[2])**2)"
   ]
  },
  {
   "cell_type": "code",
   "execution_count": 4,
   "metadata": {},
   "outputs": [],
   "source": [
    "#cuts off a distance array such that it only has elements < a certain length\n",
    "\n",
    "def dist_cutoff(dist, dist_lim):\n",
    "    distance = []\n",
    "    for x in dist:\n",
    "        if (x < dist_lim):\n",
    "            distance.append(x)\n",
    "    return np.asarray(distance)"
   ]
  },
  {
   "cell_type": "code",
   "execution_count": 5,
   "metadata": {},
   "outputs": [],
   "source": [
    "#cuts off a density array at a given number of elements\n",
    "#not in place\n",
    "\n",
    "def dens_cutoff(dens, n_elements):\n",
    "    densities = np.zeros(n_elements)\n",
    "    for i in range(0, n_elements):\n",
    "        densities[i] = dens[i]\n",
    "    return densities"
   ]
  },
  {
   "cell_type": "code",
   "execution_count": 6,
   "metadata": {},
   "outputs": [
    {
     "name": "stdout",
     "output_type": "stream",
     "text": [
      "0.9919857693768901\n"
     ]
    }
   ],
   "source": [
    "#functions\n",
    "def i1(arg):\n",
    "    return np.tanh(arg/4)\n",
    "\n",
    "def i2(arg):\n",
    "    return np.tanh(arg) \n",
    "\n",
    "def i3(arg):\n",
    "    return (np.tanh(np.sqrt(arg)))**2\n",
    "\n",
    "def beta(f , rc):\n",
    "    f = f * 1e15\n",
    "    hbar = const.hbar\n",
    "    c = const.c\n",
    "    G = const.G\n",
    "    GeV_to_J = 1.60218e-10\n",
    "    prefactor = 6.9e-9 * (rc ** (-2))\n",
    "    factor = (hbar * (c**5)) / (32 * G * f**2) \n",
    "    return prefactor*factor / ((GeV_to_J)**2)\n",
    "\n",
    "#testing\n",
    "f1 = 1 \n",
    "rc = 0.18\n",
    "print(beta(f1 , rc))"
   ]
  },
  {
   "cell_type": "code",
   "execution_count": 11,
   "metadata": {},
   "outputs": [],
   "source": [
    "#analytic profile of the core\n",
    "\n",
    "def an_prof(r, rc, f):\n",
    "    b = beta(f, rc)\n",
    "    rho = ((1.9*10**7) / (rc**4)) #*((1/0.1)**2)\n",
    "    i1term = 1. + 2.6*i1(b)\n",
    "    exp_inner = 2. - ((1./5.) * i2(b))\n",
    "    exp_outer = -8. + ((22./5.)*i3(b))\n",
    "    term = (1 + i1term*0.091*(r*np.sqrt(1 + b)/rc)**exp_inner)**exp_outer\n",
    "    #print(\"i1 term for f = \" + str(f) + \": \" + str(i1term))\n",
    "    #print(\"Inner Exponent for f = \" + str(f) + \": \" + str(exp_inner))\n",
    "    #print(\"Outer Exponent for f = \" + str(f) + \": \" + str(exp_outer))\n",
    "    #print('\\n')\n",
    "    return rho * term"
   ]
  },
  {
   "cell_type": "code",
   "execution_count": 12,
   "metadata": {},
   "outputs": [
    {
     "data": {
      "text/plain": [
       "<matplotlib.legend.Legend at 0x7f458474dd50>"
      ]
     },
     "execution_count": 12,
     "metadata": {},
     "output_type": "execute_result"
    },
    {
     "data": {
      "image/png": "[encoded data removed]",
      "text/plain": [
       "<Figure size 432x288 with 1 Axes>"
      ]
     },
     "metadata": {
      "needs_background": "light"
     },
     "output_type": "display_data"
    }
   ],
   "source": [
    "#testing\n",
    "\n",
    "radius = np.logspace(-2, 1, 10000)\n",
    "den1 = an_prof(radius, 0.18, np.inf)\n",
    "den2 = an_prof(radius, 0.18, 4)\n",
    "den3 = an_prof(radius, 0.17, 2)\n",
    "den4 = an_prof(radius, 0.16, 1.5)\n",
    "den5 = an_prof(radius, 0.18, 1.)\n",
    "\n",
    "plt.plot(radius, den1, 'g')\n",
    "plt.plot(radius, den2, 'b')\n",
    "plt.plot(radius, den3, 'y')\n",
    "plt.plot(radius, den4, 'r')\n",
    "plt.plot(radius, den5)\n",
    "\n",
    "plt.xscale('log')\n",
    "plt.yscale('log')\n",
    "plt.ylim(10**5, 10**(12))\n",
    "plt.xlim(10**(-1.5), 10**(0.5))\n",
    "plt.xlabel('Radius (kpc)')\n",
    "plt.ylabel('Density (Msun/kpc^3)')\n",
    "plt.title('Modified Analytic Fitting')\n",
    "plt.legend(['f = inf', 'f = 4', 'f = 2', 'f = 1.5', 'f = 1'])"
   ]
  },
  {
   "cell_type": "code",
   "execution_count": 13,
   "metadata": {},
   "outputs": [],
   "source": [
    "#X2 function\n",
    "\n",
    "def X2_fun(rc, f, dist, dens, dist_lim):\n",
    "    r = dist_cutoff(dist, dist_lim)\n",
    "    densities = dens_cutoff(dens, len(r))\n",
    "    X2 = (((an_prof(r, rc, f)) - densities)**2)\n",
    "    indices = [0, len(X2)-1]\n",
    "    return X2[indices].sum()"
   ]
  },
  {
   "cell_type": "code",
   "execution_count": 31,
   "metadata": {
    "scrolled": true
   },
   "outputs": [
    {
     "name": "stderr",
     "output_type": "stream",
     "text": [
      "/home/mnotis/anaconda3/lib/python3.7/site-packages/ipykernel_launcher.py:9: RuntimeWarning: invalid value encountered in power\n",
      "  if __name__ == '__main__':\n",
      "/home/mnotis/anaconda3/lib/python3.7/site-packages/ipykernel_launcher.py:9: RuntimeWarning: invalid value encountered in power\n",
      "  if __name__ == '__main__':\n",
      "/home/mnotis/anaconda3/lib/python3.7/site-packages/ipykernel_launcher.py:9: RuntimeWarning: invalid value encountered in power\n",
      "  if __name__ == '__main__':\n",
      "/home/mnotis/anaconda3/lib/python3.7/site-packages/ipykernel_launcher.py:9: RuntimeWarning: invalid value encountered in power\n",
      "  if __name__ == '__main__':\n"
     ]
    },
    {
     "data": {
      "image/png": "[encoded data removed]",
      "text/plain": [
       "<Figure size 432x288 with 1 Axes>"
      ]
     },
     "metadata": {
      "needs_background": "light"
     },
     "output_type": "display_data"
    }
   ],
   "source": [
    "#radial-density fitting function\n",
    "#params are two nparrays\n",
    "#analytic radial profile function\n",
    "\n",
    "def fit_profile(f, dist, dens, dist_lim):\n",
    "    dist1 = np.sort(dist)\n",
    "    dens1 = (-1)*(np.sort(dens*(-1)))\n",
    "    params = (f, dist1, dens1, dist_lim)\n",
    "    x0 = np.asarray(1)\n",
    "    result = minimize(X2_fun, x0, args = params)\n",
    "    return result\n",
    "\n",
    "\n",
    "path15 ='/mnt/c/Users/Noah Notis/Dropbox/USRP2020_Noah/src/FDM2020/rad_files/f1.5L20T4n400r256/radial0400.h5'\n",
    "#path2 ='/mnt/c/Users/Noah Notis/Dropbox/USRP2020_Noah/src/FDM2020/rad_files/f2L20T4n400r256/radial0400.h5'\n",
    "pathInf ='/mnt/c/Users/Noah Notis/Dropbox/USRP2020_Noah/src/FDM2020/rad_files/fInfL20T4n400r256/rad_filesradial0400.h5'\n",
    "\n",
    "hf15 = h5py.File(path15, 'r')\n",
    "#hf2 = h5py.File(path2, 'r')\n",
    "hfInf = h5py.File(pathInf, 'r')\n",
    "\n",
    "dist15 = np.array(hf15['distances'])\n",
    "dens15 = np.array(hf15['densities'])\n",
    "\n",
    "#dist2 = np.array(hf2['distances'])\n",
    "#dens2 = np.array(hf2['densities'])\n",
    "\n",
    "distInf = np.array(hfInf['distances'])\n",
    "densInf = np.array(hfInf['densities'])\n",
    "\n",
    "test_result15 = fit_profile(1.5, dist15, dens15, 1)\n",
    "#test_result2 = fit_profile(2, dist2, dens2, 1)\n",
    "test_resultInf = fit_profile(np.Inf, distInf, densInf, 1)\n",
    "\n",
    "#testing\n",
    "rc15 = test_result15.x[0]\n",
    "#rc2 = test_result2.x[0]\n",
    "rcInf = test_resultInf.x[0]\n",
    "\n",
    "dist_lim = 0.65\n",
    "\n",
    "plt.scatter(dist15, dens15, s = 1)\n",
    "#plt.scatter(dist2, dens2, s = 1)\n",
    "plt.scatter(distInf, densInf, s = 1)\n",
    "\n",
    "plt.plot(r, an_prof(r, rc15, 1.5))\n",
    "#plt.plot(r, an_prof(r, rc15, 2))\n",
    "plt.plot(r, an_prof(r, rcInf, np.Inf))\n",
    "\n",
    "plt.xscale('log')\n",
    "plt.yscale('log')\n",
    "plt.xlabel('Radial Distance (kpc)')\n",
    "plt.ylabel('Density (Msun / (kpc)^3)')\n",
    "plt.title('Radial Distance vs. Density')\n",
    "plt.ylim(10**4, 10**(12.5))\n",
    "plt.xlim(10**(-2), 10**(1.4))\n",
    "textstr = 'rc = ' + \"%.2f\" % rc\n",
    "plt.legend(['Analytic Profile f = 1.5, rc = ' + \"%.2f\" % rc15, 'Analytic Profile f = Inf, rc = ' + \"%.2f\" % rcInf, 'Simulation: f = 1.5', 'Simulation: f = Inf'])\n",
    "#plt.legend(['Analytic Profile f = 1.5, rc = ' + \"%.2f\" % rc15, 'Analytic Profile f = 2, rc = ' + \"%.2f\" % rc2, 'Analytic Profile f = Inf, rc = ' + \"%.2f\" % rcInf, 'Simulation: f = 1.5', 'Simulation: f = 2', 'Simulation: f = Inf'])\n",
    "plt.savefig('/mnt/c/Users/Noah Notis/Dropbox/USRP2020_Noah/src/FDM2020/fit_test.png', dpi = 200)"
   ]
  },
  {
   "cell_type": "code",
   "execution_count": null,
   "metadata": {},
   "outputs": [],
   "source": []
  }
 ],
 "metadata": {
  "kernelspec": {
   "display_name": "Python 3",
   "language": "python",
   "name": "python3"
  },
  "language_info": {
   "codemirror_mode": {
    "name": "ipython",
    "version": 3
   },
   "file_extension": ".py",
   "mimetype": "text/x-python",
   "name": "python",
   "nbconvert_exporter": "python",
   "pygments_lexer": "ipython3",
   "version": "3.7.6"
  }
 },
 "nbformat": 4,
 "nbformat_minor": 4
}
