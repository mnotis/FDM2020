{
 "cells": [
  {
   "cell_type": "code",
   "execution_count": 12,
   "metadata": {},
   "outputs": [],
   "source": [
    "import numpy as np\n",
    "import matplotlib.pyplot as plt\n",
    "import h5py\n",
    "import os\n",
    "from scipy.optimize import minimize\n",
    "import scipy.constants as const"
   ]
  },
  {
   "cell_type": "code",
   "execution_count": 13,
   "metadata": {},
   "outputs": [],
   "source": [
    "#cuts off a distance array such that it only has elements < a certain length\n",
    "\n",
    "def dist_cutoff(dist, dist_lim):\n",
    "    distance = []\n",
    "    for x in dist:\n",
    "        if (x < dist_lim):\n",
    "            distance.append(x)\n",
    "    return np.asarray(distance)"
   ]
  },
  {
   "cell_type": "code",
   "execution_count": 14,
   "metadata": {},
   "outputs": [],
   "source": [
    "#cuts off a density array at a given number of elements\n",
    "#not in place\n",
    "\n",
    "def dens_cutoff(dens, n_elements):\n",
    "    densities = np.zeros(n_elements)\n",
    "    for i in range(0, n_elements):\n",
    "        densities[i] = dens[i]\n",
    "    return densities"
   ]
  },
  {
   "cell_type": "code",
   "execution_count": 15,
   "metadata": {},
   "outputs": [],
   "source": [
    "def beta(f , rc):\n",
    "    f = f * 1e15\n",
    "    hbar = const.hbar\n",
    "    c = const.c\n",
    "    G = const.G\n",
    "    GeV_to_J = 1.60218e-10\n",
    "    prefactor = 6.9e-9 * (rc ** (-2))\n",
    "    factor = (hbar * (c**5)) / (32 * np.pi * G * f**2) \n",
    "    return prefactor*factor / ((GeV_to_J)**2)"
   ]
  },
  {
   "cell_type": "code",
   "execution_count": 16,
   "metadata": {},
   "outputs": [],
   "source": [
    "#analytic profile of the core\n",
    "\n",
    "def broken_power_fun(rc, rho, exp_inner, exp_outer, r):\n",
    "    #b = beta(f, rc)\n",
    "    #rho = (1.9e7 / (rc**4))\n",
    "    #i1term = 1. + 2.6*i1(b)\n",
    "    #exp_inner = 2. - ((1./5.) * i2(b))\n",
    "    #exp_outer = -8. + ((22./5.)*i3(b))\n",
    "    term = (1 + 0.091 * (r/rc)**exp_inner)**exp_outer\n",
    "    return 10**rho * term"
   ]
  },
  {
   "cell_type": "code",
   "execution_count": 17,
   "metadata": {},
   "outputs": [],
   "source": [
    "#X2 function for simple fit\n",
    "\n",
    "def X2_fun_broken(x, dist, dens, dist_lim):\n",
    "    rc = x[0]\n",
    "    rho = x[1] \n",
    "    exp_inner = x[2]\n",
    "    exp_outer = x[3]\n",
    "    r = dist_cutoff(dist, dist_lim)\n",
    "    densities = dens_cutoff(dens, len(r))\n",
    "    X2 = (((broken_power_fun(rc, rho, exp_inner, exp_outer, r)) - densities)**2)\n",
    "    return X2[0:len(X2)].sum()"
   ]
  },
  {
   "cell_type": "code",
   "execution_count": 37,
   "metadata": {},
   "outputs": [],
   "source": [
    "#radial-density fitting function\n",
    "#params are two nparrays\n",
    "#analytic radial profile function\n",
    "\n",
    "def fit_profile_broken(dist, dens, dist_lim):\n",
    "    dist1 = np.sort(dist)\n",
    "    dens1 = (-1)*(np.sort(dens*(-1)))\n",
    "    params = (dist1, dens1, dist_lim)\n",
    "    p = (0.17, 8, 2, -8)\n",
    "    x0 = np.asarray(p)\n",
    "    result = minimize(X2_fun_broken, x0, args = params, bounds = [(.01, 1), (5, 12), (0, 5), (-10, 5)])\n",
    "    return result"
   ]
  },
  {
   "cell_type": "code",
   "execution_count": 38,
   "metadata": {},
   "outputs": [
    {
     "name": "stdout",
     "output_type": "stream",
     "text": [
      "      fun: 3.836629693047421e+16\n",
      " hess_inv: <4x4 LbfgsInvHessProduct with dtype=float64>\n",
      "      jac: array([ 8.30662808e+16,  7.82072000e+13, -2.11667840e+15,  6.96328800e+14])\n",
      "  message: b'CONVERGENCE: REL_REDUCTION_OF_F_<=_FACTR*EPSMCH'\n",
      "     nfev: 360\n",
      "      nit: 35\n",
      "   status: 0\n",
      "  success: True\n",
      "        x: array([ 0.07969101, 11.00268554,  1.9749328 , -5.39974352])\n"
     ]
    },
    {
     "data": {
      "text/plain": [
       "(0.01, 25.118864315095795)"
      ]
     },
     "execution_count": 38,
     "metadata": {},
     "output_type": "execute_result"
    },
    {
     "data": {
      "image/png": "[encoded data removed]",
      "text/plain": [
       "<Figure size 432x288 with 1 Axes>"
      ]
     },
     "metadata": {
      "needs_background": "light"
     },
     "output_type": "display_data"
    }
   ],
   "source": [
    "path125 = '/mnt/c/Users/Noah Notis/Dropbox/USRP2020_Noah/src/FDM2020/rad_files/f1.1484L20T4n40r256/radial0040.h5'\n",
    "hf125 = h5py.File(path125, 'r')\n",
    "dist125 = np.array(hf125['distances'])\n",
    "dens125 = np.array(hf125['densities'])\n",
    "res = fit_profile_broken(dist125, dens125, 0.65)\n",
    "rc125 = np.abs(res.x[0])\n",
    "rho125 = res.x[1]\n",
    "exp_inner125 = res.x[2]\n",
    "exp_outer125 = res.x[3]\n",
    "print(res)\n",
    "plt.scatter(dist125, dens125, s = 1)\n",
    "test_dist = np.linspace(0.01, 15, 100000)\n",
    "plt.plot(test_dist, broken_power_fun(rc125, rho125, exp_inner125, exp_outer125, test_dist), 'r')\n",
    "\n",
    "plt.xscale('log')\n",
    "plt.yscale('log')\n",
    "plt.xlabel('Radial Distance (kpc)')\n",
    "plt.ylabel('Density (Msun / (kpc)^3)')\n",
    "plt.title('Radial Distance vs. Density, f = Inf')\n",
    "plt.ylim(10**4, 10**(12.5))\n",
    "plt.xlim(10**(-2), 10**(1.4))\n",
    "\n",
    "#plt.savefig('/mnt/c/Users/Noah Notis/Dropbox/USRP2020_Noah/src/FDM2020/pics/simple_function/)"
   ]
  },
  {
   "cell_type": "code",
   "execution_count": 111,
   "metadata": {
    "scrolled": true
   },
   "outputs": [
    {
     "data": {
      "text/plain": [
       "<Figure size 432x288 with 0 Axes>"
      ]
     },
     "metadata": {},
     "output_type": "display_data"
    }
   ],
   "source": [
    "# In simple fit case, computing rc as a function of f\n",
    "f_vals = [np.Inf, 4, 2, 1.75, 1.5, 1.25, 1.1875, 1.1562, 1.1484]\n",
    "f = np.asarray(f_vals)\n",
    "rc_vals = np.zeros(len(f_vals))\n",
    "rho_vals = np.zeros(len(f_vals))\n",
    "exp_inner_vals = np.zeros(len(f_vals))\n",
    "exp_outer_vals = np.zeros(len(f_vals))\n",
    "X2_vals = np.zeros(len(f_vals))\n",
    "\n",
    "\n",
    "pathInf = '/mnt/c/Users/Noah Notis/Dropbox/USRP2020_Noah/src/FDM2020/rad_files/fInfL20T4n400r256/rad_filesradial0400.h5'\n",
    "path4 = '/mnt/c/Users/Noah Notis/Dropbox/USRP2020_Noah/src/FDM2020/rad_files/f4L20T4n400r256/radial0400.h5'\n",
    "path2 = '/mnt/c/Users/Noah Notis/Dropbox/USRP2020_Noah/src/FDM2020/rad_files/f2L20T4n400r256/radial0400.h5'\n",
    "path175 = '/mnt/c/Users/Noah Notis/Dropbox/USRP2020_Noah/src/FDM2020/rad_files/f1.75L20T4n40r256/radial0040.h5'\n",
    "path15 = '/mnt/c/Users/Noah Notis/Dropbox/USRP2020_Noah/src/FDM2020/rad_files/f1.5L20T4n400r256/radial0400.h5'\n",
    "path125 = '/mnt/c/Users/Noah Notis/Dropbox/USRP2020_Noah/src/FDM2020/rad_files/f1.25L20T4n40r256/radial0040.h5'\n",
    "path11875 = '/mnt/c/Users/Noah Notis/Dropbox/USRP2020_Noah/src/FDM2020/rad_files/f1.1875L20T4n40r256/radial0040.h5'\n",
    "path11562 = '/mnt/c/Users/Noah Notis/Dropbox/USRP2020_Noah/src/FDM2020/rad_files/f1.1562L20T4n40r256/radial0040.h5'\n",
    "path11484 = '/mnt/c/Users/Noah Notis/Dropbox/USRP2020_Noah/src/FDM2020/rad_files/f1.1484L20T4n40r256/radial0040.h5'\n",
    "\n",
    "paths = [pathInf, path4, path2, path175, path15, path125, path11875, path11562, path11484]\n",
    "for i in range(0, len(paths)):\n",
    "    f_val = f_vals[i]\n",
    "    hf = h5py.File(paths[i], 'r')\n",
    "    dist = np.array(hf['distances'])\n",
    "    dens = np.array(hf['densities'])\n",
    "    res = fit_profile_broken(dist, dens, 0.65)\n",
    "    \n",
    "    #params\n",
    "    rc = np.abs(res.x[0])\n",
    "    rho = res.x[1]\n",
    "    exp_inner = res.x[2]\n",
    "    exp_outer = res.x[3]\n",
    "    X2_val = res.fun\n",
    "    \n",
    "    plt.scatter(dist, dens, s = 1)\n",
    "    plt.plot(dist, broken_power_fun(rc, rho, exp_inner, exp_outer, dist), 'r')\n",
    "    plt.xscale('log')\n",
    "    plt.yscale('log')\n",
    "    plt.xlabel('Radial Distance (kpc)')\n",
    "    plt.ylabel('Density (Msun / (kpc)^3)')\n",
    "    plt.title('Radial Distance vs. Density, f = ' + str(f_val))\n",
    "    plt.ylim(10**4, 10**(12.5))\n",
    "    plt.xlim(10**(-2), 10**(1.4))\n",
    "    plt.legend(['rc = ' + \"%.2f\" % rc + \"\\nrho = 10^\" + \"%.2f\" % rho +  \"\\nexp_inner = \" + \"%.2f\" % exp_inner + \"\\nexp_outer = \" + \"%.2f\" % exp_outer])\n",
    "    plt.savefig('/mnt/c/Users/Noah Notis/Dropbox/USRP2020_Noah/src/FDM2020/pics/function_fitting/broken_power_law_function/broken_power_fit_f' + str(f_val) + '.png', dpi = 200)\n",
    "    plt.clf()\n",
    "    \n",
    "    # saving values to arrays\n",
    "    rc_vals[i] = np.abs(rc)\n",
    "    rho_vals[i] = rho\n",
    "    exp_inner_vals[i] = exp_inner\n",
    "    exp_outer_vals[i] = exp_outer\n",
    "    X2_vals[i] = X2_val\n",
    "\n",
    "#rc plot\n",
    "plt.scatter((f**-1), rc_vals)\n",
    "plt.xlabel('1/f')\n",
    "plt.ylabel('rc')\n",
    "plt.title('f^-1 vs. rc (Broken Power)')\n",
    "plt.savefig('/mnt/c/Users/Noah Notis/Dropbox/USRP2020_Noah/src/FDM2020/pics/function_fitting/broken_power_law_function/rc_scaling.png', dpi = 200)\n",
    "plt.clf()\n",
    "\n",
    "#rho plot\n",
    "plt.scatter((f**-1), rho_vals)\n",
    "plt.xlabel('1/f')\n",
    "plt.ylabel('rho')\n",
    "plt.title('f^-1 vs. rho (Broken Power)')\n",
    "plt.savefig('/mnt/c/Users/Noah Notis/Dropbox/USRP2020_Noah/src/FDM2020/pics/function_fitting/broken_power_law_function/rho_scaling.png', dpi = 200)\n",
    "plt.clf()\n",
    "\n",
    "#exp outer plot\n",
    "plt.scatter((f**-1), exp_outer_vals)\n",
    "plt.xlabel('1/f')\n",
    "plt.ylabel('exp_outer')\n",
    "plt.title('f^-1 vs. exp_outer (Broken Power)')\n",
    "plt.savefig('/mnt/c/Users/Noah Notis/Dropbox/USRP2020_Noah/src/FDM2020/pics/function_fitting/broken_power_law_function/exp_outer_scaling.png', dpi = 200)\n",
    "plt.clf()\n",
    "\n",
    "#exp inner plot\n",
    "plt.scatter((f**-1), exp_inner_vals)\n",
    "plt.xlabel('1/f')\n",
    "plt.ylabel('exp_inner')\n",
    "plt.title('f^-1 vs. exp_inner (Broken Power)')\n",
    "plt.savefig('/mnt/c/Users/Noah Notis/Dropbox/USRP2020_Noah/src/FDM2020/pics/function_fitting/broken_power_law_function/exp_inner_scaling.png', dpi = 200)\n",
    "plt.clf()\n",
    "\n",
    "#exp outer plot\n",
    "plt.scatter((f**-1), X2_vals)\n",
    "plt.xlabel('1/f')\n",
    "plt.ylabel('X2')\n",
    "plt.title('f^-1 vs. X2 (Broken Power)')\n",
    "plt.savefig('/mnt/c/Users/Noah Notis/Dropbox/USRP2020_Noah/src/FDM2020/pics/function_fitting/broken_power_law_function/X2_scaling.png', dpi = 200)\n",
    "plt.clf()\n",
    "\n",
    "params = h5py.File('/mnt/c/Users/Noah Notis/Dropbox/USRP2020_Noah/src/FDM2020/pics/function_fitting/broken_power_law_function/broken_params.h5', 'w')\n",
    "params.create_dataset('f', data=f_vals)\n",
    "params.create_dataset('rc', data=rc_vals)\n",
    "params.create_dataset('rho', data=rho_vals)\n",
    "params.create_dataset('exp_outer', data=exp_outer_vals)\n",
    "params.create_dataset('exp_inner', data=exp_inner_vals)\n",
    "params.create_dataset('X2', data=X2_vals)\n",
    "params.close()"
   ]
  },
  {
   "cell_type": "code",
   "execution_count": 112,
   "metadata": {},
   "outputs": [],
   "source": [
    "# Let's try to compute rc as a function of f:\n",
    "# Trying to fit a Gaussian\n",
    "def Gauss(r, a, b, c):\n",
    "    return a * np.exp(-1*((r)/b)**c)\n",
    "\n",
    "#X2 function for Gauss\n",
    "def X2_fun_Gauss(x, dist, dens):\n",
    "    #args[0] = f \n",
    "    #args[1] = dist \n",
    "    #args[2] = dens \n",
    "    #args[3] = dist_lim\n",
    "    rc = x[0]\n",
    "    rho = x[1] \n",
    "    a = x[2]\n",
    "    #r = dist_cutoff(dist, dist_lim)\n",
    "    #densities = dens_cutoff(dens, len(r))\n",
    "    X2 = (((Gauss(dist, rc, rho, a)) - (dens))**2)\n",
    "    return X2[0:(len(X2))].sum()\n",
    "\n",
    "#fitting function\n",
    "def fit_profile_Gauss(dist, dens):\n",
    "    #dist1 = np.sort(dist)\n",
    "    #dens1 = (-1)*(np.sort(dens*(-1)))\n",
    "    params = (dist, dens)\n",
    "    p = (0.2, 0.18, 1.5)\n",
    "    x0 = np.asarray(p)\n",
    "    result = minimize(X2_fun_Gauss, x0, args = params, bounds = [(0.0001, 1), (0, 3), (0.5, 100)])\n",
    "    return result"
   ]
  },
  {
   "cell_type": "code",
   "execution_count": 154,
   "metadata": {},
   "outputs": [],
   "source": [
    "hf = h5py.File('/mnt/c/Users/Noah Notis/Dropbox/USRP2020_Noah/src/FDM2020/pics/function_fitting/broken_power_law_function/fitting_function_params.h5', 'w')\n",
    "hf.close()"
   ]
  },
  {
   "cell_type": "code",
   "execution_count": 155,
   "metadata": {},
   "outputs": [
    {
     "name": "stdout",
     "output_type": "stream",
     "text": [
      "      fun: 0.0002034741222833604\n",
      " hess_inv: <3x3 LbfgsInvHessProduct with dtype=float64>\n",
      "      jac: array([2.18176443e-06, 6.32884045e-07, 2.51101223e-08])\n",
      "  message: b'CONVERGENCE: NORM_OF_PROJECTED_GRADIENT_<=_PGTOL'\n",
      "     nfev: 116\n",
      "      nit: 25\n",
      "   status: 0\n",
      "  success: True\n",
      "        x: array([0.17189757, 0.98974647, 2.88784476])\n",
      "[1.98750829e-03 6.96619227e-05 9.94156617e-03 5.36900953e-03\n",
      " 4.29351650e-03 2.88252686e-04 2.18495970e-03 2.62649694e-03\n",
      " 6.45508872e-03]\n"
     ]
    },
    {
     "data": {
      "image/png": "[encoded data removed]",
      "text/plain": [
       "<Figure size 432x288 with 2 Axes>"
      ]
     },
     "metadata": {
      "needs_background": "light"
     },
     "output_type": "display_data"
    }
   ],
   "source": [
    "philip = h5py.File('/mnt/c/Users/Noah Notis/Dropbox/USRP2020_Noah/src/FDM2020/pics/function_fitting/broken_power_law_function/broken_params.h5', 'r')\n",
    "f_inv = 1/np.array(philip['f'])\n",
    "rc = np.array(philip['rc'])\n",
    "res = fit_profile_Gauss(f_inv, rc)\n",
    "print(res)\n",
    "\n",
    "a = res.x[0]\n",
    "b = res.x[1]\n",
    "c = res.x[2]\n",
    "\n",
    "x_axis = np.linspace(0, 1, 1000)\n",
    "y_axis = Gauss(x_axis, a, b, c)\n",
    "\n",
    "fig, axs = plt.subplots(2, 1)\n",
    "axs[0].plot(x_axis, y_axis, label= 'Gaussian: \\n' + 'a = ' + \"%.3f\" % a + \"\\nb = \" + \"%.3f\" % b + \"\\nc = \" + \"%.3f\" % c)\n",
    "axs[0].scatter(f_inv, rc)\n",
    "axs[0].set_xlim(-0.1, 1.1)\n",
    "axs[0].set_ylabel('rc')\n",
    "axs[0].legend(loc=\"lower left\")\n",
    "\n",
    "residuals = np.abs(rc - Gauss(f_inv, a, b, c))\n",
    "print(residuals)\n",
    "axs[1].scatter(f_inv, residuals)\n",
    "axs[1].set_xlim(-0.1, 1.1)\n",
    "axs[1].set_ylabel('Residuals')\n",
    "\n",
    "plt.xlabel('1/f')\n",
    "\n",
    "fig.suptitle('Fitting rc as a function of f', fontsize=16)\n",
    "plt.savefig('/mnt/c/Users/Noah Notis/Dropbox/USRP2020_Noah/src/FDM2020/pics/function_fitting/broken_power_law_function/fitting_rc.png', dpi = 150)\n",
    "\n",
    "p = [a, b, c]\n",
    "gauss = np.array(p)\n",
    "hf = h5py.File('/mnt/c/Users/Noah Notis/Dropbox/USRP2020_Noah/src/FDM2020/pics/function_fitting/broken_power_law_function/fitting_function_params.h5', 'a')\n",
    "hf.create_dataset('rc Gaussian', data=gauss)\n",
    "hf.close()\n"
   ]
  },
  {
   "cell_type": "code",
   "execution_count": 115,
   "metadata": {},
   "outputs": [],
   "source": [
    "def core_rad(f):\n",
    "    a = 0.17\n",
    "    b = 0.99\n",
    "    c = 2.89\n",
    "    return a * np.exp(-1*((1/f)/b)**c)"
   ]
  },
  {
   "cell_type": "code",
   "execution_count": 116,
   "metadata": {},
   "outputs": [
    {
     "name": "stdout",
     "output_type": "stream",
     "text": [
      "0.14795661827780018\n"
     ]
    }
   ],
   "source": [
    "print(core_rad(2))"
   ]
  },
  {
   "cell_type": "markdown",
   "metadata": {},
   "source": [
    "Fitting rho as a function of f"
   ]
  },
  {
   "cell_type": "code",
   "execution_count": 119,
   "metadata": {},
   "outputs": [],
   "source": [
    "philip = h5py.File('/mnt/c/Users/Noah Notis/Dropbox/USRP2020_Noah/src/FDM2020/pics/function_fitting/broken_power_law_function/broken_params.h5', 'r')\n",
    "f_inv = 1/np.array(philip['f'])\n",
    "rho = np.array(philip['rho'])"
   ]
  },
  {
   "cell_type": "code",
   "execution_count": 156,
   "metadata": {
    "scrolled": true
   },
   "outputs": [
    {
     "name": "stdout",
     "output_type": "stream",
     "text": [
      "[ 1.71794301 -0.91341917  0.26510171 10.25315279]\n",
      "[0.00791116 0.03416455 0.07240428 0.02267053 0.0145049  0.02538646\n",
      " 0.02748257 0.0330935  0.07698706]\n"
     ]
    },
    {
     "data": {
      "image/png": "[encoded data removed]",
      "text/plain": [
       "<Figure size 432x288 with 2 Axes>"
      ]
     },
     "metadata": {
      "needs_background": "light"
     },
     "output_type": "display_data"
    }
   ],
   "source": [
    "# trying a polyfit:\n",
    "res_rho = np.polyfit(f_inv, rho, 3)\n",
    "print(res_rho)\n",
    "den = lambda f: res_rho[0]*f**3 + res_rho[1]*f**2 + res_rho[2]*f + res_rho[3]\n",
    "points = np.linspace(0, 1, 1000)\n",
    "#plt.plot(points, den(points))\n",
    "#plt.scatter(f_inv, rho)\n",
    "#plt.clf()\n",
    "fig, axs = plt.subplots(2, 1)\n",
    "axs[0].plot(points, den(points), label= 'Cubic: \\n' + 'a = ' + \"%.3f\" % res_rho[0] + \"\\nb = \" + \"%.3f\" % res_rho[1] + \"\\nc = \" + \"%.3f\" % res_rho[2]+ \"\\nd = \" + \"%.3f\" % res_rho[3])\n",
    "axs[0].scatter(f_inv, rho)\n",
    "axs[0].set_xlim(-0.1, 1.1)\n",
    "axs[0].set_ylabel('rho')\n",
    "axs[0].legend(loc=\"upper left\")\n",
    "\n",
    "residuals = np.abs(rho - den(f_inv))\n",
    "print(residuals)\n",
    "axs[1].scatter(f_inv, residuals)\n",
    "axs[1].set_xlim(-0.1, 1.1)\n",
    "axs[1].set_ylabel('Residuals')\n",
    "\n",
    "plt.xlabel('1/f')\n",
    "\n",
    "fig.suptitle('Fitting rho as a function of f', fontsize=16)\n",
    "plt.savefig('/mnt/c/Users/Noah Notis/Dropbox/USRP2020_Noah/src/FDM2020/pics/function_fitting/broken_power_law_function/fitting_rho.png', dpi = 150)\n",
    "\n",
    "p = [res_rho[0], res_rho[1], res_rho[2], res_rho[3]]\n",
    "rho_cubic = np.array(p)\n",
    "hf = h5py.File('/mnt/c/Users/Noah Notis/Dropbox/USRP2020_Noah/src/FDM2020/pics/function_fitting/broken_power_law_function/fitting_function_params.h5', 'a')\n",
    "hf.create_dataset('rho cubic', data=rho_cubic)\n",
    "hf.close()"
   ]
  },
  {
   "cell_type": "markdown",
   "metadata": {},
   "source": [
    "Fitting exp_inner as a function of f"
   ]
  },
  {
   "cell_type": "code",
   "execution_count": 127,
   "metadata": {},
   "outputs": [
    {
     "data": {
      "text/plain": [
       "<matplotlib.collections.PathCollection at 0x7f89e1b98490>"
      ]
     },
     "execution_count": 127,
     "metadata": {},
     "output_type": "execute_result"
    },
    {
     "data": {
      "image/png": "[encoded data removed]",
      "text/plain": [
       "<Figure size 432x288 with 1 Axes>"
      ]
     },
     "metadata": {
      "needs_background": "light"
     },
     "output_type": "display_data"
    }
   ],
   "source": [
    "philip = h5py.File('/mnt/c/Users/Noah Notis/Dropbox/USRP2020_Noah/src/FDM2020/pics/function_fitting/broken_power_law_function/broken_params.h5', 'r')\n",
    "f_inv = 1/np.array(philip['f'])\n",
    "exp_inner = np.array(philip['exp_inner'])\n",
    "plt.scatter(f_inv, exp_inner)"
   ]
  },
  {
   "cell_type": "code",
   "execution_count": 158,
   "metadata": {},
   "outputs": [
    {
     "name": "stdout",
     "output_type": "stream",
     "text": [
      "[-0.22732621  0.21846671 -0.04569297  1.99391194]\n",
      "[2.80372236e-05 2.05888428e-04 2.25203543e-03 3.56060556e-03\n",
      " 1.13532347e-03 5.81129555e-03 1.07842275e-02 7.13533167e-05\n",
      " 5.25267651e-03]\n"
     ]
    },
    {
     "data": {
      "image/png": "[encoded data removed]",
      "text/plain": [
       "<Figure size 432x288 with 2 Axes>"
      ]
     },
     "metadata": {
      "needs_background": "light"
     },
     "output_type": "display_data"
    }
   ],
   "source": [
    "# trying a polyfit:\n",
    "res_exp_inner = np.polyfit(f_inv, exp_inner, 3)\n",
    "print(res_exp_inner)\n",
    "exp_in = lambda f: res_exp_inner[0]*f**3 + res_exp_inner[1]*f**2 + res_exp_inner[2]*f + res_exp_inner[3]\n",
    "points = np.linspace(0, 1, 1000)\n",
    "#plt.plot(points, den(points))\n",
    "#plt.scatter(f_inv, rho)\n",
    "#plt.clf()\n",
    "fig, axs = plt.subplots(2, 1)\n",
    "axs[0].plot(points, exp_in(points), label= 'Cubic: \\n' + 'a = ' + \"%.3f\" % res_exp_inner[0] + \"\\nb = \" + \"%.3f\" % res_exp_inner[1] + \"\\nc = \" + \"%.3f\" % res_exp_inner[2]+ \"\\nd = \" + \"%.3f\" % res_exp_inner[3])\n",
    "axs[0].scatter(f_inv, exp_inner)\n",
    "axs[0].set_xlim(-0.1, 1.1)\n",
    "axs[0].set_ylabel('exp_inner')\n",
    "axs[0].legend(loc=\"lower left\")\n",
    "\n",
    "residuals = np.abs(exp_inner - exp_in(f_inv))\n",
    "print(residuals)\n",
    "axs[1].scatter(f_inv, residuals)\n",
    "axs[1].set_xlim(-0.1, 1.1)\n",
    "axs[1].set_ylabel('Residuals')\n",
    "\n",
    "plt.xlabel('1/f')\n",
    "\n",
    "fig.suptitle('Fitting exp_inner as a function of f', fontsize=16)\n",
    "plt.savefig('/mnt/c/Users/Noah Notis/Dropbox/USRP2020_Noah/src/FDM2020/pics/function_fitting/broken_power_law_function/fitting_exp_inner.png', dpi = 150)\n",
    "\n",
    "p = [res_exp_inner[0], res_exp_inner[1], res_exp_inner[2], res_exp_inner[3]]\n",
    "exp_inner_cubic = np.array(p)\n",
    "hf = h5py.File('/mnt/c/Users/Noah Notis/Dropbox/USRP2020_Noah/src/FDM2020/pics/function_fitting/broken_power_law_function/fitting_function_params.h5', 'a')\n",
    "hf.create_dataset('exp_inner cubic', data=exp_inner_cubic)\n",
    "hf.close()"
   ]
  },
  {
   "cell_type": "markdown",
   "metadata": {},
   "source": [
    "Fitting exp_outer as a function of f"
   ]
  },
  {
   "cell_type": "code",
   "execution_count": 144,
   "metadata": {},
   "outputs": [
    {
     "data": {
      "text/plain": [
       "<matplotlib.collections.PathCollection at 0x7f89e13cdc90>"
      ]
     },
     "execution_count": 144,
     "metadata": {},
     "output_type": "execute_result"
    },
    {
     "data": {
      "image/png": "[encoded data removed]",
      "text/plain": [
       "<Figure size 432x288 with 1 Axes>"
      ]
     },
     "metadata": {
      "needs_background": "light"
     },
     "output_type": "display_data"
    }
   ],
   "source": [
    "philip = h5py.File('/mnt/c/Users/Noah Notis/Dropbox/USRP2020_Noah/src/FDM2020/pics/function_fitting/broken_power_law_function/broken_params.h5', 'r')\n",
    "f_inv = 1/np.array(philip['f'])\n",
    "exp_outer = np.array(philip['exp_outer'])\n",
    "plt.scatter(f_inv, exp_outer)"
   ]
  },
  {
   "cell_type": "code",
   "execution_count": 166,
   "metadata": {},
   "outputs": [
    {
     "name": "stdout",
     "output_type": "stream",
     "text": [
      "[-13.42957297  27.43383877 -16.56694979   4.64903212  -7.36070824]\n",
      "[0.00394399 0.02753295 0.15399605 0.1134515  0.10587639 0.22258254\n",
      " 0.10327138 0.11259964 0.08220928]\n"
     ]
    },
    {
     "data": {
      "image/png": "[encoded data removed]",
      "text/plain": [
       "<Figure size 432x288 with 2 Axes>"
      ]
     },
     "metadata": {
      "needs_background": "light"
     },
     "output_type": "display_data"
    }
   ],
   "source": [
    "# trying a polyfit:\n",
    "res_exp_outer = np.polyfit(f_inv, exp_outer, 4)\n",
    "print(res_exp_outer)\n",
    "exp_out = lambda f: res_exp_outer[0]*f**4 + res_exp_outer[1]*f**3 + res_exp_outer[2]*f**2 + res_exp_outer[3]*f +res_exp_outer[4]\n",
    "points = np.linspace(0, 1, 1000)\n",
    "#plt.plot(points, den(points))\n",
    "#plt.scatter(f_inv, rho)\n",
    "#plt.clf()\n",
    "fig, axs = plt.subplots(2, 1)\n",
    "axs[0].plot(points, exp_out(points), label= 'Quartic: \\n' + 'a = ' + \"%.3f\" % res_exp_outer[0] + \"\\nb = \" + \"%.3f\" % res_exp_outer[1] + \"\\nc = \" + \"%.3f\" % res_exp_outer[2] + \"\\nd = \" + \"%.3f\" % res_exp_outer[3] + \"\\ne = \" + \"%.3f\" % res_exp_outer[4])\n",
    "axs[0].scatter(f_inv, exp_outer)\n",
    "axs[0].set_xlim(-0.1, 1.1)\n",
    "axs[0].set_ylabel('exp_inner')\n",
    "axs[0].legend(loc=\"upper left\")\n",
    "\n",
    "residuals = np.abs(exp_outer - exp_out(f_inv))\n",
    "print(residuals)\n",
    "axs[1].scatter(f_inv, residuals)\n",
    "axs[1].set_xlim(-0.1, 1.1)\n",
    "axs[1].set_ylabel('Residuals')\n",
    "\n",
    "plt.xlabel('1/f')\n",
    "\n",
    "fig.suptitle('Fitting exp_outer as a function of f', fontsize=16)\n",
    "plt.savefig('/mnt/c/Users/Noah Notis/Dropbox/USRP2020_Noah/src/FDM2020/pics/function_fitting/broken_power_law_function/fitting_exp_outer.png', dpi = 150)\n",
    "\n",
    "p = [res_exp_outer[0], res_exp_outer[1], res_exp_outer[2], res_exp_outer[3], res_exp_outer[4]]\n",
    "exp_outer_quartic = np.array(p)\n",
    "hf = h5py.File('/mnt/c/Users/Noah Notis/Dropbox/USRP2020_Noah/src/FDM2020/pics/function_fitting/broken_power_law_function/fitting_function_params.h5', 'a')\n",
    "hf.create_dataset('exp_outer quartic', data=exp_outer_quartic)\n",
    "hf.close()"
   ]
  },
  {
   "cell_type": "code",
   "execution_count": 169,
   "metadata": {},
   "outputs": [
    {
     "name": "stdout",
     "output_type": "stream",
     "text": [
      "<KeysViewHDF5 ['exp_inner cubic', 'exp_outer cubic', 'exp_outer quartic', 'rc Gaussian', 'rho cubic']>\n",
      "rc:\n",
      "[0.17189757 0.98974647 2.88784476]\n",
      "rho:\n",
      "[ 1.71794301 -0.91341917  0.26510171 10.25315279]\n",
      "exp_in:\n",
      "[-0.22732621  0.21846671 -0.04569297  1.99391194]\n",
      "exp_out:\n",
      "[-13.42957297  27.43383877 -16.56694979   4.64903212  -7.36070824]\n"
     ]
    }
   ],
   "source": [
    "hf = h5py.File('/mnt/c/Users/Noah Notis/Dropbox/USRP2020_Noah/src/FDM2020/pics/function_fitting/broken_power_law_function/fitting_function_params.h5', 'a')\n",
    "print(hf.keys())\n",
    "rc = np.array(hf['rc Gaussian'])\n",
    "rho = np.array(hf['rho cubic'])\n",
    "exp_in = np.array(hf['exp_inner cubic'])\n",
    "exp_out = np.array(hf['exp_outer quartic'])\n",
    "print(\"rc:\")\n",
    "print(rc)\n",
    "print(\"rho:\")\n",
    "print(rho)\n",
    "print(\"exp_in:\")\n",
    "print(exp_in)\n",
    "print(\"exp_out:\")\n",
    "print(exp_out)\n",
    "hf.close()"
   ]
  },
  {
   "cell_type": "code",
   "execution_count": 171,
   "metadata": {},
   "outputs": [],
   "source": [
    "#broken power model function\n",
    "def broken_power_model(f_val, r):\n",
    "    f = 1/f_val\n",
    "    hf = h5py.File('/mnt/c/Users/Noah Notis/Dropbox/USRP2020_Noah/src/FDM2020/pics/function_fitting/broken_power_law_function/fitting_function_params.h5', 'r')\n",
    "    # rc function\n",
    "    rc_params = np.array(hf['rc Gaussian'])\n",
    "    rc = lambda x: rc_params[0] * np.exp(-1*((x)/rc_params[1])**rc_params[2])\n",
    "    # rho function\n",
    "    rho_params = np.array(hf['rho cubic'])\n",
    "    rho = lambda x: rho_params[0]*x**3 + rho_params[1]*x**2 + rho_params[2]*x + rho_params[3]\n",
    "    #exp_inner fitting\n",
    "    exp_inner_params = np.array(hf['exp_inner cubic'])\n",
    "    exp_inner = lambda x: exp_inner_params[0]*x**3 + exp_inner_params[1]*x**2 + exp_inner_params[2]*x + exp_inner_params[3]\n",
    "    #exp_outer fitting\n",
    "    exp_outer_params = np.array(hf['exp_outer quartic'])\n",
    "    exp_outer = lambda x: exp_outer_params[0]*x**4 + exp_outer_params[1]*x**3 + exp_outer_params[2]*x**2 + exp_outer_params[3]*x + exp_outer_params[4]\n",
    "    return broken_power_fun(rc(f), rho(f), exp_inner(f), exp_outer(f), r)"
   ]
  },
  {
   "cell_type": "code",
   "execution_count": 194,
   "metadata": {},
   "outputs": [
    {
     "data": {
      "image/png": "[encoded data removed]",
      "text/plain": [
       "<Figure size 432x288 with 1 Axes>"
      ]
     },
     "metadata": {
      "needs_background": "light"
     },
     "output_type": "display_data"
    }
   ],
   "source": [
    "pathInf = '/mnt/c/Users/Noah Notis/Dropbox/USRP2020_Noah/src/FDM2020/rad_files/fInfL20T4n400r256/rad_filesradial0400.h5'\n",
    "path11484 = '/mnt/c/Users/Noah Notis/Dropbox/USRP2020_Noah/src/FDM2020/rad_files/f1.1484L20T4n40r256/radial0040.h5'\n",
    "path15 = '/mnt/c/Users/Noah Notis/Dropbox/USRP2020_Noah/src/FDM2020/rad_files/f1.5L20T4n400r256/radial0400.h5'\n",
    "\n",
    "hfInf = h5py.File(pathInf, 'r')\n",
    "distInf = np.array(hfInf['distances'])\n",
    "densInf = np.array(hfInf['densities'])\n",
    "hfInf.close()\n",
    "\n",
    "hf15 = h5py.File(path15, 'r')\n",
    "dist15 = np.array(hf15['distances'])\n",
    "dens15 = np.array(hf15['densities'])\n",
    "hf15.close()\n",
    "\n",
    "hf11484 = h5py.File(path11484, 'r')\n",
    "dist11484 = np.array(hf11484['distances'])\n",
    "dens11484 = np.array(hf11484['densities'])\n",
    "hf11484.close()\n",
    "\n",
    "errorsInf = np.zeros(len(densInf))\n",
    "errors15 = np.zeros(len(densInf))\n",
    "errors11484 = np.zeros(len(densInf))\n",
    "\n",
    "plt.scatter(distInf, densInf, s = 3)\n",
    "plt.scatter(dist15, dens15, s = 3)\n",
    "plt.scatter(dist11484, dens11484, s = 3)\n",
    "\n",
    "x = np.linspace(0,15, 10000)\n",
    "plt.plot(x, broken_power_model(np.Inf, x))\n",
    "plt.plot(x, broken_power_model(1.5, x))\n",
    "plt.plot(x, broken_power_model(1.1484, x))\n",
    "plt.xscale('log')\n",
    "plt.yscale('log')\n",
    "plt.xlabel('Radial Distance (kpc)')\n",
    "plt.ylabel('Density (Msun / (kpc)^3)')\n",
    "plt.title('Radial Distance vs. Density')\n",
    "plt.ylim(10**4, 10**(12.5))\n",
    "plt.xlim(10**(-1.5), 10**(0.5))\n",
    "plt.legend(['f = Inf', 'f = 1.5','f = 1.1484'])\n",
    "\n",
    "plt.savefig('/mnt/c/Users/Noah Notis/Dropbox/USRP2020_Noah/src/FDM2020/pics/function_fitting/broken_power_law_function/fit_function_test.png', dpi = 150)"
   ]
  },
  {
   "cell_type": "code",
   "execution_count": null,
   "metadata": {},
   "outputs": [],
   "source": []
  }
 ],
 "metadata": {
  "kernelspec": {
   "display_name": "Python 3",
   "language": "python",
   "name": "python3"
  },
  "language_info": {
   "codemirror_mode": {
    "name": "ipython",
    "version": 3
   },
   "file_extension": ".py",
   "mimetype": "text/x-python",
   "name": "python",
   "nbconvert_exporter": "python",
   "pygments_lexer": "ipython3",
   "version": "3.7.6"
  }
 },
 "nbformat": 4,
 "nbformat_minor": 4
}
