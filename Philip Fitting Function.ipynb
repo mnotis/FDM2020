{
 "cells": [
  {
   "cell_type": "code",
   "execution_count": 98,
   "metadata": {},
   "outputs": [],
   "source": [
    "import numpy as np\n",
    "import matplotlib.pyplot as plt\n",
    "import h5py\n",
    "import os\n",
    "from scipy.optimize import minimize\n",
    "import scipy.constants as const"
   ]
  },
  {
   "cell_type": "code",
   "execution_count": 99,
   "metadata": {},
   "outputs": [],
   "source": [
    "#cuts off a distance array such that it only has elements < a certain length\n",
    "\n",
    "def dist_cutoff(dist, dist_lim):\n",
    "    distance = []\n",
    "    for x in dist:\n",
    "        if (x < dist_lim):\n",
    "            distance.append(x)\n",
    "    return np.asarray(distance)"
   ]
  },
  {
   "cell_type": "code",
   "execution_count": 100,
   "metadata": {},
   "outputs": [],
   "source": [
    "#cuts off a density array at a given number of elements\n",
    "#not in place\n",
    "\n",
    "def dens_cutoff(dens, n_elements):\n",
    "    densities = np.zeros(n_elements)\n",
    "    for i in range(0, n_elements):\n",
    "        densities[i] = dens[i]\n",
    "    return densities"
   ]
  },
  {
   "cell_type": "code",
   "execution_count": 107,
   "metadata": {},
   "outputs": [
    {
     "name": "stdout",
     "output_type": "stream",
     "text": [
      "0.03315404258195512\n"
     ]
    }
   ],
   "source": [
    "#functions\n",
    "def i1(arg):\n",
    "    return np.tanh(arg/5)\n",
    "\n",
    "def i2(arg):\n",
    "    return np.tanh(arg) \n",
    "\n",
    "def i3(arg):\n",
    "    return (np.tanh(np.sqrt(arg)))**2\n",
    "\n",
    "def beta(f15, rho):\n",
    "    f = f15 * 1e15\n",
    "    hbar = const.hbar\n",
    "    c = const.c\n",
    "    G = const.G\n",
    "    GeV_to_J = 1.60218e-10\n",
    "    prefactor = 1.6e-12 * (rho ** (1/2))\n",
    "    factor = (hbar * (c**5)) / (32 * np.pi * G * f**2) \n",
    "    return prefactor*factor / ((GeV_to_J)**2)"
   ]
  },
  {
   "cell_type": "code",
   "execution_count": 73,
   "metadata": {},
   "outputs": [],
   "source": [
    "#analytic profile of the core\n",
    "\n",
    "def philip_fun(rc, rho, i1term, exp_inner, exp_outer, central_den, r):\n",
    "    b = beta(f, central_den)\n",
    "    rho = (1.9e7 / (rc**4))\n",
    "    #i1term = 1. + 2.6*i1(b)\n",
    "    #exp_inner = 2. - ((1./5.) * i2(b))\n",
    "    #exp_outer = -8. + ((22./5.)*i3(b))\n",
    "    term = (1 + i1term * (r/rc)**exp_inner)**exp_outer\n",
    "    return 10**rho * term"
   ]
  },
  {
   "cell_type": "code",
   "execution_count": 74,
   "metadata": {},
   "outputs": [],
   "source": [
    "#X2 function for simple fit\n",
    "\n",
    "def X2_fun_philip(x, dist, dens, dist_lim):\n",
    "    rc = x[0]\n",
    "    rho = x[1] \n",
    "    i1term = x[2]\n",
    "    exp_inner = x[3]\n",
    "    exp_outer = x[4]\n",
    "    r = dist_cutoff(dist, dist_lim)\n",
    "    densities = dens_cutoff(dens, len(r))\n",
    "    X2 = (((philip_fun(rc, rho, i1term, exp_inner, exp_outer, r)) - densities)**2)\n",
    "    return X2[0:len(X2)].sum()"
   ]
  },
  {
   "cell_type": "code",
   "execution_count": 97,
   "metadata": {},
   "outputs": [],
   "source": [
    "#radial-density fitting function\n",
    "#params are two nparrays\n",
    "#analytic radial profile function\n",
    "\n",
    "def fit_profile_philip(dist, dens, dist_lim):\n",
    "    dist1 = np.sort(dist)\n",
    "    dens1 = (-1)*(np.sort(dens*(-1)))\n",
    "    params = (dist1, dens1, dist_lim)\n",
    "    p = (0.17, 8, 3.6, 2, -8)\n",
    "    x0 = np.asarray(p)\n",
    "    result = minimize(X2_fun_philip, x0, args = params, bounds = [(-3, 3), (5, 12), (0, 10), (0, 5), (-10, 5)])\n",
    "    return result"
   ]
  },
  {
   "cell_type": "code",
   "execution_count": 22,
   "metadata": {},
   "outputs": [
    {
     "data": {
      "text/plain": [
       "<Figure size 432x288 with 0 Axes>"
      ]
     },
     "metadata": {},
     "output_type": "display_data"
    }
   ],
   "source": [
    "# In simple fit case, computing rc as a function of f\n",
    "f_vals = [np.Inf, 4, 2, 1.75, 1.5, 1.25, 1.1875, 1.1562, 1.1484]\n",
    "f = np.asarray(f_vals)\n",
    "rc_vals = np.zeros(len(f_vals))\n",
    "rho_vals = np.zeros(len(f_vals))\n",
    "i1term_vals = np.zeros(len(f_vals))\n",
    "exp_inner_vals = np.zeros(len(f_vals))\n",
    "exp_outer_vals = np.zeros(len(f_vals))\n",
    "X2_vals = np.zeros(len(f_vals))\n",
    "\n",
    "\n",
    "pathInf = '/mnt/c/Users/Noah Notis/Dropbox/USRP2020_Noah/src/FDM2020/rad_files/fInfL20T4n400r256/rad_filesradial0400.h5'\n",
    "path4 = '/mnt/c/Users/Noah Notis/Dropbox/USRP2020_Noah/src/FDM2020/rad_files/f4L20T4n400r256/radial0400.h5'\n",
    "path2 = '/mnt/c/Users/Noah Notis/Dropbox/USRP2020_Noah/src/FDM2020/rad_files/f2L20T4n400r256/radial0400.h5'\n",
    "path175 = '/mnt/c/Users/Noah Notis/Dropbox/USRP2020_Noah/src/FDM2020/rad_files/f1.75L20T4n40r256/radial0040.h5'\n",
    "path15 = '/mnt/c/Users/Noah Notis/Dropbox/USRP2020_Noah/src/FDM2020/rad_files/f1.5L20T4n400r256/radial0400.h5'\n",
    "path125 = '/mnt/c/Users/Noah Notis/Dropbox/USRP2020_Noah/src/FDM2020/rad_files/f1.25L20T4n40r256/radial0040.h5'\n",
    "path11875 = '/mnt/c/Users/Noah Notis/Dropbox/USRP2020_Noah/src/FDM2020/rad_files/f1.1875L20T4n40r256/radial0040.h5'\n",
    "path11562 = '/mnt/c/Users/Noah Notis/Dropbox/USRP2020_Noah/src/FDM2020/rad_files/f1.1562L20T4n40r256/radial0040.h5'\n",
    "path11484 = '/mnt/c/Users/Noah Notis/Dropbox/USRP2020_Noah/src/FDM2020/rad_files/f1.1484L20T4n40r256/radial0040.h5'\n",
    "\n",
    "paths = [pathInf, path4, path2, path175, path15, path125, path11875, path11562, path11484]\n",
    "for i in range(0, len(paths)):\n",
    "    f_val = f_vals[i]\n",
    "    hf = h5py.File(paths[i], 'r')\n",
    "    dist = np.array(hf['distances'])\n",
    "    dens = np.array(hf['densities'])\n",
    "    res = fit_profile_philip(dist, dens, 0.40)\n",
    "    \n",
    "    #params\n",
    "    rc = np.abs(res.x[0])\n",
    "    rho = res.x[1]\n",
    "    i1term = res.x[2]\n",
    "    exp_inner = res.x[3]\n",
    "    exp_outer = res.x[4]\n",
    "    X2_val = res.fun\n",
    "    \n",
    "    plt.scatter(dist, dens, s = 1)\n",
    "    plt.plot(dist, philip_fun(rc, rho, i1term, exp_inner, exp_outer, dist), 'r')\n",
    "    plt.xscale('log')\n",
    "    plt.yscale('log')\n",
    "    plt.xlabel('Radial Distance (kpc)')\n",
    "    plt.ylabel('Density (Msun / (kpc)^3)')\n",
    "    plt.title('Radial Distance vs. Density, f = ' + str(f_val))\n",
    "    plt.ylim(10**4, 10**(12.5))\n",
    "    plt.xlim(10**(-2), 10**(1.4))\n",
    "    plt.legend(['rc = ' + \"%.2f\" % rc + \"\\nrho = 10^\" + \"%.2f\" % rho + \"\\ni1term = \" + \"%.2f\" % i1term + \"\\nexp_inner = \" + \"%.2f\" % exp_inner + \"\\nexp_outer = \" + \"%.2f\" % exp_outer])\n",
    "    plt.savefig('/mnt/c/Users/Noah Notis/Dropbox/USRP2020_Noah/src/FDM2020/pics/function_fitting/philip_function/philip_fit_f' + str(f_val) + '.png', dpi = 200)\n",
    "    plt.clf()\n",
    "    \n",
    "    # saving values to arrays\n",
    "    rc_vals[i] = np.abs(rc)\n",
    "    rho_vals[i] = rho\n",
    "    i1term_vals[i] = i1term\n",
    "    exp_inner_vals[i] = exp_inner\n",
    "    exp_outer_vals[i] = exp_outer\n",
    "    X2_vals[i] = X2_val\n",
    "\n",
    "#rc plot\n",
    "plt.scatter((f**-1), rc_vals)\n",
    "plt.xlabel('1/f')\n",
    "plt.ylabel('rc')\n",
    "plt.title('f^-1 vs. rc (philip_fun)')\n",
    "plt.savefig('/mnt/c/Users/Noah Notis/Dropbox/USRP2020_Noah/src/FDM2020/pics/function_fitting/philip_function/rc_scaling.png', dpi = 200)\n",
    "plt.clf()\n",
    "\n",
    "#rc plot\n",
    "plt.scatter((f**-1), rc_vals)\n",
    "plt.xlabel('1/f')\n",
    "plt.ylabel('rc')\n",
    "plt.title('f^-1 vs. rc (philip_fun)')\n",
    "plt.savefig('/mnt/c/Users/Noah Notis/Dropbox/USRP2020_Noah/src/FDM2020/pics/function_fitting/philip_function/rc_scaling.png', dpi = 200)\n",
    "plt.clf()\n",
    "\n",
    "#rc plot\n",
    "plt.scatter((f**-1), exp_outer_vals)\n",
    "plt.xlabel('1/f')\n",
    "plt.ylabel('exp_outer')\n",
    "plt.title('f^-1 vs. exp_outer (philip_fun)')\n",
    "plt.savefig('/mnt/c/Users/Noah Notis/Dropbox/USRP2020_Noah/src/FDM2020/pics/function_fitting/philip_function/exp_outer_scaling.png', dpi = 200)\n",
    "plt.clf()\n",
    "\n",
    "#rho plot\n",
    "plt.scatter((f**-1), rho_vals)\n",
    "plt.xlabel('1/f')\n",
    "plt.ylabel('rho')\n",
    "plt.title('f^-1 vs. rho (philip_fun)')\n",
    "plt.savefig('/mnt/c/Users/Noah Notis/Dropbox/USRP2020_Noah/src/FDM2020/pics/function_fitting/philip_function/rho_scaling.png', dpi = 200)\n",
    "plt.clf()\n",
    "\n",
    "#rc plot\n",
    "plt.scatter((f**-1), i1term_vals)\n",
    "plt.xlabel('1/f')\n",
    "plt.ylabel('i1term')\n",
    "plt.title('f^-1 vs. i1term (philip_fun)')\n",
    "plt.savefig('/mnt/c/Users/Noah Notis/Dropbox/USRP2020_Noah/src/FDM2020/pics/function_fitting/philip_function/i1term_scaling.png', dpi = 200)\n",
    "plt.clf()\n",
    "\n",
    "#rc plot\n",
    "plt.scatter((f**-1), exp_inner_vals)\n",
    "plt.xlabel('1/f')\n",
    "plt.ylabel('exp_inner')\n",
    "plt.title('f^-1 vs. exp_inner (philip_fun)')\n",
    "plt.savefig('/mnt/c/Users/Noah Notis/Dropbox/USRP2020_Noah/src/FDM2020/pics/function_fitting/philip_function/exp_inner_scaling.png', dpi = 200)\n",
    "plt.clf()\n",
    "\n",
    "#rc plot\n",
    "plt.scatter((f**-1), X2_vals)\n",
    "plt.xlabel('1/f')\n",
    "plt.ylabel('X2')\n",
    "plt.title('f^-1 vs. X2 (philip_fun)')\n",
    "plt.savefig('/mnt/c/Users/Noah Notis/Dropbox/USRP2020_Noah/src/FDM2020/pics/function_fitting/philip_function/X2_scaling.png', dpi = 200)\n",
    "plt.clf()\n",
    "\n",
    "params = h5py.File('/mnt/c/Users/Noah Notis/Dropbox/USRP2020_Noah/src/FDM2020/pics/function_fitting/philip_function/philip_params.h5', 'w')\n",
    "params.create_dataset('f', data=f_vals)\n",
    "params.create_dataset('rc', data=rc_vals)\n",
    "params.create_dataset('rho', data=rho_vals)\n",
    "params.create_dataset('i1term', data=i1term_vals)\n",
    "params.create_dataset('exp_outer', data=exp_inner_vals)\n",
    "params.create_dataset('exp_inner', data=exp_outer_vals)\n",
    "params.create_dataset('X2', data=X2_vals)\n",
    "params.close()"
   ]
  },
  {
   "cell_type": "code",
   "execution_count": 96,
   "metadata": {},
   "outputs": [
    {
     "name": "stdout",
     "output_type": "stream",
     "text": [
      "      fun: 2392517558976718.0\n",
      " hess_inv: <5x5 LbfgsInvHessProduct with dtype=float64>\n",
      "      jac: array([ 5.091700e+12, -3.329155e+13,  3.362650e+12, -1.839320e+13,\n",
      "       -1.371400e+12])\n",
      "  message: b'CONVERGENCE: REL_REDUCTION_OF_F_<=_FACTR*EPSMCH'\n",
      "     nfev: 612\n",
      "      nit: 74\n",
      "   status: 0\n",
      "  success: True\n",
      "        x: array([ 0.99996311, 10.26106443,  2.97722399,  1.99391789, -7.35763061])\n"
     ]
    },
    {
     "data": {
      "text/plain": [
       "(0.01, 25.118864315095795)"
      ]
     },
     "execution_count": 96,
     "metadata": {},
     "output_type": "execute_result"
    },
    {
     "data": {
      "image/png": "[encoded data removed]",
      "text/plain": [
       "<Figure size 432x288 with 1 Axes>"
      ]
     },
     "metadata": {
      "needs_background": "light"
     },
     "output_type": "display_data"
    }
   ],
   "source": [
    "path125 = '/mnt/c/Users/Noah Notis/Dropbox/USRP2020_Noah/src/FDM2020/rad_files/fInfL20T4n400r256/rad_filesradial0400.h5'\n",
    "hf125 = h5py.File(path125, 'r')\n",
    "dist125 = np.array(hf125['distances'])\n",
    "dens125 = np.array(hf125['densities'])\n",
    "res = fit_profile_philip(dist125, dens125, 0.65)\n",
    "rc125 = np.abs(res.x[0])\n",
    "rho125 = res.x[1]\n",
    "i1term125 = res.x[2]\n",
    "exp_inner125 = res.x[3]\n",
    "exp_outer125 = res.x[4]\n",
    "print(res)\n",
    "plt.scatter(dist125, dens125, s = 1)\n",
    "test_dist = np.linspace(0.01, 15, 100000)\n",
    "plt.plot(test_dist, philip_fun(rc125, rho125, i1term125, exp_inner125, exp_outer125, test_dist), 'r')\n",
    "\n",
    "plt.xscale('log')\n",
    "plt.yscale('log')\n",
    "plt.xlabel('Radial Distance (kpc)')\n",
    "plt.ylabel('Density (Msun / (kpc)^3)')\n",
    "plt.title('Radial Distance vs. Density, f = Inf')\n",
    "plt.ylim(10**4, 10**(12.5))\n",
    "plt.xlim(10**(-2), 10**(1.4))\n",
    "\n",
    "#plt.savefig('/mnt/c/Users/Noah Notis/Dropbox/USRP2020_Noah/src/FDM2020/pics/simple_function/)"
   ]
  },
  {
   "cell_type": "markdown",
   "metadata": {},
   "source": [
    "Fitting the parameters as functions of beta:"
   ]
  },
  {
   "cell_type": "code",
   "execution_count": 76,
   "metadata": {},
   "outputs": [],
   "source": [
    "# Let's try to compute rc as a function of f:\n",
    "# Trying to fit a Gaussian\n",
    "def Gauss(r, rc, rho, a):\n",
    "    return rho * np.exp(-1*((r)/rc)**a)\n",
    "\n",
    "#X2 function for Gauss\n",
    "def X2_fun_Gauss(x, dist, dens):\n",
    "    #args[0] = f \n",
    "    #args[1] = dist \n",
    "    #args[2] = dens \n",
    "    #args[3] = dist_lim\n",
    "    rc = x[0]\n",
    "    rho = x[1] \n",
    "    a = x[2]\n",
    "    #r = dist_cutoff(dist, dist_lim)\n",
    "    #densities = dens_cutoff(dens, len(r))\n",
    "    X2 = (((Gauss(dist, rc, rho, a)) - (dens))**2)\n",
    "    return X2[0:(len(X2))].sum()\n",
    "\n",
    "#fitting function\n",
    "def fit_profile_Gauss(dist, dens):\n",
    "    #dist1 = np.sort(dist)\n",
    "    #dens1 = (-1)*(np.sort(dens*(-1)))\n",
    "    params = (dist, dens)\n",
    "    p = (0.2, 1, 1.5)\n",
    "    x0 = np.asarray(p)\n",
    "    result = minimize(X2_fun_Gauss, x0, args = params, bounds = [(0.0001, 1), (0, 3), (0.5, 100)])\n",
    "    return result"
   ]
  },
  {
   "cell_type": "code",
   "execution_count": 77,
   "metadata": {
    "scrolled": true
   },
   "outputs": [
    {
     "name": "stdout",
     "output_type": "stream",
     "text": [
      "      fun: 0.04735487670729856\n",
      " hess_inv: <3x3 LbfgsInvHessProduct with dtype=float64>\n",
      "      jac: array([-2.90115154e-06, -2.72296075e-05, -6.93889390e-08])\n",
      "  message: b'CONVERGENCE: REL_REDUCTION_OF_F_<=_FACTR*EPSMCH'\n",
      "     nfev: 132\n",
      "      nit: 29\n",
      "   status: 0\n",
      "  success: True\n",
      "        x: array([ 0.90256587,  0.95894616, 20.66169061])\n",
      "[0.0406723  0.03047992 0.04105508 0.11890385 0.03349717 0.06307168\n",
      " 0.0303315  0.10951916 0.10456302]\n"
     ]
    },
    {
     "data": {
      "image/png": "[encoded data removed]",
      "text/plain": [
       "<Figure size 432x288 with 2 Axes>"
      ]
     },
     "metadata": {
      "needs_background": "light"
     },
     "output_type": "display_data"
    }
   ],
   "source": [
    "philip = h5py.File('/mnt/c/Users/Noah Notis/Dropbox/USRP2020_Noah/src/FDM2020/pics/function_fitting/philip_function/philip_params.h5', 'r')\n",
    "f_inv = 1/np.array(philip['f'])\n",
    "rc = np.array(philip['rc'])\n",
    "res = fit_profile_Gauss(f_inv, rc)\n",
    "print(res)\n",
    "\n",
    "rc_val = res.x[0]\n",
    "rho = res.x[1]\n",
    "a = res.x[2]\n",
    "\n",
    "x_axis = np.linspace(0, 1, 1000)\n",
    "y_axis = Gauss(x_axis, rc_val, rho, a)\n",
    "\n",
    "fig, axs = plt.subplots(2, 1)\n",
    "axs[0].plot(x_axis, y_axis, label= 'rc = ' + \"%.2f\" % rc_val + \"\\nrho = 10^\" + \"%.2f\" % rho + \"\\na = \" + \"%.2f\" % a)\n",
    "axs[0].scatter(f_inv, rc)\n",
    "axs[0].set_xlim(-0.1, 1.1)\n",
    "axs[0].set_ylabel('rc')\n",
    "axs[0].legend(loc=\"lower left\")\n",
    "\n",
    "residuals = np.abs(rc - Gauss(f_inv, rc_val, rho, a))\n",
    "print(residuals)\n",
    "axs[1].scatter(f_inv, residuals)\n",
    "axs[1].set_xlim(-0.1, 1.1)\n",
    "axs[1].set_ylabel('Residuals')\n",
    "\n",
    "plt.xlabel('1/f')\n",
    "\n",
    "fig.suptitle('Fitting rc as a function of f', fontsize=16)\n",
    "plt.savefig('/mnt/c/Users/Noah Notis/Dropbox/USRP2020_Noah/src/FDM2020/pics/function_fitting/philip_function/fitting_rc.png', dpi = 150)"
   ]
  },
  {
   "cell_type": "code",
   "execution_count": 78,
   "metadata": {},
   "outputs": [],
   "source": [
    "def rc(f):\n",
    "    philip = h5py.File('/mnt/c/Users/Noah Notis/Dropbox/USRP2020_Noah/src/FDM2020/pics/function_fitting/philip_function/philip_params.h5', 'r')\n",
    "    f_inv = 1/np.array(philip['f'])\n",
    "    rc = np.array(philip['rc'])\n",
    "    res = fit_profile_Gauss(f_inv, rc)\n",
    "    return Gauss(1/f, res.x[0], res.x[1], res.x[2])"
   ]
  },
  {
   "cell_type": "code",
   "execution_count": 86,
   "metadata": {},
   "outputs": [],
   "source": [
    "# First, we try to compute beta as a function of f:\n",
    "\n",
    "def beta(f):\n",
    "    core = rc(f)\n",
    "    f = f * 1e15\n",
    "    hbar = const.hbar\n",
    "    c = const.c\n",
    "    G = const.G\n",
    "    GeV_to_J = 1.60218e-10\n",
    "    prefactor = 6.9e-9 * (core ** (-2))\n",
    "    factor = (hbar * (c**5)) / (32 * np.pi * G * f**2) \n",
    "    return prefactor*factor / ((GeV_to_J)**2)"
   ]
  },
  {
   "cell_type": "code",
   "execution_count": 87,
   "metadata": {},
   "outputs": [],
   "source": [
    "def inner_prefact(f, a, b, c):\n",
    "    return a + b*np.tanh(c* beta(f))"
   ]
  },
  {
   "cell_type": "code",
   "execution_count": 88,
   "metadata": {},
   "outputs": [],
   "source": [
    "def X2_inner_prefact(x, beta, prefactor):\n",
    "    a = x[0]\n",
    "    b = x[1]\n",
    "    c = x[2]\n",
    "    X2 = (((inner_prefact(beta, a, b, c)) - (prefactor))**2)\n",
    "    return X2[0:(len(X2))].sum()"
   ]
  },
  {
   "cell_type": "code",
   "execution_count": 89,
   "metadata": {},
   "outputs": [],
   "source": [
    "def fit_profile_inner(f, inner):\n",
    "    params = (f, inner)\n",
    "    p = (0.091, 0.24, 1)\n",
    "    x0 = np.asarray(p)\n",
    "    result = minimize(X2_inner_prefact, x0, args = params, bounds = [(0.0001, 5), (0, 5), (0, 10)])\n",
    "    return result"
   ]
  },
  {
   "cell_type": "code",
   "execution_count": 95,
   "metadata": {},
   "outputs": [
    {
     "name": "stderr",
     "output_type": "stream",
     "text": [
      "/home/mnotis/anaconda3/lib/python3.7/site-packages/ipykernel_launcher.py:6: RuntimeWarning: divide by zero encountered in true_divide\n",
      "  \n",
      "/home/mnotis/anaconda3/lib/python3.7/site-packages/ipykernel_launcher.py:10: RuntimeWarning: divide by zero encountered in power\n",
      "  # Remove the CWD from sys.path while we load stuff.\n",
      "/home/mnotis/anaconda3/lib/python3.7/site-packages/ipykernel_launcher.py:11: RuntimeWarning: divide by zero encountered in true_divide\n",
      "  # This is added back by InteractiveShellApp.init_path()\n"
     ]
    },
    {
     "name": "stdout",
     "output_type": "stream",
     "text": [
      "      fun: 12.590521348797665\n",
      " hess_inv: <3x3 LbfgsInvHessProduct with dtype=float64>\n",
      "      jac: array([1.0658141e-06, 1.0658141e-06, 0.0000000e+00])\n",
      "  message: b'CONVERGENCE: NORM_OF_PROJECTED_GRADIENT_<=_PGTOL'\n",
      "     nfev: 12\n",
      "      nit: 1\n",
      "   status: 0\n",
      "  success: True\n",
      "        x: array([2.11622615, 2.20375565, 1.        ])\n",
      "Poly fit =[-10.78847784  16.08192587  -3.4732974    2.99644717]\n"
     ]
    },
    {
     "data": {
      "text/plain": [
       "[<matplotlib.lines.Line2D at 0x7ff2f19edbd0>]"
      ]
     },
     "execution_count": 95,
     "metadata": {},
     "output_type": "execute_result"
    },
    {
     "data": {
      "image/png": "[encoded data removed]",
      "text/plain": [
       "<Figure size 432x288 with 1 Axes>"
      ]
     },
     "metadata": {
      "needs_background": "light"
     },
     "output_type": "display_data"
    }
   ],
   "source": [
    "philip = h5py.File('/mnt/c/Users/Noah Notis/Dropbox/USRP2020_Noah/src/FDM2020/pics/function_fitting/philip_function/philip_params.h5', 'r')\n",
    "f_inv = 1/np.array(philip['f'])\n",
    "i1term = np.array(philip['i1term'])\n",
    "res = fit_profile_inner(f_inv, i1term)\n",
    "print(res)\n",
    "\n",
    "res_poly = np.polyfit(f_inv, i1term, 3)\n",
    "print('Poly fit =' + str(res_poly))\n",
    "a = res.x[0]\n",
    "b = res.x[1]\n",
    "c = res.x[2]\n",
    "vals = inner_prefact(np.array(philip['f']), a, b, c)\n",
    "plt.scatter(f_inv, i1term, s = 3)\n",
    "plt.plot(f_inv, vals)"
   ]
  },
  {
   "cell_type": "code",
   "execution_count": null,
   "metadata": {},
   "outputs": [],
   "source": []
  }
 ],
 "metadata": {
  "kernelspec": {
   "display_name": "Python 3",
   "language": "python",
   "name": "python3"
  },
  "language_info": {
   "codemirror_mode": {
    "name": "ipython",
    "version": 3
   },
   "file_extension": ".py",
   "mimetype": "text/x-python",
   "name": "python",
   "nbconvert_exporter": "python",
   "pygments_lexer": "ipython3",
   "version": "3.7.6"
  }
 },
 "nbformat": 4,
 "nbformat_minor": 4
}
